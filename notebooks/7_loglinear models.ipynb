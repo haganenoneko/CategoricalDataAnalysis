{
 "cells": [
  {
   "cell_type": "markdown",
   "metadata": {},
   "source": [
    "# 7. Loglinear models for contingency tables and counts\n",
    "\n",
    "- Loglinear models are GLMs for count data \n",
    "- expresses count/rates in terms of categorial or continuous covariates\n",
    "\n",
    "## 7.1 Loglinear models for counts in contingency tables\n",
    "\n",
    "Setting \n",
    "- $(r \\times c)$ contingency tables that categorizes $n$ subjects into response categories $X$ and $Y$ \n",
    "- if $X$ and $Y$ are indep, joint cell probabilities $\\pi_{ij} = P(X=i, Y=j) = P(X=i)P(Y=j) = \\pi_{i,:} \\pi_{:,j}$\n",
    "  - $\\pi_{ij}$ are parameters for multinomial\n",
    "- loglinear models use $\\mu_{ij} = n\\pi_{ij}$ and Poisson distribution\n",
    "- log link function \n",
    "- do not distinguish b/w response and explanatory variables \n",
    "\n",
    "### 7.1.1 Loglinear model of independence for 2-way contingency tables\n",
    "\n",
    "$$\n",
    "\\log \\mu_{ij} = \\lambda + \\lambda_i^X + \\lambda_j^Y\n",
    "$$\n",
    "\n",
    "where \n",
    "- $\\lambda = \\log n$\n",
    "- $\\lambda_i^X = \\log \\pi_{i,:}$ is the row effect of $X$ via row $i$\n",
    "- $\\lambda_j^Y = \\log \\pi_{:,j}$ is the column effect of $Y$ via column $j$\n",
    "- the value of $\\lambda_i \\propto$ expected frequency in i-th row/column\n",
    "- null hypothesis of independence uses expected frequencies from chi-squared tests of independence, \n",
    "  - ie $\\mu_{ij} = n_{i,:}n_{:,j}/n$ \n",
    "\n",
    "Loglinear models do not distinguish between response and explanatory variables\n",
    "- instead, attempts to model solely the cell counts rather than their individual classifications\n",
    "\n",
    "### 7.1.2 Interpretation of parameters in the independence model\n",
    "Take a $r \\times 2$ contingency table. The logit in the $i$-th row is \n",
    "$$\n",
    "\\begin{align}\n",
    "logit[P(Y=1)] &= \\log \\frac{P(Y=1)}{1 - P(Y=1)} \\\\\n",
    "    &= \\log \\frac{\\pi_{i,1}}{\\pi_{i,2}} \\\\\n",
    "    &= (\\lambda + \\lambda_i^X + \\lambda_1^Y) - \n",
    "    (\\lambda + \\lambda_i^X + \\lambda_2^Y) \\\\\n",
    "    &= \\lambda_1^Y - \\lambda_2^Y\n",
    "\\end{align}\n",
    "$$\n",
    "- tHe logit for $Y$ is indep of the level of $X$ \n",
    "- for each row, the odds of response in the $i$-th column is the same "
   ]
  },
  {
   "cell_type": "code",
   "execution_count": 2,
   "metadata": {
    "vscode": {
     "languageId": "r"
    }
   },
   "outputs": [
    {
     "data": {
      "text/html": [
       "<table class=\"dataframe\">\n",
       "<caption>A data.frame: 6 × 3</caption>\n",
       "<thead>\n",
       "\t<tr><th></th><th scope=col>happy</th><th scope=col>heaven</th><th scope=col>count</th></tr>\n",
       "\t<tr><th></th><th scope=col>&lt;fct&gt;</th><th scope=col>&lt;fct&gt;</th><th scope=col>&lt;int&gt;</th></tr>\n",
       "</thead>\n",
       "<tbody>\n",
       "\t<tr><th scope=row>1</th><td>not   </td><td>no </td><td> 32</td></tr>\n",
       "\t<tr><th scope=row>2</th><td>not   </td><td>yes</td><td>190</td></tr>\n",
       "\t<tr><th scope=row>3</th><td>pretty</td><td>no </td><td>113</td></tr>\n",
       "\t<tr><th scope=row>4</th><td>pretty</td><td>yes</td><td>611</td></tr>\n",
       "\t<tr><th scope=row>5</th><td>very  </td><td>no </td><td> 51</td></tr>\n",
       "\t<tr><th scope=row>6</th><td>very  </td><td>yes</td><td>326</td></tr>\n",
       "</tbody>\n",
       "</table>\n"
      ],
      "text/latex": [
       "A data.frame: 6 × 3\n",
       "\\begin{tabular}{r|lll}\n",
       "  & happy & heaven & count\\\\\n",
       "  & <fct> & <fct> & <int>\\\\\n",
       "\\hline\n",
       "\t1 & not    & no  &  32\\\\\n",
       "\t2 & not    & yes & 190\\\\\n",
       "\t3 & pretty & no  & 113\\\\\n",
       "\t4 & pretty & yes & 611\\\\\n",
       "\t5 & very   & no  &  51\\\\\n",
       "\t6 & very   & yes & 326\\\\\n",
       "\\end{tabular}\n"
      ],
      "text/markdown": [
       "\n",
       "A data.frame: 6 × 3\n",
       "\n",
       "| <!--/--> | happy &lt;fct&gt; | heaven &lt;fct&gt; | count &lt;int&gt; |\n",
       "|---|---|---|---|\n",
       "| 1 | not    | no  |  32 |\n",
       "| 2 | not    | yes | 190 |\n",
       "| 3 | pretty | no  | 113 |\n",
       "| 4 | pretty | yes | 611 |\n",
       "| 5 | very   | no  |  51 |\n",
       "| 6 | very   | yes | 326 |\n",
       "\n"
      ],
      "text/plain": [
       "  happy  heaven count\n",
       "1 not    no      32  \n",
       "2 not    yes    190  \n",
       "3 pretty no     113  \n",
       "4 pretty yes    611  \n",
       "5 very   no      51  \n",
       "6 very   yes    326  "
      ]
     },
     "metadata": {},
     "output_type": "display_data"
    }
   ],
   "source": [
    "HappyHeaven <-  read.table(\n",
    "    \"http://users.stat.ufl.edu/~aa/cat/data/HappyHeaven.dat\",\n",
    "    header = TRUE, stringsAsFactors = TRUE)\n",
    "head(HappyHeaven)"
   ]
  },
  {
   "cell_type": "markdown",
   "metadata": {},
   "source": [
    "Let $X$ be happiness rating (not, pretty, very) and $Y$ be whether respondents believed in heaven (yes, no). When fitting a loglinear model, we use a Poisson family, whose canonical link is the log link, so we don't write `family=poisson(link=log)`, as this is implied"
   ]
  },
  {
   "cell_type": "code",
   "execution_count": 3,
   "metadata": {
    "vscode": {
     "languageId": "r"
    }
   },
   "outputs": [
    {
     "data": {
      "text/plain": [
       "\n",
       "Call:\n",
       "glm(formula = count ~ happy + heaven, family = poisson, data = HappyHeaven)\n",
       "\n",
       "Deviance Residuals: \n",
       "       1         2         3         4         5         6  \n",
       "-0.15570   0.06459   0.54947  -0.23152  -0.65897   0.27006  \n",
       "\n",
       "Coefficients:\n",
       "            Estimate Std. Error z value Pr(>|z|)    \n",
       "(Intercept)  3.49313    0.09408   37.13  < 2e-16 ***\n",
       "happypretty  1.18211    0.07672   15.41  < 2e-16 ***\n",
       "happyvery    0.52957    0.08460    6.26 3.86e-10 ***\n",
       "heavenyes    1.74920    0.07739   22.60  < 2e-16 ***\n",
       "---\n",
       "Signif. codes:  0 '***' 0.001 '**' 0.01 '*' 0.05 '.' 0.1 ' ' 1\n",
       "\n",
       "(Dispersion parameter for poisson family taken to be 1)\n",
       "\n",
       "    Null deviance: 1019.87238  on 5  degrees of freedom\n",
       "Residual deviance:    0.89111  on 2  degrees of freedom\n",
       "AIC: 49.504\n",
       "\n",
       "Number of Fisher Scoring iterations: 3\n"
      ]
     },
     "metadata": {},
     "output_type": "display_data"
    }
   ],
   "source": [
    "fit <- glm(count ~ happy + heaven, family=poisson, data=HappyHeaven)\n",
    "summary(fit)"
   ]
  },
  {
   "cell_type": "markdown",
   "metadata": {},
   "source": [
    "The difference in deviances is ~1000, so the equivalent likelihood ratio test would suggest that the model fits well. Note that, for each response, there is one category whose log odds is zero, e.g. $\\lambda_1^Y = 0$ and $\\lambda_2^Y = 1.749$. The odds of belief in heaven was $\\exp(1.749)$ times for each happiness category.\n",
    "\n",
    "### 7.1.4 Saturated model for 2-way contingency tables\n",
    "\n",
    "We can add associations between categorical variables\n",
    "$$\n",
    "\\log \\mu_{ij} = \\lambda + \\lambda_i^X + \\lambda_j^Y + \\lambda_{ij}^{XY}\n",
    "$$\n",
    "These associations are related to the log odds ratio \n",
    "$$\n",
    "\\begin{align}\n",
    "\\log \\theta &= \\log \\frac{\\mu_{11}\\mu_{22}}{\\mu_{12}\\mu_{21}}\\\\\n",
    "&= \\log \\mu_{11} + \\mu_{22} - \\mu_{12} - \\mu_{21} \\\\\n",
    "&= (\\lambda + \\lambda_1^X + \\lambda_1^Y + \\lambda_{11}^{XY}) \\\\\n",
    "&\\quad + (\\lambda + \\lambda_2^X + \\lambda_2^Y + \\lambda_{22}^{XY}) \\\\\n",
    "&\\quad - (\\lambda + \\lambda_1^X + \\lambda_2^Y + \\lambda_{12}^{XY}) \\\\\n",
    "&\\quad - (\\lambda + \\lambda_2^X + \\lambda_1^Y + \\lambda_{21}^{XY}) \\\\\n",
    "&= \\lambda_{11}^{XY} + \\lambda_{22}^{XY} - \\lambda_{12}^{XY} - \\lambda_{21}^{XY}\n",
    "\\end{align}\n",
    "$$\n",
    "\n",
    "A $r \\times c$ contingency table only has $(r-1)(c-1)$ non-redundant parameters (see [Chapter 2 notes](./2_AnalyzingContingencyTables_full.ipynb)). \n",
    "- `R` sets first row and column probabilities to zero, leaving $\\log \\theta = \\lambda_{22}^{XY}$. \n",
    "  - ie chisq tests of indep have $(r-1)(c-1)$ dofs \n",
    "- in addn to the $(r-1)(c-1)$ probabilities above, the model params include\n",
    "  - $\\lambda = \\log n$\n",
    "  - $r-1$ nonredundant $\\lambda_i^X$s and $c-1$ $\\lambda_j^Y$s, ie one per category \n",
    "  - total = $1 + (r-1) + (c-1) + (r-1)(c-1) = rc$ \n",
    "    - ie same number of params as there are cells\n",
    "    - aka **saturated loglinear model**\n",
    "    - deviance = 0, bc models every set of cell counts \n"
   ]
  },
  {
   "cell_type": "code",
   "execution_count": 23,
   "metadata": {
    "vscode": {
     "languageId": "r"
    }
   },
   "outputs": [
    {
     "data": {
      "text/plain": [
       "\n",
       "Call:\n",
       "glm(formula = count ~ happy + heaven + happy:heaven, family = poisson, \n",
       "    data = HappyHeaven)\n",
       "\n",
       "Deviance Residuals: \n",
       "[1]  0  0  0  0  0  0\n",
       "\n",
       "Coefficients:\n",
       "                      Estimate Std. Error z value Pr(>|z|)    \n",
       "(Intercept)            3.46574    0.17678  19.605  < 2e-16 ***\n",
       "happypretty            1.26165    0.20025   6.300 2.97e-10 ***\n",
       "happyvery              0.46609    0.22552   2.067   0.0388 *  \n",
       "heavenyes              1.78129    0.19108   9.322  < 2e-16 ***\n",
       "happypretty:heavenyes -0.09358    0.21679  -0.432   0.6660    \n",
       "happyvery:heavenyes    0.07378    0.24329   0.303   0.7617    \n",
       "---\n",
       "Signif. codes:  0 '***' 0.001 '**' 0.01 '*' 0.05 '.' 0.1 ' ' 1\n",
       "\n",
       "(Dispersion parameter for poisson family taken to be 1)\n",
       "\n",
       "    Null deviance: 1.0199e+03  on 5  degrees of freedom\n",
       "Residual deviance: 2.9532e-14  on 0  degrees of freedom\n",
       "AIC: 52.613\n",
       "\n",
       "Number of Fisher Scoring iterations: 2\n"
      ]
     },
     "metadata": {},
     "output_type": "display_data"
    }
   ],
   "source": [
    "fit2 <- glm(\n",
    "    count ~ happy + heaven + happy:heaven, \n",
    "    family=poisson, data=HappyHeaven\n",
    ")\n",
    "summary(fit2)"
   ]
  },
  {
   "cell_type": "markdown",
   "metadata": {},
   "source": [
    "### 7.1.5 Loglinear models for 3-way contingency tables\n",
    "- may have two-factor association terms, eg $\\lambda_{ik}^{XZ}$ and $\\lambda_{jk}^{YZ}$\n",
    "  - eg. $XZ$ = interactions b/w X and Z for each category of Y\n",
    "- can model conditional indep, e.g. have XY and ZY terms, but not XZ \n",
    "  - ie XZ association after we adjust/condn X and Z on Y \n",
    "- only single factor terms (X, Y, Z) aka *mutual independence model*\n",
    "- model with all 3 2-factor terms: **homogeneous association** \n",
    "  - ie conditional odds ratios b/w any two variables are the same at each category of the third\n",
    "- saturated model also includes 3-factor XYZ term \n",
    "\n",
    "### 7.1.6 2-factor parameters describe conditional associations\n",
    "If we select a partial table $k$ of $Z$, ie for a given category of $Z$, the log odds ratio becomes\n",
    "$$\n",
    "\\log \\theta_{XY(k)} = \\lambda_{22}^{XY}\n",
    "$$\n",
    "following a similar argument as above. \n",
    "- $\\log \\theta$ does not depend on $k$, so is identical for each partial table, ie every category of $Z$ \n",
    "- eg XZ odds ratios are the same for each category of Y, and YZ '...' for X"
   ]
  },
  {
   "cell_type": "code",
   "execution_count": 29,
   "metadata": {
    "vscode": {
     "languageId": "r"
    }
   },
   "outputs": [
    {
     "data": {
      "text/html": [
       "<table class=\"dataframe\">\n",
       "<caption>A data.frame: 6 × 4</caption>\n",
       "<thead>\n",
       "\t<tr><th></th><th scope=col>alcohol</th><th scope=col>cigarettes</th><th scope=col>marijuana</th><th scope=col>count</th></tr>\n",
       "\t<tr><th></th><th scope=col>&lt;fct&gt;</th><th scope=col>&lt;fct&gt;</th><th scope=col>&lt;fct&gt;</th><th scope=col>&lt;int&gt;</th></tr>\n",
       "</thead>\n",
       "<tbody>\n",
       "\t<tr><th scope=row>1</th><td>yes</td><td>yes</td><td>yes</td><td>911</td></tr>\n",
       "\t<tr><th scope=row>2</th><td>yes</td><td>yes</td><td>no </td><td>538</td></tr>\n",
       "\t<tr><th scope=row>3</th><td>yes</td><td>no </td><td>yes</td><td> 44</td></tr>\n",
       "\t<tr><th scope=row>4</th><td>yes</td><td>no </td><td>no </td><td>456</td></tr>\n",
       "\t<tr><th scope=row>5</th><td>no </td><td>yes</td><td>yes</td><td>  3</td></tr>\n",
       "\t<tr><th scope=row>6</th><td>no </td><td>yes</td><td>no </td><td> 43</td></tr>\n",
       "</tbody>\n",
       "</table>\n"
      ],
      "text/latex": [
       "A data.frame: 6 × 4\n",
       "\\begin{tabular}{r|llll}\n",
       "  & alcohol & cigarettes & marijuana & count\\\\\n",
       "  & <fct> & <fct> & <fct> & <int>\\\\\n",
       "\\hline\n",
       "\t1 & yes & yes & yes & 911\\\\\n",
       "\t2 & yes & yes & no  & 538\\\\\n",
       "\t3 & yes & no  & yes &  44\\\\\n",
       "\t4 & yes & no  & no  & 456\\\\\n",
       "\t5 & no  & yes & yes &   3\\\\\n",
       "\t6 & no  & yes & no  &  43\\\\\n",
       "\\end{tabular}\n"
      ],
      "text/markdown": [
       "\n",
       "A data.frame: 6 × 4\n",
       "\n",
       "| <!--/--> | alcohol &lt;fct&gt; | cigarettes &lt;fct&gt; | marijuana &lt;fct&gt; | count &lt;int&gt; |\n",
       "|---|---|---|---|---|\n",
       "| 1 | yes | yes | yes | 911 |\n",
       "| 2 | yes | yes | no  | 538 |\n",
       "| 3 | yes | no  | yes |  44 |\n",
       "| 4 | yes | no  | no  | 456 |\n",
       "| 5 | no  | yes | yes |   3 |\n",
       "| 6 | no  | yes | no  |  43 |\n",
       "\n"
      ],
      "text/plain": [
       "  alcohol cigarettes marijuana count\n",
       "1 yes     yes        yes       911  \n",
       "2 yes     yes        no        538  \n",
       "3 yes     no         yes        44  \n",
       "4 yes     no         no        456  \n",
       "5 no      yes        yes         3  \n",
       "6 no      yes        no         43  "
      ]
     },
     "metadata": {},
     "output_type": "display_data"
    }
   ],
   "source": [
    "Drugs <- read.table(\"http://users.stat.ufl.edu/~aa/cat/data/Substance.dat\",\n",
    "                        header = TRUE, stringsAsFactors = TRUE)\n",
    "\n",
    "head(Drugs)                       "
   ]
  },
  {
   "cell_type": "markdown",
   "metadata": {},
   "source": [
    "2x2x2 contingency table with \n",
    "- A = alcohol use\n",
    "- C = cigarette use\n",
    "- M = marijuana use \n",
    "\n",
    "We fit the following models\n",
    "- (A, C, M) = only single factor terms\n",
    "- (AM, CM) = A and C are conditionally independent, given M\n",
    "- (AC, AM, CM) = 3-way independent\n",
    "- (ACM) = saturated"
   ]
  },
  {
   "cell_type": "code",
   "execution_count": 30,
   "metadata": {
    "vscode": {
     "languageId": "r"
    }
   },
   "outputs": [
    {
     "data": {
      "text/html": [
       "<table class=\"dataframe\">\n",
       "<caption>A data.frame: 6 × 4</caption>\n",
       "<thead>\n",
       "\t<tr><th></th><th scope=col>A</th><th scope=col>C</th><th scope=col>M</th><th scope=col>count</th></tr>\n",
       "\t<tr><th></th><th scope=col>&lt;fct&gt;</th><th scope=col>&lt;fct&gt;</th><th scope=col>&lt;fct&gt;</th><th scope=col>&lt;int&gt;</th></tr>\n",
       "</thead>\n",
       "<tbody>\n",
       "\t<tr><th scope=row>1</th><td>yes</td><td>yes</td><td>yes</td><td>911</td></tr>\n",
       "\t<tr><th scope=row>2</th><td>yes</td><td>yes</td><td>no </td><td>538</td></tr>\n",
       "\t<tr><th scope=row>3</th><td>yes</td><td>no </td><td>yes</td><td> 44</td></tr>\n",
       "\t<tr><th scope=row>4</th><td>yes</td><td>no </td><td>no </td><td>456</td></tr>\n",
       "\t<tr><th scope=row>5</th><td>no </td><td>yes</td><td>yes</td><td>  3</td></tr>\n",
       "\t<tr><th scope=row>6</th><td>no </td><td>yes</td><td>no </td><td> 43</td></tr>\n",
       "</tbody>\n",
       "</table>\n"
      ],
      "text/latex": [
       "A data.frame: 6 × 4\n",
       "\\begin{tabular}{r|llll}\n",
       "  & A & C & M & count\\\\\n",
       "  & <fct> & <fct> & <fct> & <int>\\\\\n",
       "\\hline\n",
       "\t1 & yes & yes & yes & 911\\\\\n",
       "\t2 & yes & yes & no  & 538\\\\\n",
       "\t3 & yes & no  & yes &  44\\\\\n",
       "\t4 & yes & no  & no  & 456\\\\\n",
       "\t5 & no  & yes & yes &   3\\\\\n",
       "\t6 & no  & yes & no  &  43\\\\\n",
       "\\end{tabular}\n"
      ],
      "text/markdown": [
       "\n",
       "A data.frame: 6 × 4\n",
       "\n",
       "| <!--/--> | A &lt;fct&gt; | C &lt;fct&gt; | M &lt;fct&gt; | count &lt;int&gt; |\n",
       "|---|---|---|---|---|\n",
       "| 1 | yes | yes | yes | 911 |\n",
       "| 2 | yes | yes | no  | 538 |\n",
       "| 3 | yes | no  | yes |  44 |\n",
       "| 4 | yes | no  | no  | 456 |\n",
       "| 5 | no  | yes | yes |   3 |\n",
       "| 6 | no  | yes | no  |  43 |\n",
       "\n"
      ],
      "text/plain": [
       "  A   C   M   count\n",
       "1 yes yes yes 911  \n",
       "2 yes yes no  538  \n",
       "3 yes no  yes  44  \n",
       "4 yes no  no  456  \n",
       "5 no  yes yes   3  \n",
       "6 no  yes no   43  "
      ]
     },
     "metadata": {},
     "output_type": "display_data"
    }
   ],
   "source": [
    "library(dplyr)\n",
    "\n",
    "Drugs <- Drugs %>% \n",
    "  rename(A = \"alcohol\") %>% \n",
    "  rename(C = \"cigarettes\") %>% \n",
    "  rename(M = \"marijuana\")\n",
    "\n",
    "head(Drugs)"
   ]
  },
  {
   "cell_type": "code",
   "execution_count": 32,
   "metadata": {
    "vscode": {
     "languageId": "r"
    }
   },
   "outputs": [],
   "source": [
    "A_C_M <- glm(\n",
    "    count ~ A+C+M, family=poisson, data=Drugs\n",
    ")\n",
    "AM_CM <- glm(\n",
    "    count ~ A+C+M + A:M + C:M, family=poisson, data=Drugs\n",
    ")\n",
    "AC_AM_CM <- glm(\n",
    "    count ~ A+C+M + A:M + C:M + A:C, family=poisson, data=Drugs\n",
    ")\n",
    "ACM <- glm(\n",
    "    count ~ A+C+M + A:M + C:M + A:C + A:C:M, family=poisson, data=Drugs\n",
    ")"
   ]
  },
  {
   "cell_type": "code",
   "execution_count": 34,
   "metadata": {
    "vscode": {
     "languageId": "r"
    }
   },
   "outputs": [
    {
     "data": {
      "text/plain": [
       "\n",
       "\n",
       "|Alcohol |Cigarettes |Marijuana | (A, C, M)| (AM, CM)| (AC, AM, CM)| (ACM)|\n",
       "|:-------|:----------|:---------|---------:|--------:|------------:|-----:|\n",
       "|Yes     |Yes        |Yes       |     540.0|   909.24|        910.4|   911|\n",
       "|        |           |No        |     740.2|   438.84|        538.6|   538|\n",
       "|        |No         |Yes       |     282.1|    45.76|         44.6|    44|\n",
       "|        |           |No        |     386.7|   555.16|        455.4|   456|\n",
       "|No      |Yes        |Yes       |      90.6|     4.76|          3.6|     3|\n",
       "|        |           |No        |     124.2|   142.16|         42.4|    43|\n",
       "|        |No         |Yes       |      47.3|     0.24|          1.4|     2|\n",
       "|        |           |No        |      64.9|   179.84|        279.6|   279|"
      ]
     },
     "metadata": {},
     "output_type": "display_data"
    }
   ],
   "source": [
    "\n",
    "get_results <- function (FIT, NDIGITS=1, DATA=Drugs) {\n",
    "    df <- round(exp(predict(\n",
    "        FIT, data.frame(DATA)\n",
    "    )), NDIGITS)\n",
    "    return(df)\n",
    "}\n",
    "\n",
    "`(A_C_M)` <- get_results(A_C_M)\n",
    "`(AM, CM)` <- get_results(AM_CM, NDIGITS=2)\n",
    "`(AC_AM_CM)` <- get_results(AC_AM_CM)\n",
    "`(ACM)` <- get_results(ACM)\n",
    "\n",
    "`Table 7.2` <- bind_cols(\n",
    "    `Alcohol` = c(\"Yes\", rep(\"\", 3), \"No\", rep(\"\", 3)),\n",
    "    `Cigarettes` = rep(c(\"Yes\", \"\", \"No\", \"\"), 2), \n",
    "    `Marijuana` = rep(c(\"Yes\", \"No\"), 4),\n",
    "    `(A, C, M)` = `(A_C_M)`,\n",
    "    `(AM, CM)` = `(AM, CM)`,\n",
    "    `(AC, AM, CM)` = `(AC_AM_CM)`,\n",
    "    `(ACM)` = `(ACM)`\n",
    ")\n",
    "\n",
    "library(knitr)\n",
    "knitr::kable(`Table 7.2`)"
   ]
  },
  {
   "cell_type": "markdown",
   "metadata": {},
   "source": [
    "A marginal odds ratio ignores the third factor, whereas conditional odds ratio adjust for it, e.g. the AC conditional odds ratio for model $(AM, CM)$ is the $AC$ odds ratio for each category of $M$ \n",
    "\n",
    "\n",
    "| Alcohol | Cigarettes | (AM, CM) |\n",
    "| ------- | ---------- | -------- |\n",
    "| Yes     | Yes        | 909.24        |\n",
    "| .       | No         | 45.76        |\n",
    "| No      | Yes        | 4.76        |\n",
    "| .       | No         | 0.24        |\n",
    "\n",
    "$$\\theta^{(AM, CM)}_{AC \\mid M} = \\frac{909.24(0.24)}{45.76(4.76)}$$\n",
    "\n",
    "However, the marginal table for $AC$ would sum over the values of $M$:\n",
    "\n",
    "| Alcohol | Cigarettes | (AM, CM) |\n",
    "| ------- | ---------- | -------- |\n",
    "| Yes     | Yes        | 909.24+438.84        |\n",
    "| .       | No         | 45.76+555.16        |\n",
    "| No      | Yes        | 4.76+142.16        |\n",
    "| .       | No         | 0.24+179.84        |\n",
    "\n",
    "The marginal association of $AC$ would thus be different."
   ]
  },
  {
   "cell_type": "code",
   "execution_count": 37,
   "metadata": {
    "vscode": {
     "languageId": "r"
    }
   },
   "outputs": [],
   "source": [
    "parse_fit_coefs <- function (FIT, COLS, NDIGITS=1) {\n",
    "    return(round(exp(coef(FIT)[COLS]), 1))\n",
    "}"
   ]
  },
  {
   "cell_type": "code",
   "execution_count": 38,
   "metadata": {
    "vscode": {
     "languageId": "r"
    }
   },
   "outputs": [],
   "source": [
    "line2 <- parse_fit_coefs(\n",
    "    AM_CM, c(\"Ayes:Myes\", \"Cyes:Myes\")\n",
    ")\n",
    "line3 <- parse_fit_coefs(\n",
    "    AC_AM_CM, c(\"Ayes:Cyes\", \"Ayes:Myes\", \"Cyes:Myes\"),\n",
    ")\n",
    "line4 <- parse_fit_coefs(\n",
    "    ACM, c(\"Ayes:Cyes\", \"Ayes:Myes\", \"Cyes:Myes\")\n",
    ")"
   ]
  },
  {
   "cell_type": "code",
   "execution_count": 42,
   "metadata": {
    "vscode": {
     "languageId": "r"
    }
   },
   "outputs": [
    {
     "data": {
      "text/plain": [
       "\n",
       "\n",
       "|Model        |  AC|   AM|   CM|\n",
       "|:------------|---:|----:|----:|\n",
       "|(A, C, M)    | 1.0|  1.0|  1.0|\n",
       "|(AM, CM)     | 1.0| 61.9| 25.1|\n",
       "|(AC, AM, CM) | 7.8| 19.8| 17.3|\n",
       "|(ACM)        | 7.7| 13.5|  9.7|"
      ]
     },
     "metadata": {},
     "output_type": "display_data"
    }
   ],
   "source": [
    "`Table 7.3` <- bind_cols(\n",
    "    Model = c(\"(A, C, M)\", \"(AM, CM)\", \"(AC, AM, CM)\", \"(ACM)\"), \n",
    "    matrix(\n",
    "        c(\n",
    "            rep(1.0, 3), \n",
    "            1.0, line2[\"Ayes:Myes\"], line2[\"Cyes:Myes\"],\n",
    "            line3[\"Ayes:Cyes\"], line3[\"Ayes:Myes\"], line3[\"Cyes:Myes\"],\n",
    "            line4[\"Ayes:Cyes\"], line4[\"Ayes:Myes\"], line4[\"Cyes:Myes\"]\n",
    "        ), \n",
    "        ncol=3, byrow=T, dimnames=list(NULL, c(\"AC\", \"AM\", \"CM\"))\n",
    "    )\n",
    ")\n",
    "\n",
    "knitr::kable(`Table 7.3`)"
   ]
  },
  {
   "cell_type": "markdown",
   "metadata": {},
   "source": [
    "Note that the conditional odds ratio for $AC$ for model $(AM, CM)$ is 1.0. This makes sense, b/c this model assumes $A$ and $C$ are conditionally independent, given $M$, and thus does not have an $AC$ term. \n",
    "- ie conditional odds ratios = 1.0 for all interaction terms that do not appear in a model \n",
    "\n",
    "As shown above, this is different from the marginal associations, which require marginalizing/summing values for each category of $M$. \n",
    "- ie **conditional independence does not imply marginal independence**"
   ]
  },
  {
   "cell_type": "code",
   "execution_count": 47,
   "metadata": {
    "vscode": {
     "languageId": "r"
    }
   },
   "outputs": [
    {
     "data": {
      "text/plain": [
       "\n",
       "Call:\n",
       "glm(formula = count ~ A + C + M + A:M + C:M + A:C, family = poisson, \n",
       "    data = Drugs)\n",
       "\n",
       "Deviance Residuals: \n",
       "       1         2         3         4         5         6         7         8  \n",
       " 0.02044  -0.02658  -0.09256   0.02890  -0.33428   0.09452   0.49134  -0.03690  \n",
       "\n",
       "Coefficients:\n",
       "            Estimate Std. Error z value Pr(>|z|)    \n",
       "(Intercept)  5.63342    0.05970  94.361  < 2e-16 ***\n",
       "Ayes         0.48772    0.07577   6.437 1.22e-10 ***\n",
       "Cyes        -1.88667    0.16270 -11.596  < 2e-16 ***\n",
       "Myes        -5.30904    0.47520 -11.172  < 2e-16 ***\n",
       "Ayes:Myes    2.98601    0.46468   6.426 1.31e-10 ***\n",
       "Cyes:Myes    2.84789    0.16384  17.382  < 2e-16 ***\n",
       "Ayes:Cyes    2.05453    0.17406  11.803  < 2e-16 ***\n",
       "---\n",
       "Signif. codes:  0 '***' 0.001 '**' 0.01 '*' 0.05 '.' 0.1 ' ' 1\n",
       "\n",
       "(Dispersion parameter for poisson family taken to be 1)\n",
       "\n",
       "    Null deviance: 2851.46098  on 7  degrees of freedom\n",
       "Residual deviance:    0.37399  on 1  degrees of freedom\n",
       "AIC: 63.417\n",
       "\n",
       "Number of Fisher Scoring iterations: 4\n"
      ]
     },
     "metadata": {},
     "output_type": "display_data"
    }
   ],
   "source": [
    "summary(AC_AM_CM)"
   ]
  },
  {
   "cell_type": "markdown",
   "metadata": {},
   "source": [
    "Note how the coefficient for `Ayes:Cyes` is 2.054, which is exactly the conditioanl odds ratio we found in Table 7.2 above. This is bc\n",
    "$$\n",
    "\\log \\theta_{XY} = \\lambda_{22}^{XY}\n",
    "$$\n",
    "for any $XY$, for models such as $(AC, AM, CM)$ or simpler ones. "
   ]
  },
  {
   "cell_type": "markdown",
   "metadata": {},
   "source": [
    "## 7.2 Statistical inference for loglinear models\n",
    "- goodness of fit stats like chisq only give global indications of lack of fit\n",
    "- cell residuals show fit quality per cell, ie can use standardized residuals"
   ]
  },
  {
   "cell_type": "code",
   "execution_count": 48,
   "metadata": {
    "vscode": {
     "languageId": "r"
    }
   },
   "outputs": [
    {
     "data": {
      "text/html": [
       "187.754302906315"
      ],
      "text/latex": [
       "187.754302906315"
      ],
      "text/markdown": [
       "187.754302906315"
      ],
      "text/plain": [
       "[1] 187.7543"
      ]
     },
     "metadata": {},
     "output_type": "display_data"
    },
    {
     "data": {
      "text/html": [
       "0.37398587014237"
      ],
      "text/latex": [
       "0.37398587014237"
      ],
      "text/markdown": [
       "0.37398587014237"
      ],
      "text/plain": [
       "[1] 0.3739859"
      ]
     },
     "metadata": {},
     "output_type": "display_data"
    }
   ],
   "source": [
    "deviance(AM_CM); deviance(AC_AM_CM)"
   ]
  },
  {
   "cell_type": "code",
   "execution_count": 49,
   "metadata": {
    "vscode": {
     "languageId": "r"
    }
   },
   "outputs": [
    {
     "data": {
      "text/html": [
       "<table class=\"dataframe\">\n",
       "<caption>A data.frame: 8 × 8</caption>\n",
       "<thead>\n",
       "\t<tr><th></th><th scope=col>Drugs.A</th><th scope=col>Drugs.C</th><th scope=col>Drugs.M</th><th scope=col>Drugs.count</th><th scope=col>fitted.AM_CM.</th><th scope=col>res</th><th scope=col>fitted.AC_AM_CM.</th><th scope=col>res2</th></tr>\n",
       "\t<tr><th></th><th scope=col>&lt;fct&gt;</th><th scope=col>&lt;fct&gt;</th><th scope=col>&lt;fct&gt;</th><th scope=col>&lt;int&gt;</th><th scope=col>&lt;dbl&gt;</th><th scope=col>&lt;dbl&gt;</th><th scope=col>&lt;dbl&gt;</th><th scope=col>&lt;dbl&gt;</th></tr>\n",
       "</thead>\n",
       "<tbody>\n",
       "\t<tr><th scope=row>1</th><td>yes</td><td>yes</td><td>yes</td><td>911</td><td>909.2395833</td><td>  3.695518</td><td>910.38317</td><td> 0.6333249</td></tr>\n",
       "\t<tr><th scope=row>2</th><td>yes</td><td>yes</td><td>no </td><td>538</td><td>438.8404255</td><td> 12.804588</td><td>538.61683</td><td>-0.6333249</td></tr>\n",
       "\t<tr><th scope=row>3</th><td>yes</td><td>no </td><td>yes</td><td> 44</td><td> 45.7604167</td><td> -3.695518</td><td> 44.61683</td><td>-0.6333249</td></tr>\n",
       "\t<tr><th scope=row>4</th><td>yes</td><td>no </td><td>no </td><td>456</td><td>555.1595745</td><td>-12.804588</td><td>455.38317</td><td> 0.6333249</td></tr>\n",
       "\t<tr><th scope=row>5</th><td>no </td><td>yes</td><td>yes</td><td>  3</td><td>  4.7604167</td><td> -3.695589</td><td>  3.61683</td><td>-0.6333250</td></tr>\n",
       "\t<tr><th scope=row>6</th><td>no </td><td>yes</td><td>no </td><td> 43</td><td>142.1595745</td><td>-12.804589</td><td> 42.38317</td><td> 0.6333249</td></tr>\n",
       "\t<tr><th scope=row>7</th><td>no </td><td>no </td><td>yes</td><td>  2</td><td>  0.2395833</td><td>  3.695589</td><td>  1.38317</td><td> 0.6333250</td></tr>\n",
       "\t<tr><th scope=row>8</th><td>no </td><td>no </td><td>no </td><td>279</td><td>179.8404255</td><td> 12.804589</td><td>279.61683</td><td>-0.6333249</td></tr>\n",
       "</tbody>\n",
       "</table>\n"
      ],
      "text/latex": [
       "A data.frame: 8 × 8\n",
       "\\begin{tabular}{r|llllllll}\n",
       "  & Drugs.A & Drugs.C & Drugs.M & Drugs.count & fitted.AM\\_CM. & res & fitted.AC\\_AM\\_CM. & res2\\\\\n",
       "  & <fct> & <fct> & <fct> & <int> & <dbl> & <dbl> & <dbl> & <dbl>\\\\\n",
       "\\hline\n",
       "\t1 & yes & yes & yes & 911 & 909.2395833 &   3.695518 & 910.38317 &  0.6333249\\\\\n",
       "\t2 & yes & yes & no  & 538 & 438.8404255 &  12.804588 & 538.61683 & -0.6333249\\\\\n",
       "\t3 & yes & no  & yes &  44 &  45.7604167 &  -3.695518 &  44.61683 & -0.6333249\\\\\n",
       "\t4 & yes & no  & no  & 456 & 555.1595745 & -12.804588 & 455.38317 &  0.6333249\\\\\n",
       "\t5 & no  & yes & yes &   3 &   4.7604167 &  -3.695589 &   3.61683 & -0.6333250\\\\\n",
       "\t6 & no  & yes & no  &  43 & 142.1595745 & -12.804589 &  42.38317 &  0.6333249\\\\\n",
       "\t7 & no  & no  & yes &   2 &   0.2395833 &   3.695589 &   1.38317 &  0.6333250\\\\\n",
       "\t8 & no  & no  & no  & 279 & 179.8404255 &  12.804589 & 279.61683 & -0.6333249\\\\\n",
       "\\end{tabular}\n"
      ],
      "text/markdown": [
       "\n",
       "A data.frame: 8 × 8\n",
       "\n",
       "| <!--/--> | Drugs.A &lt;fct&gt; | Drugs.C &lt;fct&gt; | Drugs.M &lt;fct&gt; | Drugs.count &lt;int&gt; | fitted.AM_CM. &lt;dbl&gt; | res &lt;dbl&gt; | fitted.AC_AM_CM. &lt;dbl&gt; | res2 &lt;dbl&gt; |\n",
       "|---|---|---|---|---|---|---|---|---|\n",
       "| 1 | yes | yes | yes | 911 | 909.2395833 |   3.695518 | 910.38317 |  0.6333249 |\n",
       "| 2 | yes | yes | no  | 538 | 438.8404255 |  12.804588 | 538.61683 | -0.6333249 |\n",
       "| 3 | yes | no  | yes |  44 |  45.7604167 |  -3.695518 |  44.61683 | -0.6333249 |\n",
       "| 4 | yes | no  | no  | 456 | 555.1595745 | -12.804588 | 455.38317 |  0.6333249 |\n",
       "| 5 | no  | yes | yes |   3 |   4.7604167 |  -3.695589 |   3.61683 | -0.6333250 |\n",
       "| 6 | no  | yes | no  |  43 | 142.1595745 | -12.804589 |  42.38317 |  0.6333249 |\n",
       "| 7 | no  | no  | yes |   2 |   0.2395833 |   3.695589 |   1.38317 |  0.6333250 |\n",
       "| 8 | no  | no  | no  | 279 | 179.8404255 |  12.804589 | 279.61683 | -0.6333249 |\n",
       "\n"
      ],
      "text/plain": [
       "  Drugs.A Drugs.C Drugs.M Drugs.count fitted.AM_CM. res        fitted.AC_AM_CM.\n",
       "1 yes     yes     yes     911         909.2395833     3.695518 910.38317       \n",
       "2 yes     yes     no      538         438.8404255    12.804588 538.61683       \n",
       "3 yes     no      yes      44          45.7604167    -3.695518  44.61683       \n",
       "4 yes     no      no      456         555.1595745   -12.804588 455.38317       \n",
       "5 no      yes     yes       3           4.7604167    -3.695589   3.61683       \n",
       "6 no      yes     no       43         142.1595745   -12.804589  42.38317       \n",
       "7 no      no      yes       2           0.2395833     3.695589   1.38317       \n",
       "8 no      no      no      279         179.8404255    12.804589 279.61683       \n",
       "  res2      \n",
       "1  0.6333249\n",
       "2 -0.6333249\n",
       "3 -0.6333249\n",
       "4  0.6333249\n",
       "5 -0.6333250\n",
       "6  0.6333249\n",
       "7  0.6333250\n",
       "8 -0.6333249"
      ]
     },
     "metadata": {},
     "output_type": "display_data"
    }
   ],
   "source": [
    "res <- rstandard(AM_CM, type=\"pearson\")\n",
    "res2 <- rstandard(AC_AM_CM, type=\"pearson\")\n",
    "data.frame(\n",
    "    Drugs$A, Drugs$C, Drugs$M, Drugs$count, \n",
    "    fitted(AM_CM), res, \n",
    "    fitted(AC_AM_CM), res2\n",
    ")"
   ]
  },
  {
   "cell_type": "markdown",
   "metadata": {},
   "source": [
    "The (AM, CM) model assumes A and C are conditionally indep\n",
    "- 2 dofs, which explains why there are 2 nonredundant standardized residuals (3.7, 12.8)\n",
    "- large positive residual when both A and C are yes or no\n",
    "  - ie more students used both AC or neither AC than expected if usage of A or C were conditionally independent\n",
    "- large negative residual when A and C don't match\n",
    "  - ie less students used A, but not C, or vice versa, than expected if the usage of A and C were conditionally independent\n",
    "\n",
    "We can test whether a specific term is needed by comparing the deviances of models with and without the term. "
   ]
  },
  {
   "cell_type": "code",
   "execution_count": 63,
   "metadata": {
    "vscode": {
     "languageId": "r"
    }
   },
   "outputs": [
    {
     "data": {
      "text/html": [
       "187.754302906315"
      ],
      "text/latex": [
       "187.754302906315"
      ],
      "text/markdown": [
       "187.754302906315"
      ],
      "text/plain": [
       "[1] 187.7543"
      ]
     },
     "metadata": {},
     "output_type": "display_data"
    },
    {
     "data": {
      "text/html": [
       "0.37398587014237"
      ],
      "text/latex": [
       "0.37398587014237"
      ],
      "text/markdown": [
       "0.37398587014237"
      ],
      "text/plain": [
       "[1] 0.3739859"
      ]
     },
     "metadata": {},
     "output_type": "display_data"
    },
    {
     "data": {
      "text/html": [
       "<table class=\"dataframe\">\n",
       "<caption>A anova: 6 × 3</caption>\n",
       "<thead>\n",
       "\t<tr><th></th><th scope=col>LR Chisq</th><th scope=col>Df</th><th scope=col>Pr(&gt;Chisq)</th></tr>\n",
       "\t<tr><th></th><th scope=col>&lt;dbl&gt;</th><th scope=col>&lt;dbl&gt;</th><th scope=col>&lt;dbl&gt;</th></tr>\n",
       "</thead>\n",
       "<tbody>\n",
       "\t<tr><th scope=row>A</th><td>1281.71373</td><td>1</td><td>1.064401e-280</td></tr>\n",
       "\t<tr><th scope=row>C</th><td> 227.81432</td><td>1</td><td> 1.786535e-51</td></tr>\n",
       "\t<tr><th scope=row>M</th><td>  55.91296</td><td>1</td><td> 7.575145e-14</td></tr>\n",
       "\t<tr><th scope=row>A:M</th><td>  91.64437</td><td>1</td><td> 1.037404e-21</td></tr>\n",
       "\t<tr><th scope=row>C:M</th><td> 496.99529</td><td>1</td><td>4.282907e-110</td></tr>\n",
       "\t<tr><th scope=row>A:C</th><td> 187.38032</td><td>1</td><td> 1.186237e-42</td></tr>\n",
       "</tbody>\n",
       "</table>\n"
      ],
      "text/latex": [
       "A anova: 6 × 3\n",
       "\\begin{tabular}{r|lll}\n",
       "  & LR Chisq & Df & Pr(>Chisq)\\\\\n",
       "  & <dbl> & <dbl> & <dbl>\\\\\n",
       "\\hline\n",
       "\tA & 1281.71373 & 1 & 1.064401e-280\\\\\n",
       "\tC &  227.81432 & 1 &  1.786535e-51\\\\\n",
       "\tM &   55.91296 & 1 &  7.575145e-14\\\\\n",
       "\tA:M &   91.64437 & 1 &  1.037404e-21\\\\\n",
       "\tC:M &  496.99529 & 1 & 4.282907e-110\\\\\n",
       "\tA:C &  187.38032 & 1 &  1.186237e-42\\\\\n",
       "\\end{tabular}\n"
      ],
      "text/markdown": [
       "\n",
       "A anova: 6 × 3\n",
       "\n",
       "| <!--/--> | LR Chisq &lt;dbl&gt; | Df &lt;dbl&gt; | Pr(&gt;Chisq) &lt;dbl&gt; |\n",
       "|---|---|---|---|\n",
       "| A | 1281.71373 | 1 | 1.064401e-280 |\n",
       "| C |  227.81432 | 1 |  1.786535e-51 |\n",
       "| M |   55.91296 | 1 |  7.575145e-14 |\n",
       "| A:M |   91.64437 | 1 |  1.037404e-21 |\n",
       "| C:M |  496.99529 | 1 | 4.282907e-110 |\n",
       "| A:C |  187.38032 | 1 |  1.186237e-42 |\n",
       "\n"
      ],
      "text/plain": [
       "    LR Chisq   Df Pr(>Chisq)   \n",
       "A   1281.71373 1  1.064401e-280\n",
       "C    227.81432 1   1.786535e-51\n",
       "M     55.91296 1   7.575145e-14\n",
       "A:M   91.64437 1   1.037404e-21\n",
       "C:M  496.99529 1  4.282907e-110\n",
       "A:C  187.38032 1   1.186237e-42"
      ]
     },
     "metadata": {},
     "output_type": "display_data"
    }
   ],
   "source": [
    "library(car)\n",
    "deviance(AM_CM); deviance(AC_AM_CM)\n",
    "Anova(AC_AM_CM)"
   ]
  },
  {
   "cell_type": "markdown",
   "metadata": {},
   "source": [
    "Confidence intervals\n",
    "- when the highest-order terms are 2-factor associations, estimated coefficients correspond to conditional log odds ratios"
   ]
  },
  {
   "cell_type": "code",
   "execution_count": 64,
   "metadata": {
    "vscode": {
     "languageId": "r"
    }
   },
   "outputs": [
    {
     "name": "stderr",
     "output_type": "stream",
     "text": [
      "Waiting for profiling to be done...\n",
      "\n"
     ]
    },
    {
     "data": {
      "text/html": [
       "<table class=\"dataframe\">\n",
       "<caption>A matrix: 7 × 2 of type dbl</caption>\n",
       "<thead>\n",
       "\t<tr><th></th><th scope=col>2.5 %</th><th scope=col>97.5 %</th></tr>\n",
       "</thead>\n",
       "<tbody>\n",
       "\t<tr><th scope=row>(Intercept)</th><td>2.481623e+02</td><td>313.62395491</td></tr>\n",
       "\t<tr><th scope=row>Ayes</th><td>1.404993e+00</td><td>  1.89112888</td></tr>\n",
       "\t<tr><th scope=row>Cyes</th><td>1.087964e-01</td><td>  0.20616472</td></tr>\n",
       "\t<tr><th scope=row>Myes</th><td>1.700562e-03</td><td>  0.01136462</td></tr>\n",
       "\t<tr><th scope=row>Ayes:Myes</th><td>8.814046e+00</td><td> 56.64359514</td></tr>\n",
       "\t<tr><th scope=row>Cyes:Myes</th><td>1.264576e+01</td><td> 24.06925090</td></tr>\n",
       "\t<tr><th scope=row>Ayes:Cyes</th><td>5.601452e+00</td><td> 11.09714777</td></tr>\n",
       "</tbody>\n",
       "</table>\n"
      ],
      "text/latex": [
       "A matrix: 7 × 2 of type dbl\n",
       "\\begin{tabular}{r|ll}\n",
       "  & 2.5 \\% & 97.5 \\%\\\\\n",
       "\\hline\n",
       "\t(Intercept) & 2.481623e+02 & 313.62395491\\\\\n",
       "\tAyes & 1.404993e+00 &   1.89112888\\\\\n",
       "\tCyes & 1.087964e-01 &   0.20616472\\\\\n",
       "\tMyes & 1.700562e-03 &   0.01136462\\\\\n",
       "\tAyes:Myes & 8.814046e+00 &  56.64359514\\\\\n",
       "\tCyes:Myes & 1.264576e+01 &  24.06925090\\\\\n",
       "\tAyes:Cyes & 5.601452e+00 &  11.09714777\\\\\n",
       "\\end{tabular}\n"
      ],
      "text/markdown": [
       "\n",
       "A matrix: 7 × 2 of type dbl\n",
       "\n",
       "| <!--/--> | 2.5 % | 97.5 % |\n",
       "|---|---|---|\n",
       "| (Intercept) | 2.481623e+02 | 313.62395491 |\n",
       "| Ayes | 1.404993e+00 |   1.89112888 |\n",
       "| Cyes | 1.087964e-01 |   0.20616472 |\n",
       "| Myes | 1.700562e-03 |   0.01136462 |\n",
       "| Ayes:Myes | 8.814046e+00 |  56.64359514 |\n",
       "| Cyes:Myes | 1.264576e+01 |  24.06925090 |\n",
       "| Ayes:Cyes | 5.601452e+00 |  11.09714777 |\n",
       "\n"
      ],
      "text/plain": [
       "            2.5 %        97.5 %      \n",
       "(Intercept) 2.481623e+02 313.62395491\n",
       "Ayes        1.404993e+00   1.89112888\n",
       "Cyes        1.087964e-01   0.20616472\n",
       "Myes        1.700562e-03   0.01136462\n",
       "Ayes:Myes   8.814046e+00  56.64359514\n",
       "Cyes:Myes   1.264576e+01  24.06925090\n",
       "Ayes:Cyes   5.601452e+00  11.09714777"
      ]
     },
     "metadata": {},
     "output_type": "display_data"
    }
   ],
   "source": [
    "exp(confint(AC_AM_CM))"
   ]
  },
  {
   "cell_type": "markdown",
   "metadata": {},
   "source": [
    "The table above shows 95% profile likelihood CIs. \n",
    "- eg `Ayes:Myes` $\\in [8.8, 56.6]$ implies that, for each category of $C$ (cigarette usage), the estimated odds of alcohol is 8-56x greater for those who have smoke marijuana versus those who haven't, indicating strong positive conditional association b/w $A$ and $M$ \n",
    "- the AC odds also has strong positive association\n",
    "- ie strong tendency for users of one to use another, whether or not they use the third "
   ]
  },
  {
   "cell_type": "code",
   "execution_count": 65,
   "metadata": {
    "vscode": {
     "languageId": "r"
    }
   },
   "outputs": [
    {
     "data": {
      "text/html": [
       "<table class=\"dataframe\">\n",
       "<caption>A data.frame: 6 × 5</caption>\n",
       "<thead>\n",
       "\t<tr><th></th><th scope=col>gender</th><th scope=col>location</th><th scope=col>seatbelt</th><th scope=col>injury</th><th scope=col>count</th></tr>\n",
       "\t<tr><th></th><th scope=col>&lt;fct&gt;</th><th scope=col>&lt;fct&gt;</th><th scope=col>&lt;fct&gt;</th><th scope=col>&lt;fct&gt;</th><th scope=col>&lt;int&gt;</th></tr>\n",
       "</thead>\n",
       "<tbody>\n",
       "\t<tr><th scope=row>1</th><td>female</td><td>rural</td><td>no </td><td>no </td><td>3246</td></tr>\n",
       "\t<tr><th scope=row>2</th><td>female</td><td>rural</td><td>no </td><td>yes</td><td> 973</td></tr>\n",
       "\t<tr><th scope=row>3</th><td>female</td><td>rural</td><td>yes</td><td>no </td><td>6134</td></tr>\n",
       "\t<tr><th scope=row>4</th><td>female</td><td>rural</td><td>yes</td><td>yes</td><td> 757</td></tr>\n",
       "\t<tr><th scope=row>5</th><td>female</td><td>urban</td><td>no </td><td>no </td><td>7287</td></tr>\n",
       "\t<tr><th scope=row>6</th><td>female</td><td>urban</td><td>no </td><td>yes</td><td> 996</td></tr>\n",
       "</tbody>\n",
       "</table>\n"
      ],
      "text/latex": [
       "A data.frame: 6 × 5\n",
       "\\begin{tabular}{r|lllll}\n",
       "  & gender & location & seatbelt & injury & count\\\\\n",
       "  & <fct> & <fct> & <fct> & <fct> & <int>\\\\\n",
       "\\hline\n",
       "\t1 & female & rural & no  & no  & 3246\\\\\n",
       "\t2 & female & rural & no  & yes &  973\\\\\n",
       "\t3 & female & rural & yes & no  & 6134\\\\\n",
       "\t4 & female & rural & yes & yes &  757\\\\\n",
       "\t5 & female & urban & no  & no  & 7287\\\\\n",
       "\t6 & female & urban & no  & yes &  996\\\\\n",
       "\\end{tabular}\n"
      ],
      "text/markdown": [
       "\n",
       "A data.frame: 6 × 5\n",
       "\n",
       "| <!--/--> | gender &lt;fct&gt; | location &lt;fct&gt; | seatbelt &lt;fct&gt; | injury &lt;fct&gt; | count &lt;int&gt; |\n",
       "|---|---|---|---|---|---|\n",
       "| 1 | female | rural | no  | no  | 3246 |\n",
       "| 2 | female | rural | no  | yes |  973 |\n",
       "| 3 | female | rural | yes | no  | 6134 |\n",
       "| 4 | female | rural | yes | yes |  757 |\n",
       "| 5 | female | urban | no  | no  | 7287 |\n",
       "| 6 | female | urban | no  | yes |  996 |\n",
       "\n"
      ],
      "text/plain": [
       "  gender location seatbelt injury count\n",
       "1 female rural    no       no     3246 \n",
       "2 female rural    no       yes     973 \n",
       "3 female rural    yes      no     6134 \n",
       "4 female rural    yes      yes     757 \n",
       "5 female urban    no       no     7287 \n",
       "6 female urban    no       yes     996 "
      ]
     },
     "metadata": {},
     "output_type": "display_data"
    }
   ],
   "source": [
    "Accidents <- read.table(\"http://users.stat.ufl.edu/~aa/cat/data/Accidents2.dat\",\n",
    "                        header = TRUE, stringsAsFactors = TRUE)\n",
    "head(Accidents)                        "
   ]
  },
  {
   "cell_type": "markdown",
   "metadata": {},
   "source": [
    "Accidents classified by passenger gender (G), location (L), seat belt use (S), and injury (I). Cell counts are proportions of passengers who were injured. "
   ]
  },
  {
   "cell_type": "code",
   "execution_count": 66,
   "metadata": {
    "vscode": {
     "languageId": "r"
    }
   },
   "outputs": [
    {
     "data": {
      "text/html": [
       "<table class=\"dataframe\">\n",
       "<caption>A data.frame: 6 × 5</caption>\n",
       "<thead>\n",
       "\t<tr><th></th><th scope=col>G</th><th scope=col>L</th><th scope=col>S</th><th scope=col>I</th><th scope=col>y</th></tr>\n",
       "\t<tr><th></th><th scope=col>&lt;fct&gt;</th><th scope=col>&lt;fct&gt;</th><th scope=col>&lt;fct&gt;</th><th scope=col>&lt;fct&gt;</th><th scope=col>&lt;int&gt;</th></tr>\n",
       "</thead>\n",
       "<tbody>\n",
       "\t<tr><th scope=row>1</th><td>female</td><td>rural</td><td>no </td><td>no </td><td>3246</td></tr>\n",
       "\t<tr><th scope=row>2</th><td>female</td><td>rural</td><td>no </td><td>yes</td><td> 973</td></tr>\n",
       "\t<tr><th scope=row>3</th><td>female</td><td>rural</td><td>yes</td><td>no </td><td>6134</td></tr>\n",
       "\t<tr><th scope=row>4</th><td>female</td><td>rural</td><td>yes</td><td>yes</td><td> 757</td></tr>\n",
       "\t<tr><th scope=row>5</th><td>female</td><td>urban</td><td>no </td><td>no </td><td>7287</td></tr>\n",
       "\t<tr><th scope=row>6</th><td>female</td><td>urban</td><td>no </td><td>yes</td><td> 996</td></tr>\n",
       "</tbody>\n",
       "</table>\n"
      ],
      "text/latex": [
       "A data.frame: 6 × 5\n",
       "\\begin{tabular}{r|lllll}\n",
       "  & G & L & S & I & y\\\\\n",
       "  & <fct> & <fct> & <fct> & <fct> & <int>\\\\\n",
       "\\hline\n",
       "\t1 & female & rural & no  & no  & 3246\\\\\n",
       "\t2 & female & rural & no  & yes &  973\\\\\n",
       "\t3 & female & rural & yes & no  & 6134\\\\\n",
       "\t4 & female & rural & yes & yes &  757\\\\\n",
       "\t5 & female & urban & no  & no  & 7287\\\\\n",
       "\t6 & female & urban & no  & yes &  996\\\\\n",
       "\\end{tabular}\n"
      ],
      "text/markdown": [
       "\n",
       "A data.frame: 6 × 5\n",
       "\n",
       "| <!--/--> | G &lt;fct&gt; | L &lt;fct&gt; | S &lt;fct&gt; | I &lt;fct&gt; | y &lt;int&gt; |\n",
       "|---|---|---|---|---|---|\n",
       "| 1 | female | rural | no  | no  | 3246 |\n",
       "| 2 | female | rural | no  | yes |  973 |\n",
       "| 3 | female | rural | yes | no  | 6134 |\n",
       "| 4 | female | rural | yes | yes |  757 |\n",
       "| 5 | female | urban | no  | no  | 7287 |\n",
       "| 6 | female | urban | no  | yes |  996 |\n",
       "\n"
      ],
      "text/plain": [
       "  G      L     S   I   y   \n",
       "1 female rural no  no  3246\n",
       "2 female rural no  yes  973\n",
       "3 female rural yes no  6134\n",
       "4 female rural yes yes  757\n",
       "5 female urban no  no  7287\n",
       "6 female urban no  yes  996"
      ]
     },
     "metadata": {},
     "output_type": "display_data"
    }
   ],
   "source": [
    "Accidents <- Accidents %>%\n",
    "    rename(G = \"gender\") %>%\n",
    "    rename(L = \"location\") %>% \n",
    "    rename(S = \"seatbelt\") %>%\n",
    "    rename(I = \"injury\") %>%\n",
    "    rename(y = \"count\")\n",
    "\n",
    "head(Accidents)"
   ]
  },
  {
   "cell_type": "code",
   "execution_count": 69,
   "metadata": {
    "vscode": {
     "languageId": "r"
    }
   },
   "outputs": [
    {
     "data": {
      "text/plain": [
       "\n",
       "Call:\n",
       "glm(formula = y ~ G * L * S + G * I + L * I + S * I, family = poisson, \n",
       "    data = Accidents)\n",
       "\n",
       "Deviance Residuals: \n",
       "       1         2         3         4         5         6         7         8  \n",
       "-0.15190   0.27851   0.51823  -1.44646   0.16160  -0.43483  -0.42327   1.69037  \n",
       "       9        10        11        12        13        14        15        16  \n",
       "-0.34700   0.83292  -0.05675   0.20564   0.21675  -0.76754   0.09329  -0.49684  \n",
       "\n",
       "Coefficients:\n",
       "                  Estimate Std. Error z value Pr(>|z|)    \n",
       "(Intercept)        8.08784    0.01654 488.884  < 2e-16 ***\n",
       "Gmale              0.63640    0.02015  31.579  < 2e-16 ***\n",
       "Lurban             0.80411    0.01966  40.891  < 2e-16 ***\n",
       "Syes               0.62713    0.02027  30.940  < 2e-16 ***\n",
       "Iyes              -1.21640    0.02649 -45.918  < 2e-16 ***\n",
       "Gmale:Lurban      -0.28274    0.02441 -11.584  < 2e-16 ***\n",
       "Gmale:Syes        -0.54186    0.02590 -20.925  < 2e-16 ***\n",
       "Lurban:Syes       -0.15752    0.02441  -6.453 1.09e-10 ***\n",
       "Gmale:Iyes        -0.54483    0.02727 -19.982  < 2e-16 ***\n",
       "Lurban:Iyes       -0.75806    0.02697 -28.105  < 2e-16 ***\n",
       "Syes:Iyes         -0.81710    0.02765 -29.551  < 2e-16 ***\n",
       "Gmale:Lurban:Syes  0.12858    0.03228   3.984 6.78e-05 ***\n",
       "---\n",
       "Signif. codes:  0 '***' 0.001 '**' 0.01 '*' 0.05 '.' 0.1 ' ' 1\n",
       "\n",
       "(Dispersion parameter for poisson family taken to be 1)\n",
       "\n",
       "    Null deviance: 61709.5207  on 15  degrees of freedom\n",
       "Residual deviance:     7.4645  on  4  degrees of freedom\n",
       "AIC: 184.92\n",
       "\n",
       "Number of Fisher Scoring iterations: 3\n"
      ]
     },
     "metadata": {},
     "output_type": "display_data"
    }
   ],
   "source": [
    "# G*I = G + I + G:I\n",
    "fit <- glm(y ~ G*L*S + G*I + L*I + S*I, family = poisson, data = Accidents)\n",
    "summary(fit)"
   ]
  },
  {
   "cell_type": "markdown",
   "metadata": {},
   "source": [
    "The coefficient $SI$ has estimate $-0.817$\n",
    "- $\\exp(-0.817) = 0.44$, ie odds of injury for those wearing seatbelts were 0.44x those who did not, for every gender-location combination \n",
    "- we can repeat this interpretation for terms $LI$ and $GI$, but not for $GL$, GS, or LS \n",
    "- this is b/c we have the GLS term, which implies lack of 3-way independence\n",
    "  - eg GS odds ratio varies with L \n",
    "- to compute odds ratios such as GL and GS, we need to do $GL(L=i)$ for every category $i \\in L$. \n",
    "  - eg $GS(L=\\text{urban}) = \\beta_{GS} + \\beta_{GLS} = -0.542 + 0.129$ \n",
    "  - eg $GS(L=\\text{rural}) = \\beta_{GS} + 0 = \\beta_{GS} = -0.542$"
   ]
  },
  {
   "cell_type": "markdown",
   "metadata": {},
   "source": [
    "Dissimilarity index\n",
    "$$\n",
    "D = \\sum \\frac{|n_i - \\hat{\\mu}_i|}{2n} = \\sum \\frac{|p_i - \\hat{\\pi}_i|}{2}\n",
    "$$\n",
    "- does not depend on sample size\n",
    "  - useful bc measures like AIC, goodness of fit tests, etc. depend on sample size $n$\n",
    "- $D \\in [0,1]$"
   ]
  },
  {
   "cell_type": "code",
   "execution_count": 76,
   "metadata": {
    "vscode": {
     "languageId": "r"
    }
   },
   "outputs": [
    {
     "data": {
      "text/html": [
       "0.00251"
      ],
      "text/latex": [
       "0.00251"
      ],
      "text/markdown": [
       "0.00251"
      ],
      "text/plain": [
       "[1] 0.00251"
      ]
     },
     "metadata": {},
     "output_type": "display_data"
    }
   ],
   "source": [
    "DI <- sum(abs(Accidents$y - fitted(fit)))/(2*sum(Accidents$y))\n",
    "round(DI, 5)"
   ]
  },
  {
   "cell_type": "markdown",
   "metadata": {},
   "source": [
    "## 7.3 Loglinear-Logistic Model connection\n",
    "- loglinear models = associations b/w categorical variables\n",
    "- logistic models = set of explanatory variables on a categorical response\n",
    "- conversion\n",
    "  - can take logits of a response in a loglinear model\n",
    "  - logistic models whose explanatory variables are all categorical have equivalent loglinear models\n",
    "    - eg if logistic model only has single-factors, then the equivalent loglinear model will have all single-factors plus the fullest interaction term \n",
    "\n",
    "Take the following logistic model\n",
    "$$\n",
    "logit[P(I=1)] = \\alpha + \\beta^G + \\beta^L + \\beta^S \n",
    "$$\n",
    "- G, L, and S are all associated with I, but not interacting \n",
    "- the equivalent loglinear is the saturated loglinear model containing all 1-, 2-, and the 3- factor terms \n",
    "- the log odds ratio for the effect of S on I is given by $\\beta_1^S - \\beta_2^S$ ,which is equivalent to $\\lambda^{SI}_{11} + \\lambda^{SI}_{22} - \\lambda^{SI}_{12} - \\lambda^{SI}_{21}$ \n",
    "\n"
   ]
  },
  {
   "cell_type": "markdown",
   "metadata": {},
   "source": [
    "Loglinear vs logistic\n",
    "- loglinear = more than one categorical response\n",
    "- if some marginal totals are fixed (eg by design), the model should include those margins as terms\n",
    "  - eg if $n_{g+,l+}$ are fixed for each combination of $G$ and $L$, then a loglinear model should contain the $GL$ term so that $\\mu_{g+,l+} = n_{g+,l+}\\pi_{g+,l+} = n_{g+,l+}$\n",
    "\n",
    "## 7.4 Independence graphs and collapsibility\n",
    "Independence graph for a log linear model\n",
    "- set of vertices which each represent a variable\n",
    "  - no. vertices = no. dimensions of contingency table\n",
    "- missing edge b/w vertices = the two variables are conditionally independent\n",
    "- undirected \n",
    "- path = sequence of edges b/w variables\n",
    "- two variables X and Y are separated by a subset of variables if all paths b/w X and Y intersect the subset \n",
    "\n",
    "> **Conditional independence and separation**\n",
    "> two variables are conditionally independent given any subset of variables that separates them \n",
    "\n",
    "Collapsibility conditions\n",
    "- conditional indep does not always imply marginal independence\n",
    "- collapsibility conditions = when odds ratios for a model are identical in partial tables as in marginal table\n",
    "\n",
    "> XY marginal and conditional odds ratios are identical if Z is conditionally independent from\n",
    "> 1. either X or Y, or \n",
    "> 2. both X and Y\n",
    "\n",
    "\n"
   ]
  }
 ],
 "metadata": {
  "kernelspec": {
   "display_name": "R",
   "language": "R",
   "name": "ir"
  },
  "language_info": {
   "codemirror_mode": "r",
   "file_extension": ".r",
   "mimetype": "text/x-r-source",
   "name": "R",
   "pygments_lexer": "r",
   "version": "4.2.0"
  },
  "orig_nbformat": 4
 },
 "nbformat": 4,
 "nbformat_minor": 2
}
