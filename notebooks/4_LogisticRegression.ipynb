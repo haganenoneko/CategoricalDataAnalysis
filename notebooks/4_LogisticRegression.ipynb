{
 "cells": [
  {
   "cell_type": "markdown",
   "metadata": {},
   "source": [
    "# 4. Logistic Regression\n",
    "\n",
    "\n",
    "## 4.1 The Logistic Regression model\n",
    "The logistic regression model has a linear form for the logit of the success probability\n",
    "- logit link function \n",
    "\n",
    "$$\n",
    "logit(\\pi(x)) = \\log \\frac{\\pi(x)}{1 - \\pi(x)} = \\alpha + \\beta^T X \n",
    "$$\n",
    "\n",
    "where \n",
    "- $\\pi(x)$ is the probability of 'success'\n",
    "- $X$ is a $n \\times m$ matrix with $n$ observations for $m$ explanatory variables \n",
    "\n",
    "Consider a single explanatory variable $x$ (column of $X$) and its corresponding 'effect parameter' $\\beta$\n",
    "$$\n",
    "\\pi(x) = \\frac{e^{\\alpha + \\beta x}}{1 + e^{\\alpha + \\beta x}}\n",
    "$$"
   ]
  },
  {
   "cell_type": "code",
   "execution_count": 22,
   "metadata": {
    "vscode": {
     "languageId": "r"
    }
   },
   "outputs": [
    {
     "data": {
      "image/png": "[encoded data removed]",
      "text/plain": [
       "plot without title"
      ]
     },
     "metadata": {
      "image/png": {
       "height": 420,
       "width": 420
      }
     },
     "output_type": "display_data"
    }
   ],
   "source": [
    "single_pix <- function(x, a, b) {\n",
    "    y <- exp(a+b*x)\n",
    "    return(y/(1+y))\n",
    "}\n",
    "\n",
    "x <- seq(20, 34, length.out=80)\n",
    "y <- lapply(x, single_pix, a=-15, b=0.6)\n",
    "plot(x, y, type=\"p\", ylab=\"pi(x)\")"
   ]
  },
  {
   "cell_type": "code",
   "execution_count": 3,
   "metadata": {
    "vscode": {
     "languageId": "r"
    }
   },
   "outputs": [
    {
     "data": {
      "text/html": [
       "<table class=\"dataframe\">\n",
       "<caption>A data.frame: 6 × 7</caption>\n",
       "<thead>\n",
       "\t<tr><th></th><th scope=col>crab</th><th scope=col>sat</th><th scope=col>y</th><th scope=col>weight</th><th scope=col>width</th><th scope=col>color</th><th scope=col>spine</th></tr>\n",
       "\t<tr><th></th><th scope=col>&lt;int&gt;</th><th scope=col>&lt;int&gt;</th><th scope=col>&lt;int&gt;</th><th scope=col>&lt;dbl&gt;</th><th scope=col>&lt;dbl&gt;</th><th scope=col>&lt;int&gt;</th><th scope=col>&lt;int&gt;</th></tr>\n",
       "</thead>\n",
       "<tbody>\n",
       "\t<tr><th scope=row>1</th><td>1</td><td>8</td><td>1</td><td>3.05</td><td>28.3</td><td>2</td><td>3</td></tr>\n",
       "\t<tr><th scope=row>2</th><td>2</td><td>0</td><td>0</td><td>1.55</td><td>22.5</td><td>3</td><td>3</td></tr>\n",
       "\t<tr><th scope=row>3</th><td>3</td><td>9</td><td>1</td><td>2.30</td><td>26.0</td><td>1</td><td>1</td></tr>\n",
       "\t<tr><th scope=row>4</th><td>4</td><td>0</td><td>0</td><td>2.10</td><td>24.8</td><td>3</td><td>3</td></tr>\n",
       "\t<tr><th scope=row>5</th><td>5</td><td>4</td><td>1</td><td>2.60</td><td>26.0</td><td>3</td><td>3</td></tr>\n",
       "\t<tr><th scope=row>6</th><td>6</td><td>0</td><td>0</td><td>2.10</td><td>23.8</td><td>2</td><td>3</td></tr>\n",
       "</tbody>\n",
       "</table>\n"
      ],
      "text/latex": [
       "A data.frame: 6 × 7\n",
       "\\begin{tabular}{r|lllllll}\n",
       "  & crab & sat & y & weight & width & color & spine\\\\\n",
       "  & <int> & <int> & <int> & <dbl> & <dbl> & <int> & <int>\\\\\n",
       "\\hline\n",
       "\t1 & 1 & 8 & 1 & 3.05 & 28.3 & 2 & 3\\\\\n",
       "\t2 & 2 & 0 & 0 & 1.55 & 22.5 & 3 & 3\\\\\n",
       "\t3 & 3 & 9 & 1 & 2.30 & 26.0 & 1 & 1\\\\\n",
       "\t4 & 4 & 0 & 0 & 2.10 & 24.8 & 3 & 3\\\\\n",
       "\t5 & 5 & 4 & 1 & 2.60 & 26.0 & 3 & 3\\\\\n",
       "\t6 & 6 & 0 & 0 & 2.10 & 23.8 & 2 & 3\\\\\n",
       "\\end{tabular}\n"
      ],
      "text/markdown": [
       "\n",
       "A data.frame: 6 × 7\n",
       "\n",
       "| <!--/--> | crab &lt;int&gt; | sat &lt;int&gt; | y &lt;int&gt; | weight &lt;dbl&gt; | width &lt;dbl&gt; | color &lt;int&gt; | spine &lt;int&gt; |\n",
       "|---|---|---|---|---|---|---|---|\n",
       "| 1 | 1 | 8 | 1 | 3.05 | 28.3 | 2 | 3 |\n",
       "| 2 | 2 | 0 | 0 | 1.55 | 22.5 | 3 | 3 |\n",
       "| 3 | 3 | 9 | 1 | 2.30 | 26.0 | 1 | 1 |\n",
       "| 4 | 4 | 0 | 0 | 2.10 | 24.8 | 3 | 3 |\n",
       "| 5 | 5 | 4 | 1 | 2.60 | 26.0 | 3 | 3 |\n",
       "| 6 | 6 | 0 | 0 | 2.10 | 23.8 | 2 | 3 |\n",
       "\n"
      ],
      "text/plain": [
       "  crab sat y weight width color spine\n",
       "1 1    8   1 3.05   28.3  2     3    \n",
       "2 2    0   0 1.55   22.5  3     3    \n",
       "3 3    9   1 2.30   26.0  1     1    \n",
       "4 4    0   0 2.10   24.8  3     3    \n",
       "5 5    4   1 2.60   26.0  3     3    \n",
       "6 6    0   0 2.10   23.8  2     3    "
      ]
     },
     "metadata": {},
     "output_type": "display_data"
    }
   ],
   "source": [
    "library(RColorBrewer)\n",
    "\n",
    "Crabs <- read.table(\"http://users.stat.ufl.edu/~aa/cat/data/Crabs.dat\",\n",
    "  header = TRUE\n",
    ")\n",
    "\n",
    "colors <- brewer.pal(n = 4, name = \"Dark2\")\n",
    "head(Crabs)"
   ]
  },
  {
   "cell_type": "code",
   "execution_count": 5,
   "metadata": {
    "vscode": {
     "languageId": "r"
    }
   },
   "outputs": [
    {
     "data": {
      "text/plain": [
       "      crab          sat               y              weight          width     \n",
       " Min.   :  1   Min.   : 0.000   Min.   :0.0000   Min.   :1.200   Min.   :21.0  \n",
       " 1st Qu.: 44   1st Qu.: 0.000   1st Qu.:0.0000   1st Qu.:2.000   1st Qu.:24.9  \n",
       " Median : 87   Median : 2.000   Median :1.0000   Median :2.350   Median :26.1  \n",
       " Mean   : 87   Mean   : 2.919   Mean   :0.6416   Mean   :2.437   Mean   :26.3  \n",
       " 3rd Qu.:130   3rd Qu.: 5.000   3rd Qu.:1.0000   3rd Qu.:2.850   3rd Qu.:27.7  \n",
       " Max.   :173   Max.   :15.000   Max.   :1.0000   Max.   :5.200   Max.   :33.5  \n",
       "     color           spine      \n",
       " Min.   :1.000   Min.   :1.000  \n",
       " 1st Qu.:2.000   1st Qu.:2.000  \n",
       " Median :2.000   Median :3.000  \n",
       " Mean   :2.439   Mean   :2.486  \n",
       " 3rd Qu.:3.000   3rd Qu.:3.000  \n",
       " Max.   :4.000   Max.   :3.000  "
      ]
     },
     "metadata": {},
     "output_type": "display_data"
    }
   ],
   "source": [
    "summary(Crabs)"
   ]
  },
  {
   "cell_type": "markdown",
   "metadata": {},
   "source": [
    "We let $y=1$ if a female crab has at least one satellite (`sat`) and $y=0$ otherwise. \n",
    "We use the column `width`, a continuous variable, as the only explanatory variable. \n",
    "- `width` $\\in [21, 33.5]$ \n",
    "- `sat` $\\in [0, 15]$ "
   ]
  },
  {
   "cell_type": "code",
   "execution_count": 19,
   "metadata": {
    "vscode": {
     "languageId": "r"
    }
   },
   "outputs": [],
   "source": [
    "library(gam, help, pos = 2, lib.loc = NULL)\n",
    "gam.fit <- gam(y ~ s(width), family=binomial, data=Crabs) # s indicates a 'smooth function'\n",
    "fit <- glm(y ~ width, family=binomial, data=Crabs)"
   ]
  },
  {
   "cell_type": "code",
   "execution_count": 18,
   "metadata": {
    "vscode": {
     "languageId": "r"
    }
   },
   "outputs": [
    {
     "data": {
      "image/png": "[encoded data removed]",
      "text/plain": [
       "plot without title"
      ]
     },
     "metadata": {
      "image/png": {
       "height": 420,
       "width": 420
      }
     },
     "output_type": "display_data"
    }
   ],
   "source": [
    "# jitter(x, f) adds noise f to vector x \n",
    "plot(jitter(y, 0.08) ~ width, data=Crabs)\n",
    "\n",
    "# curve(func, from, to)\n",
    "# Draws a curve corresponding to a function over the interval [from, to]\n",
    "y1 = curve(\n",
    "    predict(\n",
    "        gam.fit, data.frame(width=x), type=\"resp\"\n",
    "    ), add=TRUE # add to existing plot \n",
    ")\n",
    "\n",
    "y2 = curve(\n",
    "    predict(\n",
    "        fit, data.frame(width=x), type=\"resp\"\n",
    "    ), col=\"red\", add=TRUE, lty=\"dashed\"\n",
    ")\n",
    "\n",
    "legend(\n",
    "    31, 0.2, \n",
    "    legend=c(\"GAM\", \"GLM\"), \n",
    "    col=c(\"black\", \"red\"), \n",
    "    lty=c(1,2), \n",
    "    cex=0.8\n",
    ")"
   ]
  },
  {
   "cell_type": "code",
   "execution_count": 20,
   "metadata": {
    "vscode": {
     "languageId": "r"
    }
   },
   "outputs": [
    {
     "data": {
      "text/plain": [
       "\n",
       "Call:\n",
       "glm(formula = y ~ width, family = binomial, data = Crabs)\n",
       "\n",
       "Deviance Residuals: \n",
       "    Min       1Q   Median       3Q      Max  \n",
       "-2.0281  -1.0458   0.5480   0.9066   1.6942  \n",
       "\n",
       "Coefficients:\n",
       "            Estimate Std. Error z value Pr(>|z|)    \n",
       "(Intercept) -12.3508     2.6287  -4.698 2.62e-06 ***\n",
       "width         0.4972     0.1017   4.887 1.02e-06 ***\n",
       "---\n",
       "Signif. codes:  0 '***' 0.001 '**' 0.01 '*' 0.05 '.' 0.1 ' ' 1\n",
       "\n",
       "(Dispersion parameter for binomial family taken to be 1)\n",
       "\n",
       "    Null deviance: 225.76  on 172  degrees of freedom\n",
       "Residual deviance: 194.45  on 171  degrees of freedom\n",
       "AIC: 198.45\n",
       "\n",
       "Number of Fisher Scoring iterations: 4\n"
      ]
     },
     "metadata": {},
     "output_type": "display_data"
    }
   ],
   "source": [
    "summary(fit)"
   ]
  },
  {
   "cell_type": "markdown",
   "metadata": {},
   "source": [
    "The probability that a crab of width $x$ has a satellite is given by the logistic fit:\n",
    "$$\n",
    "logit(\\pi(x)) = -12.351 + 0.497x\n",
    "$$\n",
    "\n",
    "For every 1cm increase in width $x$, we get a $\\exp(0.497) = 1.64$ times increase in the probability of a satellite. \n",
    "\n",
    "Applying `single_pix`, we get $\\pi(x) = 0.128$ as the probability that a 21cm-wide crab has a satellite.\n",
    "\n",
    "The incremental rate of change in probability at a given point is \n",
    "$$\n",
    "\\begin{align}\n",
    "\\ln \\frac{\\pi(x)}{1 - \\pi(x)} &= \\alpha + \\beta x \\\\\n",
    "\\ln \\pi(x) &= \\alpha + \\beta x + \\ln(1-\\pi(x)) \\\\\n",
    "\\frac{\\partial}{\\partial x} \\ln \\pi(x) &= \\beta - \\frac{\\pi'(x)}{1 - \\pi(x)} \\\\\n",
    "\\pi'(x) \\left(\\frac{1}{\\pi(x)} + \\frac{1}{1-\\pi(x)} \\right) \n",
    "    &= \\beta \\\\\n",
    "\\pi'(x) &= \\beta \\left( \\frac{1 - \\pi(x) + \\pi(x) }{\\pi(x) (1 - \\pi(x))} \\right)^{-1} \\\\\n",
    "    &= \\beta \\pi(x) (1 - \\pi(x))\n",
    "\\end{align}\n",
    "$$\n",
    "At 21cm, $\\pi'(x) = 0.497(0.128)(1-0.128) = 0.055$. \n",
    "\n",
    "The median effective level is the value of $x$ for which $\\pi(x) = 1/2$. Thus,\n",
    "$$\n",
    "\\ln(1/2) = \\alpha + \\beta x + \\ln(1/2) \\implies \n",
    "x = -\\alpha/\\beta \n",
    "$$\n",
    "which gives $x_{median} = -(-12.351/0.497) = 24.8$. "
   ]
  },
  {
   "cell_type": "code",
   "execution_count": 23,
   "metadata": {
    "vscode": {
     "languageId": "r"
    }
   },
   "outputs": [
    {
     "data": {
      "text/html": [
       "0.128532139500749"
      ],
      "text/latex": [
       "0.128532139500749"
      ],
      "text/markdown": [
       "0.128532139500749"
      ],
      "text/plain": [
       "[1] 0.1285321"
      ]
     },
     "metadata": {},
     "output_type": "display_data"
    }
   ],
   "source": [
    "single_pix(21, -12.351, 0.497)"
   ]
  },
  {
   "cell_type": "code",
   "execution_count": null,
   "metadata": {
    "vscode": {
     "languageId": "r"
    }
   },
   "outputs": [],
   "source": []
  }
 ],
 "metadata": {
  "kernelspec": {
   "display_name": "R",
   "language": "R",
   "name": "ir"
  },
  "language_info": {
   "codemirror_mode": "r",
   "file_extension": ".r",
   "mimetype": "text/x-r-source",
   "name": "R",
   "pygments_lexer": "r",
   "version": "4.2.0"
  },
  "orig_nbformat": 4
 },
 "nbformat": 4,
 "nbformat_minor": 2
}
