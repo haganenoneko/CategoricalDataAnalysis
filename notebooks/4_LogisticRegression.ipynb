{
 "cells": [
  {
   "cell_type": "markdown",
   "metadata": {},
   "source": [
    "# 4. Logistic Regression\n",
    "\n",
    "\n",
    "## 4.1 The Logistic Regression model\n",
    "The logistic regression model has a linear form for the logit of the success probability\n",
    "- logit link function \n",
    "\n",
    "$$\n",
    "logit(\\pi(x)) = \\log \\frac{\\pi(x)}{1 - \\pi(x)} = \\alpha + \\beta^T X \n",
    "$$\n",
    "\n",
    "where \n",
    "- $\\pi(x)$ is the probability of 'success'\n",
    "- $X$ is a $n \\times m$ matrix with $n$ observations for $m$ explanatory variables \n",
    "\n",
    "Consider a single explanatory variable $x$ (column of $X$) and its corresponding 'effect parameter' $\\beta$\n",
    "$$\n",
    "\\pi(x) = \\frac{e^{\\alpha + \\beta x}}{1 + e^{\\alpha + \\beta x}}\n",
    "$$"
   ]
  },
  {
   "cell_type": "code",
   "execution_count": 22,
   "metadata": {
    "vscode": {
     "languageId": "r"
    }
   },
   "outputs": [
    {
     "data": {
      "image/png": "[encoded data removed]",
      "text/plain": [
       "plot without title"
      ]
     },
     "metadata": {
      "image/png": {
       "height": 420,
       "width": 420
      }
     },
     "output_type": "display_data"
    }
   ],
   "source": [
    "single_pix <- function(x, a, b) {\n",
    "    y <- exp(a+b*x)\n",
    "    return(y/(1+y))\n",
    "}\n",
    "\n",
    "x <- seq(20, 34, length.out=80)\n",
    "y <- lapply(x, single_pix, a=-15, b=0.6)\n",
    "plot(x, y, type=\"p\", ylab=\"pi(x)\")"
   ]
  },
  {
   "cell_type": "code",
   "execution_count": 3,
   "metadata": {
    "vscode": {
     "languageId": "r"
    }
   },
   "outputs": [
    {
     "data": {
      "text/html": [
       "<table class=\"dataframe\">\n",
       "<caption>A data.frame: 6 × 7</caption>\n",
       "<thead>\n",
       "\t<tr><th></th><th scope=col>crab</th><th scope=col>sat</th><th scope=col>y</th><th scope=col>weight</th><th scope=col>width</th><th scope=col>color</th><th scope=col>spine</th></tr>\n",
       "\t<tr><th></th><th scope=col>&lt;int&gt;</th><th scope=col>&lt;int&gt;</th><th scope=col>&lt;int&gt;</th><th scope=col>&lt;dbl&gt;</th><th scope=col>&lt;dbl&gt;</th><th scope=col>&lt;int&gt;</th><th scope=col>&lt;int&gt;</th></tr>\n",
       "</thead>\n",
       "<tbody>\n",
       "\t<tr><th scope=row>1</th><td>1</td><td>8</td><td>1</td><td>3.05</td><td>28.3</td><td>2</td><td>3</td></tr>\n",
       "\t<tr><th scope=row>2</th><td>2</td><td>0</td><td>0</td><td>1.55</td><td>22.5</td><td>3</td><td>3</td></tr>\n",
       "\t<tr><th scope=row>3</th><td>3</td><td>9</td><td>1</td><td>2.30</td><td>26.0</td><td>1</td><td>1</td></tr>\n",
       "\t<tr><th scope=row>4</th><td>4</td><td>0</td><td>0</td><td>2.10</td><td>24.8</td><td>3</td><td>3</td></tr>\n",
       "\t<tr><th scope=row>5</th><td>5</td><td>4</td><td>1</td><td>2.60</td><td>26.0</td><td>3</td><td>3</td></tr>\n",
       "\t<tr><th scope=row>6</th><td>6</td><td>0</td><td>0</td><td>2.10</td><td>23.8</td><td>2</td><td>3</td></tr>\n",
       "</tbody>\n",
       "</table>\n"
      ],
      "text/latex": [
       "A data.frame: 6 × 7\n",
       "\\begin{tabular}{r|lllllll}\n",
       "  & crab & sat & y & weight & width & color & spine\\\\\n",
       "  & <int> & <int> & <int> & <dbl> & <dbl> & <int> & <int>\\\\\n",
       "\\hline\n",
       "\t1 & 1 & 8 & 1 & 3.05 & 28.3 & 2 & 3\\\\\n",
       "\t2 & 2 & 0 & 0 & 1.55 & 22.5 & 3 & 3\\\\\n",
       "\t3 & 3 & 9 & 1 & 2.30 & 26.0 & 1 & 1\\\\\n",
       "\t4 & 4 & 0 & 0 & 2.10 & 24.8 & 3 & 3\\\\\n",
       "\t5 & 5 & 4 & 1 & 2.60 & 26.0 & 3 & 3\\\\\n",
       "\t6 & 6 & 0 & 0 & 2.10 & 23.8 & 2 & 3\\\\\n",
       "\\end{tabular}\n"
      ],
      "text/markdown": [
       "\n",
       "A data.frame: 6 × 7\n",
       "\n",
       "| <!--/--> | crab &lt;int&gt; | sat &lt;int&gt; | y &lt;int&gt; | weight &lt;dbl&gt; | width &lt;dbl&gt; | color &lt;int&gt; | spine &lt;int&gt; |\n",
       "|---|---|---|---|---|---|---|---|\n",
       "| 1 | 1 | 8 | 1 | 3.05 | 28.3 | 2 | 3 |\n",
       "| 2 | 2 | 0 | 0 | 1.55 | 22.5 | 3 | 3 |\n",
       "| 3 | 3 | 9 | 1 | 2.30 | 26.0 | 1 | 1 |\n",
       "| 4 | 4 | 0 | 0 | 2.10 | 24.8 | 3 | 3 |\n",
       "| 5 | 5 | 4 | 1 | 2.60 | 26.0 | 3 | 3 |\n",
       "| 6 | 6 | 0 | 0 | 2.10 | 23.8 | 2 | 3 |\n",
       "\n"
      ],
      "text/plain": [
       "  crab sat y weight width color spine\n",
       "1 1    8   1 3.05   28.3  2     3    \n",
       "2 2    0   0 1.55   22.5  3     3    \n",
       "3 3    9   1 2.30   26.0  1     1    \n",
       "4 4    0   0 2.10   24.8  3     3    \n",
       "5 5    4   1 2.60   26.0  3     3    \n",
       "6 6    0   0 2.10   23.8  2     3    "
      ]
     },
     "metadata": {},
     "output_type": "display_data"
    }
   ],
   "source": [
    "library(RColorBrewer)\n",
    "\n",
    "Crabs <- read.table(\"http://users.stat.ufl.edu/~aa/cat/data/Crabs.dat\",\n",
    "  header = TRUE\n",
    ")\n",
    "\n",
    "colors <- brewer.pal(n = 4, name = \"Dark2\")\n",
    "head(Crabs)"
   ]
  },
  {
   "cell_type": "code",
   "execution_count": 5,
   "metadata": {
    "vscode": {
     "languageId": "r"
    }
   },
   "outputs": [
    {
     "data": {
      "text/plain": [
       "      crab          sat               y              weight          width     \n",
       " Min.   :  1   Min.   : 0.000   Min.   :0.0000   Min.   :1.200   Min.   :21.0  \n",
       " 1st Qu.: 44   1st Qu.: 0.000   1st Qu.:0.0000   1st Qu.:2.000   1st Qu.:24.9  \n",
       " Median : 87   Median : 2.000   Median :1.0000   Median :2.350   Median :26.1  \n",
       " Mean   : 87   Mean   : 2.919   Mean   :0.6416   Mean   :2.437   Mean   :26.3  \n",
       " 3rd Qu.:130   3rd Qu.: 5.000   3rd Qu.:1.0000   3rd Qu.:2.850   3rd Qu.:27.7  \n",
       " Max.   :173   Max.   :15.000   Max.   :1.0000   Max.   :5.200   Max.   :33.5  \n",
       "     color           spine      \n",
       " Min.   :1.000   Min.   :1.000  \n",
       " 1st Qu.:2.000   1st Qu.:2.000  \n",
       " Median :2.000   Median :3.000  \n",
       " Mean   :2.439   Mean   :2.486  \n",
       " 3rd Qu.:3.000   3rd Qu.:3.000  \n",
       " Max.   :4.000   Max.   :3.000  "
      ]
     },
     "metadata": {},
     "output_type": "display_data"
    }
   ],
   "source": [
    "summary(Crabs)"
   ]
  },
  {
   "cell_type": "markdown",
   "metadata": {},
   "source": [
    "We let $y=1$ if a female crab has at least one satellite (`sat`) and $y=0$ otherwise. \n",
    "We use the column `width`, a continuous variable, as the only explanatory variable. \n",
    "- `width` $\\in [21, 33.5]$ \n",
    "- `sat` $\\in [0, 15]$ "
   ]
  },
  {
   "cell_type": "code",
   "execution_count": 19,
   "metadata": {
    "vscode": {
     "languageId": "r"
    }
   },
   "outputs": [],
   "source": [
    "library(gam, help, pos = 2, lib.loc = NULL)\n",
    "gam.fit <- gam(y ~ s(width), family=binomial, data=Crabs) # s indicates a 'smooth function'\n",
    "fit <- glm(y ~ width, family=binomial, data=Crabs)"
   ]
  },
  {
   "cell_type": "code",
   "execution_count": 18,
   "metadata": {
    "vscode": {
     "languageId": "r"
    }
   },
   "outputs": [
    {
     "data": {
      "image/png": "[encoded data removed]",
      "text/plain": [
       "plot without title"
      ]
     },
     "metadata": {
      "image/png": {
       "height": 420,
       "width": 420
      }
     },
     "output_type": "display_data"
    }
   ],
   "source": [
    "# jitter(x, f) adds noise f to vector x \n",
    "plot(jitter(y, 0.08) ~ width, data=Crabs)\n",
    "\n",
    "# curve(func, from, to)\n",
    "# Draws a curve corresponding to a function over the interval [from, to]\n",
    "y1 = curve(\n",
    "    predict(\n",
    "        gam.fit, data.frame(width=x), type=\"resp\"\n",
    "    ), add=TRUE # add to existing plot \n",
    ")\n",
    "\n",
    "y2 = curve(\n",
    "    predict(\n",
    "        fit, data.frame(width=x), type=\"resp\"\n",
    "    ), col=\"red\", add=TRUE, lty=\"dashed\"\n",
    ")\n",
    "\n",
    "legend(\n",
    "    31, 0.2, \n",
    "    legend=c(\"GAM\", \"GLM\"), \n",
    "    col=c(\"black\", \"red\"), \n",
    "    lty=c(1,2), \n",
    "    cex=0.8\n",
    ")"
   ]
  },
  {
   "cell_type": "code",
   "execution_count": 20,
   "metadata": {
    "vscode": {
     "languageId": "r"
    }
   },
   "outputs": [
    {
     "data": {
      "text/plain": [
       "\n",
       "Call:\n",
       "glm(formula = y ~ width, family = binomial, data = Crabs)\n",
       "\n",
       "Deviance Residuals: \n",
       "    Min       1Q   Median       3Q      Max  \n",
       "-2.0281  -1.0458   0.5480   0.9066   1.6942  \n",
       "\n",
       "Coefficients:\n",
       "            Estimate Std. Error z value Pr(>|z|)    \n",
       "(Intercept) -12.3508     2.6287  -4.698 2.62e-06 ***\n",
       "width         0.4972     0.1017   4.887 1.02e-06 ***\n",
       "---\n",
       "Signif. codes:  0 '***' 0.001 '**' 0.01 '*' 0.05 '.' 0.1 ' ' 1\n",
       "\n",
       "(Dispersion parameter for binomial family taken to be 1)\n",
       "\n",
       "    Null deviance: 225.76  on 172  degrees of freedom\n",
       "Residual deviance: 194.45  on 171  degrees of freedom\n",
       "AIC: 198.45\n",
       "\n",
       "Number of Fisher Scoring iterations: 4\n"
      ]
     },
     "metadata": {},
     "output_type": "display_data"
    }
   ],
   "source": [
    "summary(fit)"
   ]
  },
  {
   "cell_type": "markdown",
   "metadata": {},
   "source": [
    "The probability that a crab of width $x$ has a satellite is given by the logistic fit:\n",
    "$$\n",
    "logit(\\pi(x)) = -12.351 + 0.497x\n",
    "$$\n",
    "\n",
    "For every 1cm increase in width $x$, we get a $\\exp(0.497) = 1.64$ times increase in the probability of a satellite. \n",
    "\n",
    "Applying `single_pix`, we get $\\pi(x) = 0.128$ as the probability that a 21cm-wide crab has a satellite.\n",
    "\n",
    "The incremental rate of change in probability at a given point is \n",
    "$$\n",
    "\\begin{align}\n",
    "\\ln \\frac{\\pi(x)}{1 - \\pi(x)} &= \\alpha + \\beta x \\\\\n",
    "\\ln \\pi(x) &= \\alpha + \\beta x + \\ln(1-\\pi(x)) \\\\\n",
    "\\frac{\\partial}{\\partial x} \\ln \\pi(x) &= \\beta - \\frac{\\pi'(x)}{1 - \\pi(x)} \\\\\n",
    "\\pi'(x) \\left(\\frac{1}{\\pi(x)} + \\frac{1}{1-\\pi(x)} \\right) \n",
    "    &= \\beta \\\\\n",
    "\\pi'(x) &= \\beta \\left( \\frac{1 - \\pi(x) + \\pi(x) }{\\pi(x) (1 - \\pi(x))} \\right)^{-1} \\\\\n",
    "    &= \\beta \\pi(x) (1 - \\pi(x))\n",
    "\\end{align}\n",
    "$$\n",
    "At 21cm, $\\pi'(x) = 0.497(0.128)(1-0.128) = 0.055$. \n",
    "\n",
    "The median effective level is the value of $x$ for which $\\pi(x) = 1/2$. Thus,\n",
    "$$\n",
    "\\ln(1/2) = \\alpha + \\beta x + \\ln(1/2) \\implies \n",
    "x = -\\alpha/\\beta \n",
    "$$\n",
    "which gives $x_{median} = -(-12.351/0.497) = 24.8$. "
   ]
  },
  {
   "cell_type": "code",
   "execution_count": 23,
   "metadata": {
    "vscode": {
     "languageId": "r"
    }
   },
   "outputs": [
    {
     "data": {
      "text/html": [
       "0.128532139500749"
      ],
      "text/latex": [
       "0.128532139500749"
      ],
      "text/markdown": [
       "0.128532139500749"
      ],
      "text/plain": [
       "[1] 0.1285321"
      ]
     },
     "metadata": {},
     "output_type": "display_data"
    }
   ],
   "source": [
    "single_pix(21, -12.351, 0.497)"
   ]
  },
  {
   "cell_type": "markdown",
   "metadata": {},
   "source": [
    "## 4.2 Statistical inference for logistic regression\n",
    "\n",
    "### 4.2.1 Confidence intervals for the effects\n",
    "Given a confidence interval $\\mathcal{I} = [a,b]$ for $\\beta$, $[e^a, e^b]$ are intervals for the multiplicative effect of an explanatory variable on the odds of 'success.'\n",
    "\n",
    "- Wald confidence interval is $\\beta \\pm z_{\\alpha/2} \\sqrt{\\sigma^2}$, where $\\sigma$ is the standard error in $\\beta$ (given by the column `Std. Error` in `summary(fit)`)\n",
    "- When $n$ is small or probabilities near 0 or 1, profile likelihood confidence intervals are preferred over Wald CIs.\n"
   ]
  },
  {
   "cell_type": "code",
   "execution_count": 24,
   "metadata": {
    "vscode": {
     "languageId": "r"
    }
   },
   "outputs": [
    {
     "name": "stderr",
     "output_type": "stream",
     "text": [
      "Waiting for profiling to be done...\n",
      "\n"
     ]
    },
    {
     "data": {
      "text/html": [
       "<table class=\"dataframe\">\n",
       "<caption>A matrix: 2 × 2 of type dbl</caption>\n",
       "<thead>\n",
       "\t<tr><th></th><th scope=col>2.5 %</th><th scope=col>97.5 %</th></tr>\n",
       "</thead>\n",
       "<tbody>\n",
       "\t<tr><th scope=row>(Intercept)</th><td>-17.8100090</td><td>-7.4572470</td></tr>\n",
       "\t<tr><th scope=row>width</th><td>  0.3083806</td><td> 0.7090167</td></tr>\n",
       "</tbody>\n",
       "</table>\n"
      ],
      "text/latex": [
       "A matrix: 2 × 2 of type dbl\n",
       "\\begin{tabular}{r|ll}\n",
       "  & 2.5 \\% & 97.5 \\%\\\\\n",
       "\\hline\n",
       "\t(Intercept) & -17.8100090 & -7.4572470\\\\\n",
       "\twidth &   0.3083806 &  0.7090167\\\\\n",
       "\\end{tabular}\n"
      ],
      "text/markdown": [
       "\n",
       "A matrix: 2 × 2 of type dbl\n",
       "\n",
       "| <!--/--> | 2.5 % | 97.5 % |\n",
       "|---|---|---|\n",
       "| (Intercept) | -17.8100090 | -7.4572470 |\n",
       "| width |   0.3083806 |  0.7090167 |\n",
       "\n"
      ],
      "text/plain": [
       "            2.5 %       97.5 %    \n",
       "(Intercept) -17.8100090 -7.4572470\n",
       "width         0.3083806  0.7090167"
      ]
     },
     "metadata": {},
     "output_type": "display_data"
    }
   ],
   "source": [
    "confint(fit)"
   ]
  },
  {
   "cell_type": "code",
   "execution_count": 26,
   "metadata": {
    "vscode": {
     "languageId": "r"
    }
   },
   "outputs": [
    {
     "name": "stderr",
     "output_type": "stream",
     "text": [
      "Loading required package: carData\n",
      "\n"
     ]
    },
    {
     "data": {
      "text/html": [
       "<table class=\"dataframe\">\n",
       "<caption>A anova: 1 × 3</caption>\n",
       "<thead>\n",
       "\t<tr><th></th><th scope=col>LR Chisq</th><th scope=col>Df</th><th scope=col>Pr(&gt;Chisq)</th></tr>\n",
       "\t<tr><th></th><th scope=col>&lt;dbl&gt;</th><th scope=col>&lt;dbl&gt;</th><th scope=col>&lt;dbl&gt;</th></tr>\n",
       "</thead>\n",
       "<tbody>\n",
       "\t<tr><th scope=row>width</th><td>31.30586</td><td>1</td><td>2.204134e-08</td></tr>\n",
       "</tbody>\n",
       "</table>\n"
      ],
      "text/latex": [
       "A anova: 1 × 3\n",
       "\\begin{tabular}{r|lll}\n",
       "  & LR Chisq & Df & Pr(>Chisq)\\\\\n",
       "  & <dbl> & <dbl> & <dbl>\\\\\n",
       "\\hline\n",
       "\twidth & 31.30586 & 1 & 2.204134e-08\\\\\n",
       "\\end{tabular}\n"
      ],
      "text/markdown": [
       "\n",
       "A anova: 1 × 3\n",
       "\n",
       "| <!--/--> | LR Chisq &lt;dbl&gt; | Df &lt;dbl&gt; | Pr(&gt;Chisq) &lt;dbl&gt; |\n",
       "|---|---|---|---|\n",
       "| width | 31.30586 | 1 | 2.204134e-08 |\n",
       "\n"
      ],
      "text/plain": [
       "      LR Chisq Df Pr(>Chisq)  \n",
       "width 31.30586 1  2.204134e-08"
      ]
     },
     "metadata": {},
     "output_type": "display_data"
    }
   ],
   "source": [
    "library(car)\n",
    "car::Anova(fit)"
   ]
  },
  {
   "cell_type": "markdown",
   "metadata": {},
   "source": [
    "### Fitted values and confidence intervals for probabilities\n"
   ]
  },
  {
   "cell_type": "code",
   "execution_count": 45,
   "metadata": {
    "vscode": {
     "languageId": "r"
    }
   },
   "outputs": [
    {
     "data": {
      "image/png": "[encoded data removed]",
      "text/plain": [
       "plot without title"
      ]
     },
     "metadata": {
      "image/png": {
       "height": 420,
       "width": 420
      }
     },
     "output_type": "display_data"
    }
   ],
   "source": [
    "\n",
    "data.plot <- data.frame(width=(18:34))\n",
    "lp <- predict(fit, newdata=data.plot, se.fit=TRUE)\n",
    "\n",
    "q <- qnorm(0.975) * lp$se.fit\n",
    "lower <- lp$fit - q \n",
    "upper <- lp$fit + q \n",
    "lower.p <- exp(lower) / (1+exp(lower))\n",
    "upper.p <- exp(upper) / (1+exp(upper))\n",
    "\n",
    "plot(\n",
    "    jitter(y, 0.1) ~ width, \n",
    "    xlim=c(18, 34), \n",
    "    pch=16, \n",
    "    ylab=\"Prob(satellite)\", \n",
    "    data=Crabs\n",
    ")\n",
    "\n",
    "pred.prob <- exp(lp$fit) / (1 + exp(lp$fit))\n",
    "lines(18:34, pred.prob)\n",
    "lines(18:34, lower.p, col=\"red\")\n",
    "lines(18:34, upper.p, col=\"blue\")"
   ]
  },
  {
   "cell_type": "markdown",
   "metadata": {},
   "source": [
    "## 4.3 Logistic regression with categorical predictors\n"
   ]
  },
  {
   "cell_type": "code",
   "execution_count": 47,
   "metadata": {
    "vscode": {
     "languageId": "r"
    }
   },
   "outputs": [
    {
     "data": {
      "text/html": [
       "<table class=\"dataframe\">\n",
       "<caption>A data.frame: 4 × 4</caption>\n",
       "<thead>\n",
       "\t<tr><th></th><th scope=col>race</th><th scope=col>gender</th><th scope=col>yes</th><th scope=col>no</th></tr>\n",
       "\t<tr><th></th><th scope=col>&lt;fct&gt;</th><th scope=col>&lt;fct&gt;</th><th scope=col>&lt;int&gt;</th><th scope=col>&lt;int&gt;</th></tr>\n",
       "</thead>\n",
       "<tbody>\n",
       "\t<tr><th scope=row>1</th><td>white</td><td>female</td><td>420</td><td>620</td></tr>\n",
       "\t<tr><th scope=row>2</th><td>white</td><td>male  </td><td>483</td><td>579</td></tr>\n",
       "\t<tr><th scope=row>3</th><td>other</td><td>female</td><td> 25</td><td> 55</td></tr>\n",
       "\t<tr><th scope=row>4</th><td>other</td><td>male  </td><td> 32</td><td> 62</td></tr>\n",
       "</tbody>\n",
       "</table>\n"
      ],
      "text/latex": [
       "A data.frame: 4 × 4\n",
       "\\begin{tabular}{r|llll}\n",
       "  & race & gender & yes & no\\\\\n",
       "  & <fct> & <fct> & <int> & <int>\\\\\n",
       "\\hline\n",
       "\t1 & white & female & 420 & 620\\\\\n",
       "\t2 & white & male   & 483 & 579\\\\\n",
       "\t3 & other & female &  25 &  55\\\\\n",
       "\t4 & other & male   &  32 &  62\\\\\n",
       "\\end{tabular}\n"
      ],
      "text/markdown": [
       "\n",
       "A data.frame: 4 × 4\n",
       "\n",
       "| <!--/--> | race &lt;fct&gt; | gender &lt;fct&gt; | yes &lt;int&gt; | no &lt;int&gt; |\n",
       "|---|---|---|---|---|\n",
       "| 1 | white | female | 420 | 620 |\n",
       "| 2 | white | male   | 483 | 579 |\n",
       "| 3 | other | female |  25 |  55 |\n",
       "| 4 | other | male   |  32 |  62 |\n",
       "\n"
      ],
      "text/plain": [
       "  race  gender yes no \n",
       "1 white female 420 620\n",
       "2 white male   483 579\n",
       "3 other female  25  55\n",
       "4 other male    32  62"
      ]
     },
     "metadata": {},
     "output_type": "display_data"
    }
   ],
   "source": [
    "library(tidyverse)\n",
    "Marijuana <- read.table(\"http://users.stat.ufl.edu/~aa/cat/data/Marijuana.dat\",\n",
    "  header = TRUE, stringsAsFactors = TRUE\n",
    ")\n",
    "head(Marijuana)"
   ]
  },
  {
   "cell_type": "code",
   "execution_count": 51,
   "metadata": {
    "vscode": {
     "languageId": "r"
    }
   },
   "outputs": [
    {
     "data": {
      "text/plain": [
       "\n",
       "Call:\n",
       "glm(formula = yes/(yes + no) ~ gender + race, family = binomial, \n",
       "    data = Marijuana, weights = yes + no)\n",
       "\n",
       "Deviance Residuals: \n",
       "       1         2         3         4  \n",
       "-0.04513   0.04402   0.17321  -0.15493  \n",
       "\n",
       "Coefficients:\n",
       "            Estimate Std. Error z value Pr(>|z|)    \n",
       "(Intercept) -0.83035    0.16854  -4.927 8.37e-07 ***\n",
       "gendermale   0.20261    0.08519   2.378  0.01739 *  \n",
       "racewhite    0.44374    0.16766   2.647  0.00813 ** \n",
       "---\n",
       "Signif. codes:  0 '***' 0.001 '**' 0.01 '*' 0.05 '.' 0.1 ' ' 1\n",
       "\n",
       "(Dispersion parameter for binomial family taken to be 1)\n",
       "\n",
       "    Null deviance: 12.752784  on 3  degrees of freedom\n",
       "Residual deviance:  0.057982  on 1  degrees of freedom\n",
       "AIC: 30.414\n",
       "\n",
       "Number of Fisher Scoring iterations: 3\n"
      ]
     },
     "metadata": {},
     "output_type": "display_data"
    }
   ],
   "source": [
    "fit <- glm(\n",
    "    yes/(yes+no) ~ gender + race, \n",
    "    weights=yes+no,\n",
    "    family=binomial,\n",
    "    data=Marijuana\n",
    ")\n",
    "fitsum <- summary(fit)\n",
    "fitsum "
   ]
  },
  {
   "cell_type": "code",
   "execution_count": 53,
   "metadata": {
    "vscode": {
     "languageId": "r"
    }
   },
   "outputs": [
    {
     "data": {
      "text/html": [
       "<style>\n",
       ".dl-inline {width: auto; margin:0; padding: 0}\n",
       ".dl-inline>dt, .dl-inline>dd {float: none; width: auto; display: inline-block}\n",
       ".dl-inline>dt::after {content: \":\\0020\"; padding-right: .5ex}\n",
       ".dl-inline>dt:not(:first-of-type) {padding-left: .5ex}\n",
       "</style><dl class=dl-inline><dt>gendermale</dt><dd>1.22</dd><dt>racewhite</dt><dd>1.56</dd></dl>\n"
      ],
      "text/latex": [
       "\\begin{description*}\n",
       "\\item[gendermale] 1.22\n",
       "\\item[racewhite] 1.56\n",
       "\\end{description*}\n"
      ],
      "text/markdown": [
       "gendermale\n",
       ":   1.22racewhite\n",
       ":   1.56\n",
       "\n"
      ],
      "text/plain": [
       "gendermale  racewhite \n",
       "      1.22       1.56 "
      ]
     },
     "metadata": {},
     "output_type": "display_data"
    }
   ],
   "source": [
    "round(\n",
    "    exp(fitsum$coefficients[2:3, \"Estimate\"]), \n",
    "    2\n",
    ")"
   ]
  },
  {
   "cell_type": "code",
   "execution_count": 63,
   "metadata": {
    "vscode": {
     "languageId": "r"
    }
   },
   "outputs": [
    {
     "data": {
      "text/html": [
       "<table class=\"dataframe\">\n",
       "<caption>A data.frame: 2 × 3</caption>\n",
       "<thead>\n",
       "\t<tr><th scope=col>Effect</th><th scope=col>Estimate</th><th scope=col>Odds Ratio</th></tr>\n",
       "\t<tr><th scope=col>&lt;chr&gt;</th><th scope=col>&lt;dbl&gt;</th><th scope=col>&lt;dbl&gt;</th></tr>\n",
       "</thead>\n",
       "<tbody>\n",
       "\t<tr><td>gendermale</td><td>0.20</td><td>1.22</td></tr>\n",
       "\t<tr><td>racewhite </td><td>0.44</td><td>1.56</td></tr>\n",
       "</tbody>\n",
       "</table>\n"
      ],
      "text/latex": [
       "A data.frame: 2 × 3\n",
       "\\begin{tabular}{lll}\n",
       " Effect & Estimate & Odds Ratio\\\\\n",
       " <chr> & <dbl> & <dbl>\\\\\n",
       "\\hline\n",
       "\t gendermale & 0.20 & 1.22\\\\\n",
       "\t racewhite  & 0.44 & 1.56\\\\\n",
       "\\end{tabular}\n"
      ],
      "text/markdown": [
       "\n",
       "A data.frame: 2 × 3\n",
       "\n",
       "| Effect &lt;chr&gt; | Estimate &lt;dbl&gt; | Odds Ratio &lt;dbl&gt; |\n",
       "|---|---|---|\n",
       "| gendermale | 0.20 | 1.22 |\n",
       "| racewhite  | 0.44 | 1.56 |\n",
       "\n"
      ],
      "text/plain": [
       "  Effect     Estimate Odds Ratio\n",
       "1 gendermale 0.20     1.22      \n",
       "2 racewhite  0.44     1.56      "
      ]
     },
     "metadata": {},
     "output_type": "display_data"
    }
   ],
   "source": [
    "coefs <- as.data.frame(coef(fitsum))\n",
    "coefs %>% \n",
    "    rownames_to_column(var = \"Effect\") %>%      # name index column 'Effect' \n",
    "    select(\"Effect\", \"Estimate\") %>%            # select the 'Effect' and \"Estimate\" columns\n",
    "    filter(Effect != \"(Intercept)\") %>%\n",
    "    mutate(\"Odds Ratio\" = exp(Estimate)) %>%    # Define new column \n",
    "    mutate_if(is.numeric, round, digits=2)      # apply rounding to all numeric cells "
   ]
  },
  {
   "cell_type": "code",
   "execution_count": 64,
   "metadata": {
    "vscode": {
     "languageId": "r"
    }
   },
   "outputs": [
    {
     "data": {
      "text/html": [
       "<table class=\"dataframe\">\n",
       "<caption>A anova: 2 × 3</caption>\n",
       "<thead>\n",
       "\t<tr><th></th><th scope=col>LR Chisq</th><th scope=col>Df</th><th scope=col>Pr(&gt;Chisq)</th></tr>\n",
       "\t<tr><th></th><th scope=col>&lt;dbl&gt;</th><th scope=col>&lt;dbl&gt;</th><th scope=col>&lt;dbl&gt;</th></tr>\n",
       "</thead>\n",
       "<tbody>\n",
       "\t<tr><th scope=row>gender</th><td>5.666175</td><td>1</td><td>0.017295125</td></tr>\n",
       "\t<tr><th scope=row>race</th><td>7.277030</td><td>1</td><td>0.006984192</td></tr>\n",
       "</tbody>\n",
       "</table>\n"
      ],
      "text/latex": [
       "A anova: 2 × 3\n",
       "\\begin{tabular}{r|lll}\n",
       "  & LR Chisq & Df & Pr(>Chisq)\\\\\n",
       "  & <dbl> & <dbl> & <dbl>\\\\\n",
       "\\hline\n",
       "\tgender & 5.666175 & 1 & 0.017295125\\\\\n",
       "\trace & 7.277030 & 1 & 0.006984192\\\\\n",
       "\\end{tabular}\n"
      ],
      "text/markdown": [
       "\n",
       "A anova: 2 × 3\n",
       "\n",
       "| <!--/--> | LR Chisq &lt;dbl&gt; | Df &lt;dbl&gt; | Pr(&gt;Chisq) &lt;dbl&gt; |\n",
       "|---|---|---|---|\n",
       "| gender | 5.666175 | 1 | 0.017295125 |\n",
       "| race | 7.277030 | 1 | 0.006984192 |\n",
       "\n"
      ],
      "text/plain": [
       "       LR Chisq Df Pr(>Chisq) \n",
       "gender 5.666175 1  0.017295125\n",
       "race   7.277030 1  0.006984192"
      ]
     },
     "metadata": {},
     "output_type": "display_data"
    }
   ],
   "source": [
    "car::Anova(fit)"
   ]
  },
  {
   "cell_type": "markdown",
   "metadata": {},
   "source": [
    "## 4.4 Multiple logistic regression\n",
    "\n",
    "Let $x$ be width and $\\{c_i\\}^4_{i=1}$ be colours that increase in darkness from 1 to 4. We first tream them as nominal, then as ordinal. When nominal, we can ignore one colour, since their associated probability can be figured out from the rest. \n",
    "\n",
    "$$\n",
    "\\begin{equation} \n",
    "  \\mathrm{logit}[P(Y=1)] = \\alpha + \\beta_1 x + \\beta_2 c_2 + \\beta_3 c_3 + \\beta_4 c_4.\n",
    "  \\tag{8}\n",
    "\\end{equation}\n",
    "$$\n",
    "\n",
    "- To consider a crab of a given colour, we could set $c_i = 1$ and $c_j = 0$ for all $i \\neq j$. \n",
    "- The effect of weight $x$, $\\beta_1$, is the same for all $c_i$. "
   ]
  },
  {
   "cell_type": "code",
   "execution_count": 65,
   "metadata": {
    "vscode": {
     "languageId": "r"
    }
   },
   "outputs": [
    {
     "data": {
      "text/html": [
       "<table class=\"dataframe\">\n",
       "<caption>A data.frame: 6 × 7</caption>\n",
       "<thead>\n",
       "\t<tr><th></th><th scope=col>crab</th><th scope=col>sat</th><th scope=col>y</th><th scope=col>weight</th><th scope=col>width</th><th scope=col>color</th><th scope=col>spine</th></tr>\n",
       "\t<tr><th></th><th scope=col>&lt;int&gt;</th><th scope=col>&lt;int&gt;</th><th scope=col>&lt;int&gt;</th><th scope=col>&lt;dbl&gt;</th><th scope=col>&lt;dbl&gt;</th><th scope=col>&lt;int&gt;</th><th scope=col>&lt;int&gt;</th></tr>\n",
       "</thead>\n",
       "<tbody>\n",
       "\t<tr><th scope=row>1</th><td>1</td><td>8</td><td>1</td><td>3.05</td><td>28.3</td><td>2</td><td>3</td></tr>\n",
       "\t<tr><th scope=row>2</th><td>2</td><td>0</td><td>0</td><td>1.55</td><td>22.5</td><td>3</td><td>3</td></tr>\n",
       "\t<tr><th scope=row>3</th><td>3</td><td>9</td><td>1</td><td>2.30</td><td>26.0</td><td>1</td><td>1</td></tr>\n",
       "\t<tr><th scope=row>4</th><td>4</td><td>0</td><td>0</td><td>2.10</td><td>24.8</td><td>3</td><td>3</td></tr>\n",
       "\t<tr><th scope=row>5</th><td>5</td><td>4</td><td>1</td><td>2.60</td><td>26.0</td><td>3</td><td>3</td></tr>\n",
       "\t<tr><th scope=row>6</th><td>6</td><td>0</td><td>0</td><td>2.10</td><td>23.8</td><td>2</td><td>3</td></tr>\n",
       "</tbody>\n",
       "</table>\n"
      ],
      "text/latex": [
       "A data.frame: 6 × 7\n",
       "\\begin{tabular}{r|lllllll}\n",
       "  & crab & sat & y & weight & width & color & spine\\\\\n",
       "  & <int> & <int> & <int> & <dbl> & <dbl> & <int> & <int>\\\\\n",
       "\\hline\n",
       "\t1 & 1 & 8 & 1 & 3.05 & 28.3 & 2 & 3\\\\\n",
       "\t2 & 2 & 0 & 0 & 1.55 & 22.5 & 3 & 3\\\\\n",
       "\t3 & 3 & 9 & 1 & 2.30 & 26.0 & 1 & 1\\\\\n",
       "\t4 & 4 & 0 & 0 & 2.10 & 24.8 & 3 & 3\\\\\n",
       "\t5 & 5 & 4 & 1 & 2.60 & 26.0 & 3 & 3\\\\\n",
       "\t6 & 6 & 0 & 0 & 2.10 & 23.8 & 2 & 3\\\\\n",
       "\\end{tabular}\n"
      ],
      "text/markdown": [
       "\n",
       "A data.frame: 6 × 7\n",
       "\n",
       "| <!--/--> | crab &lt;int&gt; | sat &lt;int&gt; | y &lt;int&gt; | weight &lt;dbl&gt; | width &lt;dbl&gt; | color &lt;int&gt; | spine &lt;int&gt; |\n",
       "|---|---|---|---|---|---|---|---|\n",
       "| 1 | 1 | 8 | 1 | 3.05 | 28.3 | 2 | 3 |\n",
       "| 2 | 2 | 0 | 0 | 1.55 | 22.5 | 3 | 3 |\n",
       "| 3 | 3 | 9 | 1 | 2.30 | 26.0 | 1 | 1 |\n",
       "| 4 | 4 | 0 | 0 | 2.10 | 24.8 | 3 | 3 |\n",
       "| 5 | 5 | 4 | 1 | 2.60 | 26.0 | 3 | 3 |\n",
       "| 6 | 6 | 0 | 0 | 2.10 | 23.8 | 2 | 3 |\n",
       "\n"
      ],
      "text/plain": [
       "  crab sat y weight width color spine\n",
       "1 1    8   1 3.05   28.3  2     3    \n",
       "2 2    0   0 1.55   22.5  3     3    \n",
       "3 3    9   1 2.30   26.0  1     1    \n",
       "4 4    0   0 2.10   24.8  3     3    \n",
       "5 5    4   1 2.60   26.0  3     3    \n",
       "6 6    0   0 2.10   23.8  2     3    "
      ]
     },
     "metadata": {},
     "output_type": "display_data"
    },
    {
     "data": {
      "text/plain": [
       "\n",
       "Call:\n",
       "glm(formula = y ~ width + factor(color), family = binomial, data = Crabs)\n",
       "\n",
       "Deviance Residuals: \n",
       "    Min       1Q   Median       3Q      Max  \n",
       "-2.1124  -0.9848   0.5243   0.8513   2.1413  \n",
       "\n",
       "Coefficients:\n",
       "                Estimate Std. Error z value Pr(>|z|)    \n",
       "(Intercept)    -11.38519    2.87346  -3.962 7.43e-05 ***\n",
       "width            0.46796    0.10554   4.434 9.26e-06 ***\n",
       "factor(color)2   0.07242    0.73989   0.098    0.922    \n",
       "factor(color)3  -0.22380    0.77708  -0.288    0.773    \n",
       "factor(color)4  -1.32992    0.85252  -1.560    0.119    \n",
       "---\n",
       "Signif. codes:  0 '***' 0.001 '**' 0.01 '*' 0.05 '.' 0.1 ' ' 1\n",
       "\n",
       "(Dispersion parameter for binomial family taken to be 1)\n",
       "\n",
       "    Null deviance: 225.76  on 172  degrees of freedom\n",
       "Residual deviance: 187.46  on 168  degrees of freedom\n",
       "AIC: 197.46\n",
       "\n",
       "Number of Fisher Scoring iterations: 4\n"
      ]
     },
     "metadata": {},
     "output_type": "display_data"
    }
   ],
   "source": [
    "Crabs <- read.table(\"http://users.stat.ufl.edu/~aa/cat/data/Crabs.dat\",\n",
    "  header = TRUE, stringsAsFactors = TRUE\n",
    ")\n",
    "head(Crabs)\n",
    "\n",
    "fit <- glm(y ~ width + factor(color), family = binomial, data = Crabs)\n",
    "summary(fit)"
   ]
  },
  {
   "cell_type": "markdown",
   "metadata": {},
   "source": [
    "### 4.4.2 Model comparison to check whether a term is needed. \n",
    "The test statistic $2(L_1 - L_0) \\rightarrow^{(d)} \\chi^2(n_1 - n_0)$, where\n",
    "- $L_1$ and $L_0$ are maximized log likelihoods for two models with $n_1$ and $n_0$ parameters, resp.\n",
    "- $n_1 > n_0$, so $L_0$ corresponds to a simpler model \n",
    "\n",
    "Computation\n",
    "- $2(L_1 - L_0)$ is equivalent to the difference in deviances between the two models. \n",
    "- `cars::Anova` also computes the statistic as `LR Chisq` "
   ]
  },
  {
   "cell_type": "code",
   "execution_count": 68,
   "metadata": {
    "vscode": {
     "languageId": "r"
    }
   },
   "outputs": [
    {
     "data": {
      "text/plain": [
       "\n",
       "Call:\n",
       "glm(formula = y ~ width, family = binomial, data = Crabs)\n",
       "\n",
       "Deviance Residuals: \n",
       "    Min       1Q   Median       3Q      Max  \n",
       "-2.0281  -1.0458   0.5480   0.9066   1.6942  \n",
       "\n",
       "Coefficients:\n",
       "            Estimate Std. Error z value Pr(>|z|)    \n",
       "(Intercept) -12.3508     2.6287  -4.698 2.62e-06 ***\n",
       "width         0.4972     0.1017   4.887 1.02e-06 ***\n",
       "---\n",
       "Signif. codes:  0 '***' 0.001 '**' 0.01 '*' 0.05 '.' 0.1 ' ' 1\n",
       "\n",
       "(Dispersion parameter for binomial family taken to be 1)\n",
       "\n",
       "    Null deviance: 225.76  on 172  degrees of freedom\n",
       "Residual deviance: 194.45  on 171  degrees of freedom\n",
       "AIC: 198.45\n",
       "\n",
       "Number of Fisher Scoring iterations: 4\n"
      ]
     },
     "metadata": {},
     "output_type": "display_data"
    }
   ],
   "source": [
    "summary(\n",
    "    glm(y ~ width, family=binomial, data=Crabs)\n",
    ")"
   ]
  },
  {
   "cell_type": "code",
   "execution_count": 67,
   "metadata": {
    "vscode": {
     "languageId": "r"
    }
   },
   "outputs": [
    {
     "data": {
      "text/html": [
       "<table class=\"dataframe\">\n",
       "<caption>A anova: 2 × 3</caption>\n",
       "<thead>\n",
       "\t<tr><th></th><th scope=col>LR Chisq</th><th scope=col>Df</th><th scope=col>Pr(&gt;Chisq)</th></tr>\n",
       "\t<tr><th></th><th scope=col>&lt;dbl&gt;</th><th scope=col>&lt;dbl&gt;</th><th scope=col>&lt;dbl&gt;</th></tr>\n",
       "</thead>\n",
       "<tbody>\n",
       "\t<tr><th scope=row>width</th><td>24.603807</td><td>1</td><td>7.041249e-07</td></tr>\n",
       "\t<tr><th scope=row>factor(color)</th><td> 6.995631</td><td>3</td><td>7.203714e-02</td></tr>\n",
       "</tbody>\n",
       "</table>\n"
      ],
      "text/latex": [
       "A anova: 2 × 3\n",
       "\\begin{tabular}{r|lll}\n",
       "  & LR Chisq & Df & Pr(>Chisq)\\\\\n",
       "  & <dbl> & <dbl> & <dbl>\\\\\n",
       "\\hline\n",
       "\twidth & 24.603807 & 1 & 7.041249e-07\\\\\n",
       "\tfactor(color) &  6.995631 & 3 & 7.203714e-02\\\\\n",
       "\\end{tabular}\n"
      ],
      "text/markdown": [
       "\n",
       "A anova: 2 × 3\n",
       "\n",
       "| <!--/--> | LR Chisq &lt;dbl&gt; | Df &lt;dbl&gt; | Pr(&gt;Chisq) &lt;dbl&gt; |\n",
       "|---|---|---|---|\n",
       "| width | 24.603807 | 1 | 7.041249e-07 |\n",
       "| factor(color) |  6.995631 | 3 | 7.203714e-02 |\n",
       "\n"
      ],
      "text/plain": [
       "              LR Chisq  Df Pr(>Chisq)  \n",
       "width         24.603807 1  7.041249e-07\n",
       "factor(color)  6.995631 3  7.203714e-02"
      ]
     },
     "metadata": {},
     "output_type": "display_data"
    }
   ],
   "source": [
    "car::Anova(fit)"
   ]
  },
  {
   "cell_type": "markdown",
   "metadata": {},
   "source": [
    "Thus, the difference between *residual deviances* of the models `y ~ width` and `y ~ width + factor(color)` is equivalent to the `LR Chisq` test statistic for `factor(color)`. \n",
    "\n",
    "We can also treat colour as an ordinal variable. In this case, we only have two explanatory variables, \n",
    "$$\n",
    "logit(\\pi(x)) = \\alpha + \\beta_1 x + \\beta_2 c, \\qquad \n",
    "c \\in \\{1,2,3,4\\}\n",
    "$$"
   ]
  },
  {
   "cell_type": "code",
   "execution_count": 70,
   "metadata": {
    "vscode": {
     "languageId": "r"
    }
   },
   "outputs": [
    {
     "data": {
      "text/html": [
       "<style>\n",
       ".list-inline {list-style: none; margin:0; padding: 0}\n",
       ".list-inline>li {display: inline-block}\n",
       ".list-inline>li:not(:last-child)::after {content: \"\\00b7\"; padding: 0 .5ex}\n",
       "</style>\n",
       "<ol class=list-inline><li>2</li><li>3</li><li>1</li><li>3</li><li>3</li><li>2</li><li>1</li><li>3</li><li>2</li><li>3</li><li>3</li><li>2</li><li>2</li><li>4</li><li>2</li><li>1</li><li>2</li><li>2</li><li>4</li><li>2</li><li>2</li><li>1</li><li>2</li><li>3</li><li>4</li><li>4</li><li>2</li><li>2</li><li>4</li><li>2</li><li>1</li><li>1</li><li>2</li><li>2</li><li>2</li><li>4</li><li>2</li><li>2</li><li>4</li><li>2</li><li>3</li><li>1</li><li>1</li><li>2</li><li>3</li><li>3</li><li>2</li><li>2</li><li>2</li><li>2</li><li>4</li><li>2</li><li>1</li><li>2</li><li>2</li><li>2</li><li>2</li><li>3</li><li>2</li><li>4</li><li>3</li><li>3</li><li>3</li><li>2</li><li>2</li><li>2</li><li>2</li><li>2</li><li>2</li><li>2</li><li>3</li><li>3</li><li>3</li><li>2</li><li>3</li><li>2</li><li>3</li><li>2</li><li>3</li><li>2</li><li>3</li><li>4</li><li>3</li><li>3</li><li>2</li><li>4</li><li>2</li><li>4</li><li>4</li><li>2</li><li>2</li><li>2</li><li>4</li><li>2</li><li>3</li><li>2</li><li>3</li><li>3</li><li>3</li><li>3</li><li>2</li><li>2</li><li>2</li><li>2</li><li>2</li><li>3</li><li>2</li><li>2</li><li>2</li><li>2</li><li>2</li><li>2</li><li>3</li><li>2</li><li>2</li><li>4</li><li>4</li><li>3</li><li>2</li><li>3</li><li>3</li><li>1</li><li>3</li><li>2</li><li>2</li><li>2</li><li>3</li><li>4</li><li>2</li><li>2</li><li>1</li><li>2</li><li>2</li><li>4</li><li>2</li><li>2</li><li>2</li><li>3</li><li>2</li><li>2</li><li>2</li><li>2</li><li>3</li><li>2</li><li>2</li><li>4</li><li>2</li><li>2</li><li>3</li><li>2</li><li>2</li><li>2</li><li>2</li><li>2</li><li>4</li><li>2</li><li>2</li><li>2</li><li>3</li><li>3</li><li>2</li><li>2</li><li>2</li><li>4</li><li>2</li><li>2</li><li>3</li><li>3</li><li>3</li><li>3</li><li>1</li><li>4</li><li>2</li></ol>\n"
      ],
      "text/latex": [
       "\\begin{enumerate*}\n",
       "\\item 2\n",
       "\\item 3\n",
       "\\item 1\n",
       "\\item 3\n",
       "\\item 3\n",
       "\\item 2\n",
       "\\item 1\n",
       "\\item 3\n",
       "\\item 2\n",
       "\\item 3\n",
       "\\item 3\n",
       "\\item 2\n",
       "\\item 2\n",
       "\\item 4\n",
       "\\item 2\n",
       "\\item 1\n",
       "\\item 2\n",
       "\\item 2\n",
       "\\item 4\n",
       "\\item 2\n",
       "\\item 2\n",
       "\\item 1\n",
       "\\item 2\n",
       "\\item 3\n",
       "\\item 4\n",
       "\\item 4\n",
       "\\item 2\n",
       "\\item 2\n",
       "\\item 4\n",
       "\\item 2\n",
       "\\item 1\n",
       "\\item 1\n",
       "\\item 2\n",
       "\\item 2\n",
       "\\item 2\n",
       "\\item 4\n",
       "\\item 2\n",
       "\\item 2\n",
       "\\item 4\n",
       "\\item 2\n",
       "\\item 3\n",
       "\\item 1\n",
       "\\item 1\n",
       "\\item 2\n",
       "\\item 3\n",
       "\\item 3\n",
       "\\item 2\n",
       "\\item 2\n",
       "\\item 2\n",
       "\\item 2\n",
       "\\item 4\n",
       "\\item 2\n",
       "\\item 1\n",
       "\\item 2\n",
       "\\item 2\n",
       "\\item 2\n",
       "\\item 2\n",
       "\\item 3\n",
       "\\item 2\n",
       "\\item 4\n",
       "\\item 3\n",
       "\\item 3\n",
       "\\item 3\n",
       "\\item 2\n",
       "\\item 2\n",
       "\\item 2\n",
       "\\item 2\n",
       "\\item 2\n",
       "\\item 2\n",
       "\\item 2\n",
       "\\item 3\n",
       "\\item 3\n",
       "\\item 3\n",
       "\\item 2\n",
       "\\item 3\n",
       "\\item 2\n",
       "\\item 3\n",
       "\\item 2\n",
       "\\item 3\n",
       "\\item 2\n",
       "\\item 3\n",
       "\\item 4\n",
       "\\item 3\n",
       "\\item 3\n",
       "\\item 2\n",
       "\\item 4\n",
       "\\item 2\n",
       "\\item 4\n",
       "\\item 4\n",
       "\\item 2\n",
       "\\item 2\n",
       "\\item 2\n",
       "\\item 4\n",
       "\\item 2\n",
       "\\item 3\n",
       "\\item 2\n",
       "\\item 3\n",
       "\\item 3\n",
       "\\item 3\n",
       "\\item 3\n",
       "\\item 2\n",
       "\\item 2\n",
       "\\item 2\n",
       "\\item 2\n",
       "\\item 2\n",
       "\\item 3\n",
       "\\item 2\n",
       "\\item 2\n",
       "\\item 2\n",
       "\\item 2\n",
       "\\item 2\n",
       "\\item 2\n",
       "\\item 3\n",
       "\\item 2\n",
       "\\item 2\n",
       "\\item 4\n",
       "\\item 4\n",
       "\\item 3\n",
       "\\item 2\n",
       "\\item 3\n",
       "\\item 3\n",
       "\\item 1\n",
       "\\item 3\n",
       "\\item 2\n",
       "\\item 2\n",
       "\\item 2\n",
       "\\item 3\n",
       "\\item 4\n",
       "\\item 2\n",
       "\\item 2\n",
       "\\item 1\n",
       "\\item 2\n",
       "\\item 2\n",
       "\\item 4\n",
       "\\item 2\n",
       "\\item 2\n",
       "\\item 2\n",
       "\\item 3\n",
       "\\item 2\n",
       "\\item 2\n",
       "\\item 2\n",
       "\\item 2\n",
       "\\item 3\n",
       "\\item 2\n",
       "\\item 2\n",
       "\\item 4\n",
       "\\item 2\n",
       "\\item 2\n",
       "\\item 3\n",
       "\\item 2\n",
       "\\item 2\n",
       "\\item 2\n",
       "\\item 2\n",
       "\\item 2\n",
       "\\item 4\n",
       "\\item 2\n",
       "\\item 2\n",
       "\\item 2\n",
       "\\item 3\n",
       "\\item 3\n",
       "\\item 2\n",
       "\\item 2\n",
       "\\item 2\n",
       "\\item 4\n",
       "\\item 2\n",
       "\\item 2\n",
       "\\item 3\n",
       "\\item 3\n",
       "\\item 3\n",
       "\\item 3\n",
       "\\item 1\n",
       "\\item 4\n",
       "\\item 2\n",
       "\\end{enumerate*}\n"
      ],
      "text/markdown": [
       "1. 2\n",
       "2. 3\n",
       "3. 1\n",
       "4. 3\n",
       "5. 3\n",
       "6. 2\n",
       "7. 1\n",
       "8. 3\n",
       "9. 2\n",
       "10. 3\n",
       "11. 3\n",
       "12. 2\n",
       "13. 2\n",
       "14. 4\n",
       "15. 2\n",
       "16. 1\n",
       "17. 2\n",
       "18. 2\n",
       "19. 4\n",
       "20. 2\n",
       "21. 2\n",
       "22. 1\n",
       "23. 2\n",
       "24. 3\n",
       "25. 4\n",
       "26. 4\n",
       "27. 2\n",
       "28. 2\n",
       "29. 4\n",
       "30. 2\n",
       "31. 1\n",
       "32. 1\n",
       "33. 2\n",
       "34. 2\n",
       "35. 2\n",
       "36. 4\n",
       "37. 2\n",
       "38. 2\n",
       "39. 4\n",
       "40. 2\n",
       "41. 3\n",
       "42. 1\n",
       "43. 1\n",
       "44. 2\n",
       "45. 3\n",
       "46. 3\n",
       "47. 2\n",
       "48. 2\n",
       "49. 2\n",
       "50. 2\n",
       "51. 4\n",
       "52. 2\n",
       "53. 1\n",
       "54. 2\n",
       "55. 2\n",
       "56. 2\n",
       "57. 2\n",
       "58. 3\n",
       "59. 2\n",
       "60. 4\n",
       "61. 3\n",
       "62. 3\n",
       "63. 3\n",
       "64. 2\n",
       "65. 2\n",
       "66. 2\n",
       "67. 2\n",
       "68. 2\n",
       "69. 2\n",
       "70. 2\n",
       "71. 3\n",
       "72. 3\n",
       "73. 3\n",
       "74. 2\n",
       "75. 3\n",
       "76. 2\n",
       "77. 3\n",
       "78. 2\n",
       "79. 3\n",
       "80. 2\n",
       "81. 3\n",
       "82. 4\n",
       "83. 3\n",
       "84. 3\n",
       "85. 2\n",
       "86. 4\n",
       "87. 2\n",
       "88. 4\n",
       "89. 4\n",
       "90. 2\n",
       "91. 2\n",
       "92. 2\n",
       "93. 4\n",
       "94. 2\n",
       "95. 3\n",
       "96. 2\n",
       "97. 3\n",
       "98. 3\n",
       "99. 3\n",
       "100. 3\n",
       "101. 2\n",
       "102. 2\n",
       "103. 2\n",
       "104. 2\n",
       "105. 2\n",
       "106. 3\n",
       "107. 2\n",
       "108. 2\n",
       "109. 2\n",
       "110. 2\n",
       "111. 2\n",
       "112. 2\n",
       "113. 3\n",
       "114. 2\n",
       "115. 2\n",
       "116. 4\n",
       "117. 4\n",
       "118. 3\n",
       "119. 2\n",
       "120. 3\n",
       "121. 3\n",
       "122. 1\n",
       "123. 3\n",
       "124. 2\n",
       "125. 2\n",
       "126. 2\n",
       "127. 3\n",
       "128. 4\n",
       "129. 2\n",
       "130. 2\n",
       "131. 1\n",
       "132. 2\n",
       "133. 2\n",
       "134. 4\n",
       "135. 2\n",
       "136. 2\n",
       "137. 2\n",
       "138. 3\n",
       "139. 2\n",
       "140. 2\n",
       "141. 2\n",
       "142. 2\n",
       "143. 3\n",
       "144. 2\n",
       "145. 2\n",
       "146. 4\n",
       "147. 2\n",
       "148. 2\n",
       "149. 3\n",
       "150. 2\n",
       "151. 2\n",
       "152. 2\n",
       "153. 2\n",
       "154. 2\n",
       "155. 4\n",
       "156. 2\n",
       "157. 2\n",
       "158. 2\n",
       "159. 3\n",
       "160. 3\n",
       "161. 2\n",
       "162. 2\n",
       "163. 2\n",
       "164. 4\n",
       "165. 2\n",
       "166. 2\n",
       "167. 3\n",
       "168. 3\n",
       "169. 3\n",
       "170. 3\n",
       "171. 1\n",
       "172. 4\n",
       "173. 2\n",
       "\n",
       "\n"
      ],
      "text/plain": [
       "  [1] 2 3 1 3 3 2 1 3 2 3 3 2 2 4 2 1 2 2 4 2 2 1 2 3 4 4 2 2 4 2 1 1 2 2 2 4 2\n",
       " [38] 2 4 2 3 1 1 2 3 3 2 2 2 2 4 2 1 2 2 2 2 3 2 4 3 3 3 2 2 2 2 2 2 2 3 3 3 2\n",
       " [75] 3 2 3 2 3 2 3 4 3 3 2 4 2 4 4 2 2 2 4 2 3 2 3 3 3 3 2 2 2 2 2 3 2 2 2 2 2\n",
       "[112] 2 3 2 2 4 4 3 2 3 3 1 3 2 2 2 3 4 2 2 1 2 2 4 2 2 2 3 2 2 2 2 3 2 2 4 2 2\n",
       "[149] 3 2 2 2 2 2 4 2 2 2 3 3 2 2 2 4 2 2 3 3 3 3 1 4 2"
      ]
     },
     "metadata": {},
     "output_type": "display_data"
    }
   ],
   "source": [
    "Crabs$color"
   ]
  },
  {
   "cell_type": "code",
   "execution_count": 71,
   "metadata": {
    "vscode": {
     "languageId": "r"
    }
   },
   "outputs": [
    {
     "data": {
      "text/plain": [
       "\n",
       "Call:\n",
       "glm(formula = y ~ width + color, family = binomial, data = Crabs)\n",
       "\n",
       "Deviance Residuals: \n",
       "    Min       1Q   Median       3Q      Max  \n",
       "-2.1692  -0.9889   0.5429   0.8700   1.9742  \n",
       "\n",
       "Coefficients:\n",
       "            Estimate Std. Error z value Pr(>|z|)    \n",
       "(Intercept) -10.0708     2.8068  -3.588 0.000333 ***\n",
       "width         0.4583     0.1040   4.406 1.05e-05 ***\n",
       "color        -0.5090     0.2237  -2.276 0.022860 *  \n",
       "---\n",
       "Signif. codes:  0 '***' 0.001 '**' 0.01 '*' 0.05 '.' 0.1 ' ' 1\n",
       "\n",
       "(Dispersion parameter for binomial family taken to be 1)\n",
       "\n",
       "    Null deviance: 225.76  on 172  degrees of freedom\n",
       "Residual deviance: 189.12  on 170  degrees of freedom\n",
       "AIC: 195.12\n",
       "\n",
       "Number of Fisher Scoring iterations: 4\n"
      ]
     },
     "metadata": {},
     "output_type": "display_data"
    }
   ],
   "source": [
    "fit2 <- glm(\n",
    "    y ~ width + color, family=binomial, data=Crabs \n",
    ")\n",
    "summary(fit2)"
   ]
  },
  {
   "cell_type": "markdown",
   "metadata": {},
   "source": [
    "To compare this model with the previous, which treated colours as nominal variables, we can use the `cars::anova` function to perform a likelihood ratio test between the two models"
   ]
  },
  {
   "cell_type": "code",
   "execution_count": 79,
   "metadata": {
    "vscode": {
     "languageId": "r"
    }
   },
   "outputs": [
    {
     "data": {
      "text/html": [
       "<table class=\"dataframe\">\n",
       "<caption>A anova: 2 × 5</caption>\n",
       "<thead>\n",
       "\t<tr><th></th><th scope=col>Resid. Df</th><th scope=col>Resid. Dev</th><th scope=col>Df</th><th scope=col>Deviance</th><th scope=col>Pr(&gt;Chi)</th></tr>\n",
       "\t<tr><th></th><th scope=col>&lt;dbl&gt;</th><th scope=col>&lt;dbl&gt;</th><th scope=col>&lt;dbl&gt;</th><th scope=col>&lt;dbl&gt;</th><th scope=col>&lt;dbl&gt;</th></tr>\n",
       "</thead>\n",
       "<tbody>\n",
       "\t<tr><th scope=row>1</th><td>170</td><td>189.1212</td><td>NA</td><td>      NA</td><td>       NA</td></tr>\n",
       "\t<tr><th scope=row>2</th><td>168</td><td>187.4570</td><td> 2</td><td>1.664145</td><td>0.4351466</td></tr>\n",
       "</tbody>\n",
       "</table>\n"
      ],
      "text/latex": [
       "A anova: 2 × 5\n",
       "\\begin{tabular}{r|lllll}\n",
       "  & Resid. Df & Resid. Dev & Df & Deviance & Pr(>Chi)\\\\\n",
       "  & <dbl> & <dbl> & <dbl> & <dbl> & <dbl>\\\\\n",
       "\\hline\n",
       "\t1 & 170 & 189.1212 & NA &       NA &        NA\\\\\n",
       "\t2 & 168 & 187.4570 &  2 & 1.664145 & 0.4351466\\\\\n",
       "\\end{tabular}\n"
      ],
      "text/markdown": [
       "\n",
       "A anova: 2 × 5\n",
       "\n",
       "| <!--/--> | Resid. Df &lt;dbl&gt; | Resid. Dev &lt;dbl&gt; | Df &lt;dbl&gt; | Deviance &lt;dbl&gt; | Pr(&gt;Chi) &lt;dbl&gt; |\n",
       "|---|---|---|---|---|---|\n",
       "| 1 | 170 | 189.1212 | NA |       NA |        NA |\n",
       "| 2 | 168 | 187.4570 |  2 | 1.664145 | 0.4351466 |\n",
       "\n"
      ],
      "text/plain": [
       "  Resid. Df Resid. Dev Df Deviance Pr(>Chi) \n",
       "1 170       189.1212   NA       NA        NA\n",
       "2 168       187.4570    2 1.664145 0.4351466"
      ]
     },
     "metadata": {},
     "output_type": "display_data"
    },
    {
     "data": {
      "text/html": [
       "<table class=\"dataframe\">\n",
       "<caption>A anova: 2 × 5</caption>\n",
       "<thead>\n",
       "\t<tr><th></th><th scope=col>Resid. Df</th><th scope=col>Resid. Dev</th><th scope=col>Df</th><th scope=col>Deviance</th><th scope=col>Pr(&gt;Chi)</th></tr>\n",
       "\t<tr><th></th><th scope=col>&lt;dbl&gt;</th><th scope=col>&lt;dbl&gt;</th><th scope=col>&lt;dbl&gt;</th><th scope=col>&lt;dbl&gt;</th><th scope=col>&lt;dbl&gt;</th></tr>\n",
       "</thead>\n",
       "<tbody>\n",
       "\t<tr><th scope=row>1</th><td>168</td><td>187.4570</td><td>NA</td><td>       NA</td><td>       NA</td></tr>\n",
       "\t<tr><th scope=row>2</th><td>170</td><td>189.1212</td><td>-2</td><td>-1.664145</td><td>0.4351466</td></tr>\n",
       "</tbody>\n",
       "</table>\n"
      ],
      "text/latex": [
       "A anova: 2 × 5\n",
       "\\begin{tabular}{r|lllll}\n",
       "  & Resid. Df & Resid. Dev & Df & Deviance & Pr(>Chi)\\\\\n",
       "  & <dbl> & <dbl> & <dbl> & <dbl> & <dbl>\\\\\n",
       "\\hline\n",
       "\t1 & 168 & 187.4570 & NA &        NA &        NA\\\\\n",
       "\t2 & 170 & 189.1212 & -2 & -1.664145 & 0.4351466\\\\\n",
       "\\end{tabular}\n"
      ],
      "text/markdown": [
       "\n",
       "A anova: 2 × 5\n",
       "\n",
       "| <!--/--> | Resid. Df &lt;dbl&gt; | Resid. Dev &lt;dbl&gt; | Df &lt;dbl&gt; | Deviance &lt;dbl&gt; | Pr(&gt;Chi) &lt;dbl&gt; |\n",
       "|---|---|---|---|---|---|\n",
       "| 1 | 168 | 187.4570 | NA |        NA |        NA |\n",
       "| 2 | 170 | 189.1212 | -2 | -1.664145 | 0.4351466 |\n",
       "\n"
      ],
      "text/plain": [
       "  Resid. Df Resid. Dev Df Deviance  Pr(>Chi) \n",
       "1 168       187.4570   NA        NA        NA\n",
       "2 170       189.1212   -2 -1.664145 0.4351466"
      ]
     },
     "metadata": {},
     "output_type": "display_data"
    }
   ],
   "source": [
    "anova(fit2, fit, test=\"LRT\")\n",
    "anova(fit, fit2, test=\"LRT\")"
   ]
  },
  {
   "cell_type": "markdown",
   "metadata": {},
   "source": [
    "The deviance between the two models is not large (1.66), and there is strong evidence of effect for ordinal colour. Thus, the simpler model is adequate. \n",
    "\n",
    "We also note that, in the model with nominal colouurs, the coefficients of colours 1-3 were similar to each other, but not the last:\n",
    "```\n",
    "Coefficients:\n",
    "                Estimate Std. Error z value Pr(>|z|)    \n",
    "(Intercept)    -11.38519    2.87346  -3.962 7.43e-05 ***\n",
    "width            0.46796    0.10554   4.434 9.26e-06 ***\n",
    "factor(color)2   0.07242    0.73989   0.098    0.922    \n",
    "factor(color)3  -0.22380    0.77708  -0.288    0.773    \n",
    "factor(color)4  -1.32992    0.85252  -1.560    0.119  \n",
    "```\n",
    "\n",
    "Thus, we could try another color scoring using just $c_4$, ie the model would use $(c_1, c_2, c_3, c_4) = (0,0,0,1)$. "
   ]
  },
  {
   "cell_type": "code",
   "execution_count": 81,
   "metadata": {
    "vscode": {
     "languageId": "r"
    }
   },
   "outputs": [
    {
     "data": {
      "text/plain": [
       "\n",
       "Call:\n",
       "glm(formula = y ~ width + c4, family = binomial, data = Crabs)\n",
       "\n",
       "Deviance Residuals: \n",
       "    Min       1Q   Median       3Q      Max  \n",
       "-2.0821  -0.9932   0.5274   0.8606   2.1553  \n",
       "\n",
       "Coefficients:\n",
       "            Estimate Std. Error z value Pr(>|z|)    \n",
       "(Intercept) -11.6790     2.6925  -4.338 1.44e-05 ***\n",
       "width         0.4782     0.1041   4.592 4.39e-06 ***\n",
       "c4           -1.3005     0.5259  -2.473   0.0134 *  \n",
       "---\n",
       "Signif. codes:  0 '***' 0.001 '**' 0.01 '*' 0.05 '.' 0.1 ' ' 1\n",
       "\n",
       "(Dispersion parameter for binomial family taken to be 1)\n",
       "\n",
       "    Null deviance: 225.76  on 172  degrees of freedom\n",
       "Residual deviance: 187.96  on 170  degrees of freedom\n",
       "AIC: 193.96\n",
       "\n",
       "Number of Fisher Scoring iterations: 4\n"
      ]
     },
     "metadata": {},
     "output_type": "display_data"
    }
   ],
   "source": [
    "# indicator for color 4\n",
    "Crabs$c4 <- ifelse(Crabs$color == 4, 1, 0)\n",
    "\n",
    "fit3 <- glm(y ~ width + c4, family=binomial, data=Crabs)\n",
    "summary(fit3)"
   ]
  },
  {
   "cell_type": "code",
   "execution_count": 83,
   "metadata": {
    "vscode": {
     "languageId": "r"
    }
   },
   "outputs": [
    {
     "data": {
      "text/html": [
       "<table class=\"dataframe\">\n",
       "<caption>A anova: 2 × 5</caption>\n",
       "<thead>\n",
       "\t<tr><th></th><th scope=col>Resid. Df</th><th scope=col>Resid. Dev</th><th scope=col>Df</th><th scope=col>Deviance</th><th scope=col>Pr(&gt;Chi)</th></tr>\n",
       "\t<tr><th></th><th scope=col>&lt;dbl&gt;</th><th scope=col>&lt;dbl&gt;</th><th scope=col>&lt;dbl&gt;</th><th scope=col>&lt;dbl&gt;</th><th scope=col>&lt;dbl&gt;</th></tr>\n",
       "</thead>\n",
       "<tbody>\n",
       "\t<tr><th scope=row>1</th><td>170</td><td>187.9579</td><td>NA</td><td>       NA</td><td>       NA</td></tr>\n",
       "\t<tr><th scope=row>2</th><td>168</td><td>187.4570</td><td> 2</td><td>0.5008469</td><td>0.7784711</td></tr>\n",
       "</tbody>\n",
       "</table>\n"
      ],
      "text/latex": [
       "A anova: 2 × 5\n",
       "\\begin{tabular}{r|lllll}\n",
       "  & Resid. Df & Resid. Dev & Df & Deviance & Pr(>Chi)\\\\\n",
       "  & <dbl> & <dbl> & <dbl> & <dbl> & <dbl>\\\\\n",
       "\\hline\n",
       "\t1 & 170 & 187.9579 & NA &        NA &        NA\\\\\n",
       "\t2 & 168 & 187.4570 &  2 & 0.5008469 & 0.7784711\\\\\n",
       "\\end{tabular}\n"
      ],
      "text/markdown": [
       "\n",
       "A anova: 2 × 5\n",
       "\n",
       "| <!--/--> | Resid. Df &lt;dbl&gt; | Resid. Dev &lt;dbl&gt; | Df &lt;dbl&gt; | Deviance &lt;dbl&gt; | Pr(&gt;Chi) &lt;dbl&gt; |\n",
       "|---|---|---|---|---|---|\n",
       "| 1 | 170 | 187.9579 | NA |        NA |        NA |\n",
       "| 2 | 168 | 187.4570 |  2 | 0.5008469 | 0.7784711 |\n",
       "\n"
      ],
      "text/plain": [
       "  Resid. Df Resid. Dev Df Deviance  Pr(>Chi) \n",
       "1 170       187.9579   NA        NA        NA\n",
       "2 168       187.4570    2 0.5008469 0.7784711"
      ]
     },
     "metadata": {},
     "output_type": "display_data"
    }
   ],
   "source": [
    "anova(fit3, fit, test=\"LRT\")"
   ]
  },
  {
   "cell_type": "markdown",
   "metadata": {},
   "source": [
    "The small deviance with the full nominal colour model suggests that $y \\sim \\text{width} + c_4$ is also adequate. Each model suggests that darker-coloured crabs have lower probability of having satellites.\n",
    "\n",
    "### 4.4.4 Allowing interaction between explanatory variables\n",
    "\n",
    "We can add interaction terms to the model when we fit it with `glm`"
   ]
  },
  {
   "cell_type": "code",
   "execution_count": 85,
   "metadata": {
    "vscode": {
     "languageId": "r"
    }
   },
   "outputs": [
    {
     "data": {
      "text/plain": [
       "\n",
       "Call:\n",
       "glm(formula = y ~ width + c4 + width:c4, family = binomial, data = Crabs)\n",
       "\n",
       "Deviance Residuals: \n",
       "    Min       1Q   Median       3Q      Max  \n",
       "-2.1366  -0.9344   0.4996   0.8554   1.7753  \n",
       "\n",
       "Coefficients:\n",
       "            Estimate Std. Error z value Pr(>|z|)    \n",
       "(Intercept) -12.8117     2.9576  -4.332 1.48e-05 ***\n",
       "width         0.5222     0.1146   4.556 5.21e-06 ***\n",
       "c4            6.9578     7.3182   0.951    0.342    \n",
       "width:c4     -0.3217     0.2857  -1.126    0.260    \n",
       "---\n",
       "Signif. codes:  0 '***' 0.001 '**' 0.01 '*' 0.05 '.' 0.1 ' ' 1\n",
       "\n",
       "(Dispersion parameter for binomial family taken to be 1)\n",
       "\n",
       "    Null deviance: 225.76  on 172  degrees of freedom\n",
       "Residual deviance: 186.79  on 169  degrees of freedom\n",
       "AIC: 194.79\n",
       "\n",
       "Number of Fisher Scoring iterations: 4\n"
      ]
     },
     "metadata": {},
     "output_type": "display_data"
    }
   ],
   "source": [
    "fit_interaction <- glm(y ~ width + c4 + width:c4, family=binomial, data=Crabs)\n",
    "summary(fit_interaction)"
   ]
  },
  {
   "cell_type": "code",
   "execution_count": 87,
   "metadata": {
    "vscode": {
     "languageId": "r"
    }
   },
   "outputs": [
    {
     "data": {
      "text/html": [
       "<table class=\"dataframe\">\n",
       "<caption>A anova: 2 × 5</caption>\n",
       "<thead>\n",
       "\t<tr><th></th><th scope=col>Resid. Df</th><th scope=col>Resid. Dev</th><th scope=col>Df</th><th scope=col>Deviance</th><th scope=col>Pr(&gt;Chi)</th></tr>\n",
       "\t<tr><th></th><th scope=col>&lt;dbl&gt;</th><th scope=col>&lt;dbl&gt;</th><th scope=col>&lt;dbl&gt;</th><th scope=col>&lt;dbl&gt;</th><th scope=col>&lt;dbl&gt;</th></tr>\n",
       "</thead>\n",
       "<tbody>\n",
       "\t<tr><th scope=row>1</th><td>170</td><td>187.9579</td><td>NA</td><td>      NA</td><td>       NA</td></tr>\n",
       "\t<tr><th scope=row>2</th><td>169</td><td>186.7864</td><td> 1</td><td>1.171525</td><td>0.2790881</td></tr>\n",
       "</tbody>\n",
       "</table>\n"
      ],
      "text/latex": [
       "A anova: 2 × 5\n",
       "\\begin{tabular}{r|lllll}\n",
       "  & Resid. Df & Resid. Dev & Df & Deviance & Pr(>Chi)\\\\\n",
       "  & <dbl> & <dbl> & <dbl> & <dbl> & <dbl>\\\\\n",
       "\\hline\n",
       "\t1 & 170 & 187.9579 & NA &       NA &        NA\\\\\n",
       "\t2 & 169 & 186.7864 &  1 & 1.171525 & 0.2790881\\\\\n",
       "\\end{tabular}\n"
      ],
      "text/markdown": [
       "\n",
       "A anova: 2 × 5\n",
       "\n",
       "| <!--/--> | Resid. Df &lt;dbl&gt; | Resid. Dev &lt;dbl&gt; | Df &lt;dbl&gt; | Deviance &lt;dbl&gt; | Pr(&gt;Chi) &lt;dbl&gt; |\n",
       "|---|---|---|---|---|---|\n",
       "| 1 | 170 | 187.9579 | NA |       NA |        NA |\n",
       "| 2 | 169 | 186.7864 |  1 | 1.171525 | 0.2790881 |\n",
       "\n"
      ],
      "text/plain": [
       "  Resid. Df Resid. Dev Df Deviance Pr(>Chi) \n",
       "1 170       187.9579   NA       NA        NA\n",
       "2 169       186.7864    1 1.171525 0.2790881"
      ]
     },
     "metadata": {},
     "output_type": "display_data"
    }
   ],
   "source": [
    "anova(fit3, fit_interaction, test=\"LRT\")"
   ]
  },
  {
   "cell_type": "markdown",
   "metadata": {},
   "source": [
    "The evidence of this interaction is weak $P=0.28$, but the sample size is also small $n=28$. \n",
    "\n",
    "## 4.5 Summarizing effects in logistic regression\n",
    "\n",
    "### 4.5.1 Probability-based interpretations\n",
    "We can find $P(Y=1)$ for different combinations of the explanatory variables $x_j$. \n",
    "- For each $x_j$, set the other $x_i$ to their means, find $x_j$, then compute $P(Y=1)$ \n",
    "  - this is problematic if $x_i = E[x_i]$ causes $x_j$ to take extreme values \n",
    "- alternatively, compute $P(Y=1)$ at the upper and lower quartiles of $x_j$, ie over the middle 50% of the range of $x_j$ "
   ]
  },
  {
   "cell_type": "code",
   "execution_count": 92,
   "metadata": {
    "vscode": {
     "languageId": "r"
    }
   },
   "outputs": [
    {
     "data": {
      "text/html": [
       "<strong>1:</strong> 0.400629259105332"
      ],
      "text/latex": [
       "\\textbf{1:} 0.400629259105332"
      ],
      "text/markdown": [
       "**1:** 0.400629259105332"
      ],
      "text/plain": [
       "        1 \n",
       "0.4006293 "
      ]
     },
     "metadata": {},
     "output_type": "display_data"
    },
    {
     "data": {
      "text/html": [
       "<strong>1:</strong> 0.710470078986978"
      ],
      "text/latex": [
       "\\textbf{1:} 0.710470078986978"
      ],
      "text/markdown": [
       "**1:** 0.710470078986978"
      ],
      "text/plain": [
       "        1 \n",
       "0.7104701 "
      ]
     },
     "metadata": {},
     "output_type": "display_data"
    },
    {
     "data": {
      "text/html": [
       "<style>\n",
       ".dl-inline {width: auto; margin:0; padding: 0}\n",
       ".dl-inline>dt, .dl-inline>dd {float: none; width: auto; display: inline-block}\n",
       ".dl-inline>dt::after {content: \":\\0020\"; padding-right: .5ex}\n",
       ".dl-inline>dt:not(:first-of-type) {padding-left: .5ex}\n",
       "</style><dl class=dl-inline><dt>0%</dt><dd>0.14163936138659</dd><dt>25%</dt><dd>0.515826406121337</dd><dt>50%</dt><dd>0.654118782921888</dd><dt>75%</dt><dd>0.802556412562728</dd><dt>100%</dt><dd>0.984873106454209</dd></dl>\n"
      ],
      "text/latex": [
       "\\begin{description*}\n",
       "\\item[0\\textbackslash{}\\%] 0.14163936138659\n",
       "\\item[25\\textbackslash{}\\%] 0.515826406121337\n",
       "\\item[50\\textbackslash{}\\%] 0.654118782921888\n",
       "\\item[75\\textbackslash{}\\%] 0.802556412562728\n",
       "\\item[100\\textbackslash{}\\%] 0.984873106454209\n",
       "\\end{description*}\n"
      ],
      "text/markdown": [
       "0%\n",
       ":   0.1416393613865925%\n",
       ":   0.51582640612133750%\n",
       ":   0.65411878292188875%\n",
       ":   0.802556412562728100%\n",
       ":   0.984873106454209\n",
       "\n"
      ],
      "text/plain": [
       "       0%       25%       50%       75%      100% \n",
       "0.1416394 0.5158264 0.6541188 0.8025564 0.9848731 "
      ]
     },
     "metadata": {},
     "output_type": "display_data"
    }
   ],
   "source": [
    "m <- mean(Crabs$width)\n",
    "predict(fit3, data.frame(c4=1, width=m), type=\"response\")\n",
    "predict(fit3, data.frame(c4=0, width=m), type=\"response\")\n",
    "predict(fit3, data.frame(c4=mean(Crabs$c4), width=quantile(Crabs$width)), type=\"resp\")"
   ]
  },
  {
   "cell_type": "markdown",
   "metadata": {},
   "source": [
    "### 4.5.2 Marginal effects and their average\n",
    "- $\\beta \\pi(x) (1-\\pi(x))$ = the rate of change in probability due to a 1-unit increase in $x$. \n",
    "- We can average this rate for the $n$ samples of the explanatory variables, which yields the *average marginal effect*"
   ]
  },
  {
   "cell_type": "code",
   "execution_count": 96,
   "metadata": {
    "vscode": {
     "languageId": "r"
    }
   },
   "outputs": [
    {
     "data": {
      "text/plain": [
       "Call:\n",
       "logitmfx(formula = fit3, data = Crabs, atmean = FALSE)\n",
       "\n",
       "Marginal Effects:\n",
       "          dF/dx Std. Err.       z     P>|z|    \n",
       "width  0.087483  0.024472  3.5748 0.0003504 ***\n",
       "c4    -0.261420  0.105690 -2.4735 0.0133809 *  \n",
       "---\n",
       "Signif. codes:  0 '***' 0.001 '**' 0.01 '*' 0.05 '.' 0.1 ' ' 1\n",
       "\n",
       "dF/dx is for discrete change for the following variables:\n",
       "\n",
       "[1] \"c4\""
      ]
     },
     "metadata": {},
     "output_type": "display_data"
    }
   ],
   "source": [
    "library(mfx)\n",
    "fit3 <- glm(y ~ width + c4, family=binomial, data=Crabs)\n",
    "logitmfx(fit3, atmean=FALSE, data=Crabs)"
   ]
  },
  {
   "cell_type": "markdown",
   "metadata": {},
   "source": [
    "The `dF/dx` values are rates of probability change:\n",
    "- for a 1-cm increase in width, the probability of satellites goes up by 0.08\n",
    "- for a 1-category increase in colour darkness, the probability goes *down* by 0.26\n",
    "\n",
    "### 4.5.3 Standardized Interpretations\n",
    "- Comparing effects like above is invalid when the variables have different units/scales. \n",
    "- We can standardize by replacing $x_j$ with $(x_j - E[x_j]) / \\sigma_{x_j}$, and redo fitting\n",
    "- Then, an increase of magnitude one corresponds to an increase of size $\\sigma_{x_j}$ for every $x_j$\n",
    "\n",
    "## 4.6 Summarizing predictive power with classification tables, ROC curves, and multiple correlation\n",
    "\n",
    "### 4.6.1 Classification tables\n",
    "\n",
    "A classification table is a table of predicted classifications:\n",
    "- Use the model to compute probabilities $\\{\\hat{\\pi}_i\\}^n_{i=1}$ \n",
    "- To classify probabilities, ie determine whether $\\hat{y}_i=0$ or $\\hat{y}_i=1$, compare to a threshold $\\pi_0$\n",
    "\n",
    "$$\\hat{y}_i = \\begin{cases} 1 & \\text{if } \\quad  \\hat{\\pi}_i > \\pi_0 \\\\ 0 & \\text{else} \\end{cases}$$\n",
    "\n",
    "- At this point, we have a $(2 \\times 1)$ table of predictions. We get a full classification table by comparing the predictions with the true data, obtaining true/false positive and negatives. \n",
    "\n",
    "How do we set $\\pi_0$? \n",
    "- We can take $\\pi_0 = 0.5$, but if the probability of success is low (e.g. some rare event), then the model may never predict a success. Similarly, if the probability of success is high, then the model may *always* predict $\\hat{y}_i = 1$. \n",
    "- Alternatively, we set $\\pi_0 = \\frac{1}{n} \\sum^n_i y_i \\rightarrow E[Y]$, ie the sample average of successful outcomes \n",
    "  - note this is equivalent to $\\hat{\\pi}_i$ for a model that only has an intercept term "
   ]
  },
  {
   "cell_type": "code",
   "execution_count": 97,
   "metadata": {
    "vscode": {
     "languageId": "r"
    }
   },
   "outputs": [
    {
     "data": {
      "text/html": [
       "0.641618497109827"
      ],
      "text/latex": [
       "0.641618497109827"
      ],
      "text/markdown": [
       "0.641618497109827"
      ],
      "text/plain": [
       "[1] 0.6416185"
      ]
     },
     "metadata": {},
     "output_type": "display_data"
    }
   ],
   "source": [
    "prop <- sum(Crabs$y) / nrow(Crabs)      # sample proportions of y=1 outcomes \n",
    "prop "
   ]
  },
  {
   "cell_type": "code",
   "execution_count": 102,
   "metadata": {
    "vscode": {
     "languageId": "r"
    }
   },
   "outputs": [
    {
     "name": "stdout",
     "output_type": "stream",
     "text": [
      "[1] \"Setting pi0 = sample proportion\"\n"
     ]
    },
    {
     "data": {
      "text/plain": [
       "        predicted  0  1\n",
       "Crabs$y                \n",
       "0                 43 19\n",
       "1                 36 75"
      ]
     },
     "metadata": {},
     "output_type": "display_data"
    }
   ],
   "source": [
    "fit <- glm(\n",
    "    y ~ width + factor(color), family=binomial, data=Crabs\n",
    ")\n",
    "\n",
    "# predict y=1 when the model prediction is greater than `prop` \n",
    "predicted <- as.numeric(\n",
    "    fitted(fit) > prop \n",
    ")\n",
    "\n",
    "crossTable <- xtabs(~Crabs$y + predicted)\n",
    "print(\"Setting pi0 = sample proportion\")\n",
    "ftable(crossTable)  # print crosstabs"
   ]
  },
  {
   "cell_type": "code",
   "execution_count": 104,
   "metadata": {
    "vscode": {
     "languageId": "r"
    }
   },
   "outputs": [
    {
     "name": "stdout",
     "output_type": "stream",
     "text": [
      "[1] \"Setting pi0 = 0.5\"\n"
     ]
    },
    {
     "data": {
      "text/plain": [
       "        predicted  0  1\n",
       "Crabs$y                \n",
       "0                 31 31\n",
       "1                 15 96"
      ]
     },
     "metadata": {},
     "output_type": "display_data"
    }
   ],
   "source": [
    "print(\"Setting pi0 = 0.5\")\n",
    "predicted <- as.numeric(\n",
    "    fitted(fit) > 0.5 \n",
    ")\n",
    "\n",
    "crossTable <- xtabs(~Crabs$y + predicted)\n",
    "ftable(crossTable)  # print crosstabs"
   ]
  },
  {
   "cell_type": "markdown",
   "metadata": {},
   "source": [
    "### 4.6.2 ROC curves\n",
    "- a receiver operating characteristic is a plot of specificity vs. sensitivity, for all possible cutoffs $\\pi_0$ \n",
    "- since both variables are probabilities, the ROC curve has limits $[0,1]$ in both dimensions\n",
    "- behaviour\n",
    "  - as $\\pi_0 \\rightarrow 0$, nearly all predictions are failures, ie $\\hat{y}_i=0$, so sensitivity goes down and specificity $\\rightarrow 1$ \n",
    "  - as $\\pi_0 \\rightarrow 1$, nearly all predictions are successes, ie $$\\hat{y}_i=1$, so sensitivity $\\rightarrow 1$ and specificity goes to zero \n",
    "- the shape of the ROC curve is usually either concave or convex \n",
    "- for a given specificity, better predictive power $\\iff$ higher sensitivity $\\iff$ higher ROC \n",
    "- thus, the area under the ROC curve summarizes predictive power of a model \n",
    "- the area is aka **concordance index**\n",
    "  - concordance = that an observation with large $y$ also has large $\\pi$, ie $y \\propto \\pi$ \n",
    "  - eg concordance = 0.5 (the line $y=x$) implies that predictions were no better than chance \n",
    "  - a.k.a AUC (Area Under the Curve)\n"
   ]
  },
  {
   "cell_type": "code",
   "execution_count": 109,
   "metadata": {
    "vscode": {
     "languageId": "r"
    }
   },
   "outputs": [
    {
     "name": "stderr",
     "output_type": "stream",
     "text": [
      "Setting levels: control = 0, case = 1\n",
      "\n",
      "Setting direction: controls < cases\n",
      "\n"
     ]
    },
    {
     "data": {
      "text/html": [
       "0.771360069747167"
      ],
      "text/latex": [
       "0.771360069747167"
      ],
      "text/markdown": [
       "0.771360069747167"
      ],
      "text/plain": [
       "Area under the curve: 0.7714"
      ]
     },
     "metadata": {},
     "output_type": "display_data"
    },
    {
     "data": {
      "image/png": "[encoded data removed]",
      "text/plain": [
       "plot without title"
      ]
     },
     "metadata": {
      "image/png": {
       "height": 420,
       "width": 420
      }
     },
     "output_type": "display_data"
    }
   ],
   "source": [
    "library(pROC)\n",
    "rocplot <- roc(y ~ fitted(fit), data=Crabs)\n",
    "plot.roc(rocplot, legacy.axes=TRUE)     #legacy.axes determines orientation of x/y axes \n",
    "auc(rocplot)                            # Area Under the Curve = AUC "
   ]
  },
  {
   "cell_type": "markdown",
   "metadata": {},
   "source": [
    "### 4.6.3 Multiple Correlation\n",
    "\n",
    "- correlation $R$ between observed responses $\\{y_i\\}$ and fitted values $\\{\\hat{\\mu}_i\\}$ \n",
    "  - recall that a GLM models the conditional expectation $E[Y \\mid X=x]$, or $\\hat{\\mu}$ \n",
    "- $R^2$ = proportion of variation in $y$ explained by the model (explanatory variables)\n",
    "- discrete $y$ can limit/skew the range of values of $R$, esp when the data are unbalanced (eg more 1s than 0s), but this ultimately also depends on the values of $X$, as well "
   ]
  },
  {
   "cell_type": "code",
   "execution_count": 110,
   "metadata": {
    "vscode": {
     "languageId": "r"
    }
   },
   "outputs": [
    {
     "data": {
      "text/html": [
       "0.452213089948841"
      ],
      "text/latex": [
       "0.452213089948841"
      ],
      "text/markdown": [
       "0.452213089948841"
      ],
      "text/plain": [
       "[1] 0.4522131"
      ]
     },
     "metadata": {},
     "output_type": "display_data"
    }
   ],
   "source": [
    "cor(Crabs$y, fitted(fit))"
   ]
  }
 ],
 "metadata": {
  "kernelspec": {
   "display_name": "R",
   "language": "R",
   "name": "ir"
  },
  "language_info": {
   "codemirror_mode": "r",
   "file_extension": ".r",
   "mimetype": "text/x-r-source",
   "name": "R",
   "pygments_lexer": "r",
   "version": "4.2.0"
  },
  "orig_nbformat": 4
 },
 "nbformat": 4,
 "nbformat_minor": 2
}
