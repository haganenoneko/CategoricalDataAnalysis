{
 "cells": [
  {
   "cell_type": "markdown",
   "metadata": {},
   "source": [
    "# 6. Multicategory logit models\n",
    "\n",
    "## 6.1 Baseline categority logit models\n",
    "\n",
    "$$\n",
    "\\log \\frac{\\pi_j}{\\pi_c} = \\alpha_j + \\beta_j x, \\quad j = 1, \\dots, c-1 \n",
    "$$\n",
    "\n",
    "- pick a category and model $\\log(\\pi_j / \\pi_c)$ for all $j \\neq c$, where $\\pi_c$ corresponds to the chosen ('baseline') category, often the last \n",
    "- assuming the last category is chosen as the baseline, there are $c-1$ equations in total, each of which have their own parameters $\\alpha_j, \\ \\beta_j$ \n",
    "- any arbitrary ratio $\\log(\\pi_i / \\pi_j)$ can be found, given all $\\log(\\pi_j/\\pi_c)$ are known\n",
    "  - e.g. $\\log(\\pi_1/\\pi_2) = \\log(\\pi_1/\\pi_c) - \\log(\\pi_2/\\pi_c) = (\\alpha_1 - \\alpha_2) + (\\beta_1-\\beta_2)x$"
   ]
  },
  {
   "cell_type": "code",
   "execution_count": 11,
   "metadata": {
    "vscode": {
     "languageId": "r"
    }
   },
   "outputs": [
    {
     "data": {
      "text/html": [
       "<table class=\"dataframe\">\n",
       "<caption>A data.frame: 6 × 2</caption>\n",
       "<thead>\n",
       "\t<tr><th></th><th scope=col>x</th><th scope=col>y</th></tr>\n",
       "\t<tr><th></th><th scope=col>&lt;dbl&gt;</th><th scope=col>&lt;chr&gt;</th></tr>\n",
       "</thead>\n",
       "<tbody>\n",
       "\t<tr><th scope=row>1</th><td>1.24</td><td>I</td></tr>\n",
       "\t<tr><th scope=row>2</th><td>1.30</td><td>I</td></tr>\n",
       "\t<tr><th scope=row>3</th><td>1.30</td><td>I</td></tr>\n",
       "\t<tr><th scope=row>4</th><td>1.32</td><td>F</td></tr>\n",
       "\t<tr><th scope=row>5</th><td>1.32</td><td>F</td></tr>\n",
       "\t<tr><th scope=row>6</th><td>1.40</td><td>F</td></tr>\n",
       "</tbody>\n",
       "</table>\n"
      ],
      "text/latex": [
       "A data.frame: 6 × 2\n",
       "\\begin{tabular}{r|ll}\n",
       "  & x & y\\\\\n",
       "  & <dbl> & <chr>\\\\\n",
       "\\hline\n",
       "\t1 & 1.24 & I\\\\\n",
       "\t2 & 1.30 & I\\\\\n",
       "\t3 & 1.30 & I\\\\\n",
       "\t4 & 1.32 & F\\\\\n",
       "\t5 & 1.32 & F\\\\\n",
       "\t6 & 1.40 & F\\\\\n",
       "\\end{tabular}\n"
      ],
      "text/markdown": [
       "\n",
       "A data.frame: 6 × 2\n",
       "\n",
       "| <!--/--> | x &lt;dbl&gt; | y &lt;chr&gt; |\n",
       "|---|---|---|\n",
       "| 1 | 1.24 | I |\n",
       "| 2 | 1.30 | I |\n",
       "| 3 | 1.30 | I |\n",
       "| 4 | 1.32 | F |\n",
       "| 5 | 1.32 | F |\n",
       "| 6 | 1.40 | F |\n",
       "\n"
      ],
      "text/plain": [
       "  x    y\n",
       "1 1.24 I\n",
       "2 1.30 I\n",
       "3 1.30 I\n",
       "4 1.32 F\n",
       "5 1.32 F\n",
       "6 1.40 F"
      ]
     },
     "metadata": {},
     "output_type": "display_data"
    }
   ],
   "source": [
    "Gators <- read.table(\n",
    "    \"http://www.stat.ufl.edu/~aa/cat/data/Alligators.dat\",\n",
    "    header=TRUE, stringsAsFactors=FALSE\n",
    ")\n",
    "head(Gators)"
   ]
  },
  {
   "cell_type": "markdown",
   "metadata": {},
   "source": [
    "We will model preferred diet in column $y$, which contains values F, I, and O, based on corresponding alligator length $x$. We first fit a baseline-category logit model where $Y=O$ is the baseline category."
   ]
  },
  {
   "cell_type": "code",
   "execution_count": 12,
   "metadata": {
    "vscode": {
     "languageId": "r"
    }
   },
   "outputs": [
    {
     "data": {
      "text/html": [
       "<table class=\"dataframe\">\n",
       "<caption>A matrix: 2 × 2 of type dbl</caption>\n",
       "<thead>\n",
       "\t<tr><th></th><th scope=col>log(mu[,1]/mu[,3])</th><th scope=col>log(mu[,2]/mu[,3])</th></tr>\n",
       "</thead>\n",
       "<tbody>\n",
       "\t<tr><th scope=row>(Intercept)</th><td> 1.617731</td><td> 5.697444</td></tr>\n",
       "\t<tr><th scope=row>x</th><td>-0.110109</td><td>-2.465446</td></tr>\n",
       "</tbody>\n",
       "</table>\n"
      ],
      "text/latex": [
       "A matrix: 2 × 2 of type dbl\n",
       "\\begin{tabular}{r|ll}\n",
       "  & log(mu{[},1{]}/mu{[},3{]}) & log(mu{[},2{]}/mu{[},3{]})\\\\\n",
       "\\hline\n",
       "\t(Intercept) &  1.617731 &  5.697444\\\\\n",
       "\tx & -0.110109 & -2.465446\\\\\n",
       "\\end{tabular}\n"
      ],
      "text/markdown": [
       "\n",
       "A matrix: 2 × 2 of type dbl\n",
       "\n",
       "| <!--/--> | log(mu[,1]/mu[,3]) | log(mu[,2]/mu[,3]) |\n",
       "|---|---|---|\n",
       "| (Intercept) |  1.617731 |  5.697444 |\n",
       "| x | -0.110109 | -2.465446 |\n",
       "\n"
      ],
      "text/plain": [
       "            log(mu[,1]/mu[,3]) log(mu[,2]/mu[,3])\n",
       "(Intercept)  1.617731           5.697444         \n",
       "x           -0.110109          -2.465446         "
      ]
     },
     "metadata": {},
     "output_type": "display_data"
    }
   ],
   "source": [
    "library(VGAM)\n",
    "fit <- vglm(\n",
    "    y ~ x, \n",
    "    family=multinomial, \n",
    "    data=Gators\n",
    ")\n",
    "coef(fit, matrix=TRUE)"
   ]
  },
  {
   "cell_type": "markdown",
   "metadata": {},
   "source": [
    "$$\n",
    "\\begin{align}\n",
    "    \\log(\\pi_F/\\pi_O) &= 1.618 - 0.110x \\\\\n",
    "    \\log(\\pi_I/\\pi_0) &= 5.697 - 2.465x \\\\\n",
    "    \\log(\\pi_F/\\pi_I) &= (1.618-5.697) + (-0.110+2.465)x = -4.080 + 2.355x \n",
    "\\end{align}\n",
    "$$"
   ]
  },
  {
   "cell_type": "code",
   "execution_count": 13,
   "metadata": {
    "vscode": {
     "languageId": "r"
    }
   },
   "outputs": [
    {
     "data": {
      "text/plain": [
       "\n",
       "Call:\n",
       "vglm(formula = y ~ x, family = multinomial, data = Gators)\n",
       "\n",
       "Coefficients: \n",
       "              Estimate Std. Error z value Pr(>|z|)   \n",
       "(Intercept):1   1.6177     1.3073   1.237  0.21591   \n",
       "(Intercept):2   5.6974     1.7937   3.176  0.00149 **\n",
       "x:1            -0.1101     0.5171  -0.213  0.83137   \n",
       "x:2            -2.4654     0.8996      NA       NA   \n",
       "---\n",
       "Signif. codes:  0 '***' 0.001 '**' 0.01 '*' 0.05 '.' 0.1 ' ' 1\n",
       "\n",
       "Names of linear predictors: log(mu[,1]/mu[,3]), log(mu[,2]/mu[,3])\n",
       "\n",
       "Residual deviance: 98.3412 on 114 degrees of freedom\n",
       "\n",
       "Log-likelihood: -49.1706 on 114 degrees of freedom\n",
       "\n",
       "Number of Fisher scoring iterations: 5 \n",
       "\n",
       "Warning: Hauck-Donner effect detected in the following estimate(s):\n",
       "'x:2'\n",
       "\n",
       "\n",
       "Reference group is level  3  of the response"
      ]
     },
     "metadata": {},
     "output_type": "display_data"
    }
   ],
   "source": [
    "summary(fit)"
   ]
  },
  {
   "cell_type": "markdown",
   "metadata": {},
   "source": [
    "Below, we use $I$ as the baseline category. "
   ]
  },
  {
   "cell_type": "code",
   "execution_count": 14,
   "metadata": {
    "vscode": {
     "languageId": "r"
    }
   },
   "outputs": [
    {
     "data": {
      "text/plain": [
       "\n",
       "Call:\n",
       "vglm(formula = y ~ x, family = multinomial(refLevel = 2), data = Gators)\n",
       "\n",
       "Coefficients: \n",
       "              Estimate Std. Error z value Pr(>|z|)   \n",
       "(Intercept):1  -4.0797     1.4686  -2.778  0.00547 **\n",
       "(Intercept):2  -5.6974     1.7937  -3.176  0.00149 **\n",
       "x:1             2.3553     0.8032      NA       NA   \n",
       "x:2             2.4654     0.8996   2.741  0.00613 **\n",
       "---\n",
       "Signif. codes:  0 '***' 0.001 '**' 0.01 '*' 0.05 '.' 0.1 ' ' 1\n",
       "\n",
       "Names of linear predictors: log(mu[,1]/mu[,2]), log(mu[,3]/mu[,2])\n",
       "\n",
       "Residual deviance: 98.3412 on 114 degrees of freedom\n",
       "\n",
       "Log-likelihood: -49.1706 on 114 degrees of freedom\n",
       "\n",
       "Number of Fisher scoring iterations: 5 \n",
       "\n",
       "Warning: Hauck-Donner effect detected in the following estimate(s):\n",
       "'x:1'\n",
       "\n",
       "\n",
       "Reference group is level  2  of the response"
      ]
     },
     "metadata": {},
     "output_type": "display_data"
    }
   ],
   "source": [
    "fit2 <- vglm(y ~ x, family = multinomial(refLevel = 2), data = Gators) \n",
    "summary(fit2)"
   ]
  },
  {
   "cell_type": "code",
   "execution_count": 19,
   "metadata": {
    "vscode": {
     "languageId": "r"
    }
   },
   "outputs": [
    {
     "data": {
      "text/html": [
       "98.3412441594805"
      ],
      "text/latex": [
       "98.3412441594805"
      ],
      "text/markdown": [
       "98.3412441594805"
      ],
      "text/plain": [
       "[1] 98.34124"
      ]
     },
     "metadata": {},
     "output_type": "display_data"
    },
    {
     "data": {
      "text/html": [
       "98.3412441594805"
      ],
      "text/latex": [
       "98.3412441594805"
      ],
      "text/markdown": [
       "98.3412441594805"
      ],
      "text/plain": [
       "[1] 98.34124"
      ]
     },
     "metadata": {},
     "output_type": "display_data"
    }
   ],
   "source": [
    "deviance(fit); deviance(fit2)"
   ]
  },
  {
   "cell_type": "markdown",
   "metadata": {},
   "source": [
    "We test the null hypothesis that $Y$ is independent from $x$, i.e. $H_0: \\ \\beta_1 = \\beta_2 = 0$. This is the same as saying $\\pi_i/\\pi_c = 1$ for all $i$. Thus, we write the vglm as `y ~ 1`. "
   ]
  },
  {
   "cell_type": "code",
   "execution_count": 6,
   "metadata": {
    "vscode": {
     "languageId": "r"
    }
   },
   "outputs": [
    {
     "data": {
      "text/html": [
       "115.141856093759"
      ],
      "text/latex": [
       "115.141856093759"
      ],
      "text/markdown": [
       "115.141856093759"
      ],
      "text/plain": [
       "[1] 115.1419"
      ]
     },
     "metadata": {},
     "output_type": "display_data"
    }
   ],
   "source": [
    "fit0 <- vglm(\n",
    "    y ~ 1, family=multinomial, data=Gators\n",
    ")\n",
    "deviance(fit0)"
   ]
  },
  {
   "cell_type": "markdown",
   "metadata": {},
   "source": [
    "Next, we conduct a likelihood ratio test, which equivalently uses the difference in log likelihoods or in deviances."
   ]
  },
  {
   "cell_type": "code",
   "execution_count": 7,
   "metadata": {
    "vscode": {
     "languageId": "r"
    }
   },
   "outputs": [
    {
     "data": {
      "text/plain": [
       "Likelihood ratio test\n",
       "\n",
       "Model 1: y ~ x\n",
       "Model 2: y ~ 1\n",
       "  #Df  LogLik Df  Chisq Pr(>Chisq)    \n",
       "1 114 -49.171                         \n",
       "2 116 -57.571  2 16.801  0.0002248 ***\n",
       "---\n",
       "Signif. codes:  0 '***' 0.001 '**' 0.01 '*' 0.05 '.' 0.1 ' ' 1"
      ]
     },
     "metadata": {},
     "output_type": "display_data"
    }
   ],
   "source": [
    "lrtest(fit, fit0)"
   ]
  },
  {
   "cell_type": "markdown",
   "metadata": {},
   "source": [
    "## 6.1.3 Estimating Response Probabilities\n",
    "\n",
    "Let $f_j(x; \\alpha_j, \\beta_j) = \\log(\\pi_j / \\pi_c) = \\alpha_j + \\beta_j x$. Then, the response probabilities $\\pi_j$ are given by \n",
    "$$\n",
    "\\pi_j = \\frac{f_j(x)}{\\sum^c_{i=1} f_i(x)} = \\frac{e^{\\alpha_j + \\beta_j^T x}}{\\sum^c_{i=1} e^{\\alpha_i + \\beta_i^T x}}\n",
    "$$\n",
    "\n",
    "For the baseline, $\\pi_c$, we have that $\\log(\\pi_c/\\pi_c) = \\log(1) = 0$, which means $f_c(x) = e^{0 + 0x} = 1$. For instance,\n",
    "$$\n",
    "\\pi_1 = \\frac{f_1(x)}{1 + f_1(x) + f_2(x) + \\cdots f_{c-1}(x)}\n",
    "$$\n",
    "while \n",
    "$$\\pi_c = \\frac{1}{1 + f_1(x) + f_2(x) + \\cdots f_{c-1}(x)}$$\n",
    "\n",
    "The code below computes the response probabilities at each Gator length."
   ]
  },
  {
   "cell_type": "code",
   "execution_count": 14,
   "metadata": {
    "vscode": {
     "languageId": "r"
    }
   },
   "outputs": [
    {
     "data": {
      "text/html": [
       "<table class=\"dataframe\">\n",
       "<caption>A matrix: 5 × 3 of type dbl</caption>\n",
       "<thead>\n",
       "\t<tr><th></th><th scope=col>F</th><th scope=col>I</th><th scope=col>O</th></tr>\n",
       "</thead>\n",
       "<tbody>\n",
       "\t<tr><th scope=row>1</th><td>0.2265307</td><td>0.7219640</td><td>0.05150528</td></tr>\n",
       "\t<tr><th scope=row>2</th><td>0.2502564</td><td>0.6924668</td><td>0.05727683</td></tr>\n",
       "\t<tr><th scope=row>3</th><td>0.2502564</td><td>0.6924668</td><td>0.05727683</td></tr>\n",
       "\t<tr><th scope=row>4</th><td>0.2584591</td><td>0.6822562</td><td>0.05928463</td></tr>\n",
       "\t<tr><th scope=row>5</th><td>0.2584591</td><td>0.6822562</td><td>0.05928463</td></tr>\n",
       "</tbody>\n",
       "</table>\n"
      ],
      "text/latex": [
       "A matrix: 5 × 3 of type dbl\n",
       "\\begin{tabular}{r|lll}\n",
       "  & F & I & O\\\\\n",
       "\\hline\n",
       "\t1 & 0.2265307 & 0.7219640 & 0.05150528\\\\\n",
       "\t2 & 0.2502564 & 0.6924668 & 0.05727683\\\\\n",
       "\t3 & 0.2502564 & 0.6924668 & 0.05727683\\\\\n",
       "\t4 & 0.2584591 & 0.6822562 & 0.05928463\\\\\n",
       "\t5 & 0.2584591 & 0.6822562 & 0.05928463\\\\\n",
       "\\end{tabular}\n"
      ],
      "text/markdown": [
       "\n",
       "A matrix: 5 × 3 of type dbl\n",
       "\n",
       "| <!--/--> | F | I | O |\n",
       "|---|---|---|---|\n",
       "| 1 | 0.2265307 | 0.7219640 | 0.05150528 |\n",
       "| 2 | 0.2502564 | 0.6924668 | 0.05727683 |\n",
       "| 3 | 0.2502564 | 0.6924668 | 0.05727683 |\n",
       "| 4 | 0.2584591 | 0.6822562 | 0.05928463 |\n",
       "| 5 | 0.2584591 | 0.6822562 | 0.05928463 |\n",
       "\n"
      ],
      "text/plain": [
       "  F         I         O         \n",
       "1 0.2265307 0.7219640 0.05150528\n",
       "2 0.2502564 0.6924668 0.05727683\n",
       "3 0.2502564 0.6924668 0.05727683\n",
       "4 0.2584591 0.6822562 0.05928463\n",
       "5 0.2584591 0.6822562 0.05928463"
      ]
     },
     "metadata": {},
     "output_type": "display_data"
    }
   ],
   "source": [
    "fitted(fit)[1:5, 1:3]"
   ]
  },
  {
   "cell_type": "code",
   "execution_count": 34,
   "metadata": {
    "vscode": {
     "languageId": "r"
    }
   },
   "outputs": [
    {
     "data": {
      "image/png": "[encoded data removed]",
      "text/plain": [
       "plot without title"
      ]
     },
     "metadata": {
      "image/png": {
       "height": 420,
       "width": 420
      }
     },
     "output_type": "display_data"
    }
   ],
   "source": [
    "y <- fitted(fit)\n",
    "plot(Gators$x, y[,1], ylim=c(0,1), ylab=\"Predicted Probability\", xlab=\"Length\")\n",
    "for (i in 2:3) {\n",
    "    points(Gators$x, y[,i])\n",
    "}"
   ]
  },
  {
   "cell_type": "markdown",
   "metadata": {},
   "source": [
    "### Baseline-catory model with two covariates\n",
    "\n",
    "Here we have explanatory variables gender $x_1$ and race $x_2$. We indicate the values of each by indicators. The response variable is belief in afterlife, $Y$, with categories yes, undecided, and no (indicated by numbers 1-3).\n",
    "\n",
    "$$\n",
    "\\log(\\pi_j/\\pi_3) = \\alpha_j + \\beta_j^T x, \\quad \n",
    "\\beta_j = \\begin{bmatrix} \\beta_{gender} \\\\ \\beta_{race} \\end{bmatrix}, \\ \n",
    "x = \\begin{bmatrix} \\text{gender} \\\\ \\text{race} \\end{bmatrix}\n",
    "$$"
   ]
  },
  {
   "cell_type": "code",
   "execution_count": 20,
   "metadata": {
    "vscode": {
     "languageId": "r"
    }
   },
   "outputs": [
    {
     "data": {
      "text/html": [
       "<table class=\"dataframe\">\n",
       "<caption>A data.frame: 4 × 5</caption>\n",
       "<thead>\n",
       "\t<tr><th></th><th scope=col>race</th><th scope=col>gender</th><th scope=col>yes</th><th scope=col>undecided</th><th scope=col>no</th></tr>\n",
       "\t<tr><th></th><th scope=col>&lt;fct&gt;</th><th scope=col>&lt;fct&gt;</th><th scope=col>&lt;int&gt;</th><th scope=col>&lt;int&gt;</th><th scope=col>&lt;int&gt;</th></tr>\n",
       "</thead>\n",
       "<tbody>\n",
       "\t<tr><th scope=row>1</th><td>white</td><td>female</td><td>371</td><td>49</td><td>74</td></tr>\n",
       "\t<tr><th scope=row>2</th><td>white</td><td>male  </td><td>250</td><td>45</td><td>71</td></tr>\n",
       "\t<tr><th scope=row>3</th><td>black</td><td>female</td><td> 64</td><td> 9</td><td>15</td></tr>\n",
       "\t<tr><th scope=row>4</th><td>black</td><td>male  </td><td> 25</td><td> 5</td><td>13</td></tr>\n",
       "</tbody>\n",
       "</table>\n"
      ],
      "text/latex": [
       "A data.frame: 4 × 5\n",
       "\\begin{tabular}{r|lllll}\n",
       "  & race & gender & yes & undecided & no\\\\\n",
       "  & <fct> & <fct> & <int> & <int> & <int>\\\\\n",
       "\\hline\n",
       "\t1 & white & female & 371 & 49 & 74\\\\\n",
       "\t2 & white & male   & 250 & 45 & 71\\\\\n",
       "\t3 & black & female &  64 &  9 & 15\\\\\n",
       "\t4 & black & male   &  25 &  5 & 13\\\\\n",
       "\\end{tabular}\n"
      ],
      "text/markdown": [
       "\n",
       "A data.frame: 4 × 5\n",
       "\n",
       "| <!--/--> | race &lt;fct&gt; | gender &lt;fct&gt; | yes &lt;int&gt; | undecided &lt;int&gt; | no &lt;int&gt; |\n",
       "|---|---|---|---|---|---|\n",
       "| 1 | white | female | 371 | 49 | 74 |\n",
       "| 2 | white | male   | 250 | 45 | 71 |\n",
       "| 3 | black | female |  64 |  9 | 15 |\n",
       "| 4 | black | male   |  25 |  5 | 13 |\n",
       "\n"
      ],
      "text/plain": [
       "  race  gender yes undecided no\n",
       "1 white female 371 49        74\n",
       "2 white male   250 45        71\n",
       "3 black female  64  9        15\n",
       "4 black male    25  5        13"
      ]
     },
     "metadata": {},
     "output_type": "display_data"
    }
   ],
   "source": [
    "Afterlife <- read.table(\"http://users.stat.ufl.edu/~aa/cat/data/Afterlife.dat\",\n",
    "                        header = TRUE, stringsAsFactors = TRUE)\n",
    "head(Afterlife)"
   ]
  },
  {
   "cell_type": "code",
   "execution_count": 22,
   "metadata": {
    "vscode": {
     "languageId": "r"
    }
   },
   "outputs": [
    {
     "data": {
      "text/html": [
       "<style>\n",
       ".dl-inline {width: auto; margin:0; padding: 0}\n",
       ".dl-inline>dt, .dl-inline>dd {float: none; width: auto; display: inline-block}\n",
       ".dl-inline>dt::after {content: \":\\0020\"; padding-right: .5ex}\n",
       ".dl-inline>dt:not(:first-of-type) {padding-left: .5ex}\n",
       "</style><dl class=dl-inline><dt>(Intercept):1</dt><dd>1.30160255131733</dd><dt>(Intercept):2</dt><dd>-0.652944987215518</dd><dt>gendermale:1</dt><dd>-0.41855043018749</dd><dt>gendermale:2</dt><dd>-0.105063809001842</dd><dt>racewhite:1</dt><dd>0.341774351929473</dd><dt>racewhite:2</dt><dd>0.270975243032849</dd></dl>\n"
      ],
      "text/latex": [
       "\\begin{description*}\n",
       "\\item[(Intercept):1] 1.30160255131733\n",
       "\\item[(Intercept):2] -0.652944987215518\n",
       "\\item[gendermale:1] -0.41855043018749\n",
       "\\item[gendermale:2] -0.105063809001842\n",
       "\\item[racewhite:1] 0.341774351929473\n",
       "\\item[racewhite:2] 0.270975243032849\n",
       "\\end{description*}\n"
      ],
      "text/markdown": [
       "(Intercept):1\n",
       ":   1.30160255131733(Intercept):2\n",
       ":   -0.652944987215518gendermale:1\n",
       ":   -0.41855043018749gendermale:2\n",
       ":   -0.105063809001842racewhite:1\n",
       ":   0.341774351929473racewhite:2\n",
       ":   0.270975243032849\n",
       "\n"
      ],
      "text/plain": [
       "(Intercept):1 (Intercept):2  gendermale:1  gendermale:2   racewhite:1 \n",
       "    1.3016026    -0.6529450    -0.4185504    -0.1050638     0.3417744 \n",
       "  racewhite:2 \n",
       "    0.2709752 "
      ]
     },
     "metadata": {},
     "output_type": "display_data"
    }
   ],
   "source": [
    "fit <- vglm(\n",
    "    cbind(yes, undecided, no) ~ gender + race, family=multinomial, data=Afterlife\n",
    ")\n",
    "coef(fit)"
   ]
  },
  {
   "cell_type": "code",
   "execution_count": 23,
   "metadata": {
    "vscode": {
     "languageId": "r"
    }
   },
   "outputs": [
    {
     "data": {
      "text/plain": [
       "\n",
       "Call:\n",
       "vglm(formula = cbind(yes, undecided, no) ~ gender + race, family = multinomial, \n",
       "    data = Afterlife)\n",
       "\n",
       "Coefficients: \n",
       "              Estimate Std. Error z value Pr(>|z|)    \n",
       "(Intercept):1   1.3016     0.2265   5.747  9.1e-09 ***\n",
       "(Intercept):2  -0.6529     0.3405  -1.918   0.0551 .  \n",
       "gendermale:1   -0.4186     0.1713  -2.444   0.0145 *  \n",
       "gendermale:2   -0.1051     0.2465  -0.426   0.6700    \n",
       "racewhite:1     0.3418     0.2370   1.442   0.1493    \n",
       "racewhite:2     0.2710     0.3541   0.765   0.4442    \n",
       "---\n",
       "Signif. codes:  0 '***' 0.001 '**' 0.01 '*' 0.05 '.' 0.1 ' ' 1\n",
       "\n",
       "Names of linear predictors: log(mu[,1]/mu[,3]), log(mu[,2]/mu[,3])\n",
       "\n",
       "Residual deviance: 0.8539 on 2 degrees of freedom\n",
       "\n",
       "Log-likelihood: -19.7324 on 2 degrees of freedom\n",
       "\n",
       "Number of Fisher scoring iterations: 3 \n",
       "\n",
       "No Hauck-Donner effect found in any of the estimates\n",
       "\n",
       "\n",
       "Reference group is level  3  of the response"
      ]
     },
     "metadata": {},
     "output_type": "display_data"
    }
   ],
   "source": [
    "summary(fit)"
   ]
  },
  {
   "cell_type": "markdown",
   "metadata": {},
   "source": [
    "In addition to the 6 parameters above, we have 3 additional $\\pi_i$'s, ie the individual response probabilities. The total number of parameters is 8, not 9, because $\\pi_j = \\sum^3_{i, \\ i\\neq j} \\pi_i$. Thus, the model fits 6 of 8 parameters, which means it has $8-6=2$ dofs. This explains the line \n",
    "\n",
    "$$\\text{Residual deviance} = 0.8539 \\sim \\chi^2_2$$\n",
    "\n",
    "To test the effect of gender alone, we drop gender from the model, resulting in 4 dofs. The null hypothesis is $H_0: \\ \\beta_{1G} = \\beta_{2G} = 0$."
   ]
  },
  {
   "cell_type": "code",
   "execution_count": 24,
   "metadata": {
    "vscode": {
     "languageId": "r"
    }
   },
   "outputs": [
    {
     "data": {
      "text/html": [
       "8.04650388474916"
      ],
      "text/latex": [
       "8.04650388474916"
      ],
      "text/markdown": [
       "8.04650388474916"
      ],
      "text/plain": [
       "[1] 8.046504"
      ]
     },
     "metadata": {},
     "output_type": "display_data"
    }
   ],
   "source": [
    "fit.race <- vglm(\n",
    "    cbind(yes, undecided, no) ~ race,\n",
    "    family=multinomial,\n",
    "    data=Afterlife\n",
    ")\n",
    "\n",
    "deviance(fit.race)"
   ]
  },
  {
   "cell_type": "code",
   "execution_count": 25,
   "metadata": {
    "vscode": {
     "languageId": "r"
    }
   },
   "outputs": [
    {
     "data": {
      "text/plain": [
       "Likelihood ratio test\n",
       "\n",
       "Model 1: cbind(yes, undecided, no) ~ gender + race\n",
       "Model 2: cbind(yes, undecided, no) ~ race\n",
       "  #Df  LogLik Df  Chisq Pr(>Chisq)  \n",
       "1   2 -19.732                       \n",
       "2   4 -23.329  2 7.1926    0.02742 *\n",
       "---\n",
       "Signif. codes:  0 '***' 0.001 '**' 0.01 '*' 0.05 '.' 0.1 ' ' 1"
      ]
     },
     "metadata": {},
     "output_type": "display_data"
    }
   ],
   "source": [
    "lrtest(fit, fit.race)"
   ]
  },
  {
   "cell_type": "markdown",
   "metadata": {},
   "source": [
    "The p-value of 0.027 shows evidence of a gender effect. Males are less likely than females to believe in an afterlife"
   ]
  },
  {
   "cell_type": "code",
   "execution_count": 26,
   "metadata": {
    "vscode": {
     "languageId": "r"
    }
   },
   "outputs": [
    {
     "data": {
      "text/html": [
       "<table class=\"dataframe\">\n",
       "<caption>A data.frame: 4 × 5</caption>\n",
       "<thead>\n",
       "\t<tr><th></th><th scope=col>Afterlife.race</th><th scope=col>Afterlife.gender</th><th scope=col>yes</th><th scope=col>undecided</th><th scope=col>no</th></tr>\n",
       "\t<tr><th></th><th scope=col>&lt;fct&gt;</th><th scope=col>&lt;fct&gt;</th><th scope=col>&lt;dbl&gt;</th><th scope=col>&lt;dbl&gt;</th><th scope=col>&lt;dbl&gt;</th></tr>\n",
       "</thead>\n",
       "<tbody>\n",
       "\t<tr><th scope=row>1</th><td>white</td><td>female</td><td>0.7545608</td><td>0.09956287</td><td>0.1458763</td></tr>\n",
       "\t<tr><th scope=row>2</th><td>white</td><td>male  </td><td>0.6782703</td><td>0.12244794</td><td>0.1992817</td></tr>\n",
       "\t<tr><th scope=row>3</th><td>black</td><td>female</td><td>0.7073517</td><td>0.10018119</td><td>0.1924671</td></tr>\n",
       "\t<tr><th scope=row>4</th><td>black</td><td>male  </td><td>0.6221640</td><td>0.12055943</td><td>0.2572766</td></tr>\n",
       "</tbody>\n",
       "</table>\n"
      ],
      "text/latex": [
       "A data.frame: 4 × 5\n",
       "\\begin{tabular}{r|lllll}\n",
       "  & Afterlife.race & Afterlife.gender & yes & undecided & no\\\\\n",
       "  & <fct> & <fct> & <dbl> & <dbl> & <dbl>\\\\\n",
       "\\hline\n",
       "\t1 & white & female & 0.7545608 & 0.09956287 & 0.1458763\\\\\n",
       "\t2 & white & male   & 0.6782703 & 0.12244794 & 0.1992817\\\\\n",
       "\t3 & black & female & 0.7073517 & 0.10018119 & 0.1924671\\\\\n",
       "\t4 & black & male   & 0.6221640 & 0.12055943 & 0.2572766\\\\\n",
       "\\end{tabular}\n"
      ],
      "text/markdown": [
       "\n",
       "A data.frame: 4 × 5\n",
       "\n",
       "| <!--/--> | Afterlife.race &lt;fct&gt; | Afterlife.gender &lt;fct&gt; | yes &lt;dbl&gt; | undecided &lt;dbl&gt; | no &lt;dbl&gt; |\n",
       "|---|---|---|---|---|---|\n",
       "| 1 | white | female | 0.7545608 | 0.09956287 | 0.1458763 |\n",
       "| 2 | white | male   | 0.6782703 | 0.12244794 | 0.1992817 |\n",
       "| 3 | black | female | 0.7073517 | 0.10018119 | 0.1924671 |\n",
       "| 4 | black | male   | 0.6221640 | 0.12055943 | 0.2572766 |\n",
       "\n"
      ],
      "text/plain": [
       "  Afterlife.race Afterlife.gender yes       undecided  no       \n",
       "1 white          female           0.7545608 0.09956287 0.1458763\n",
       "2 white          male             0.6782703 0.12244794 0.1992817\n",
       "3 black          female           0.7073517 0.10018119 0.1924671\n",
       "4 black          male             0.6221640 0.12055943 0.2572766"
      ]
     },
     "metadata": {},
     "output_type": "display_data"
    }
   ],
   "source": [
    "data.frame(Afterlife$race, Afterlife$gender, fitted(fit))"
   ]
  },
  {
   "cell_type": "markdown",
   "metadata": {},
   "source": [
    "### 6.1.7 Discrete choice models \n",
    "- discrete choice models incorporate explanatory variables that are characteristics of the chooser or of the choice\n",
    "- of the choice, e.g. covariates take on different values for different response categories\n",
    "\n",
    "\n",
    "Ex. shopping destinations\n",
    "- five different destinations in different city zones\n",
    "- two covariates: shopping opportunities $S$, price of trip $P$\n",
    "- both $S$ and $P$ are characteristics of the choices, rather than shoppers (choosers)\n",
    "- for any destinations $a$ and $b$, $\\log(\\pi_a/\\pi_b)$, ie odds of choosing $a$ over $b$, does not depend on other laternatives in the choice set or their values in covariates\n",
    "  - aka independence from irrelevant alternatives\n",
    "\n",
    "## 6.2 Cumulative logit models for ordinal responses\n",
    "\n",
    "For response variable  $Y$, the cumulative probability for outcome category $j$ is \n",
    "$$\n",
    "P(Y \\leq j) = \\sum^c_{i=1} \\pi_i\n",
    "$$\n",
    "The cumulative probabilities are ordered such that \n",
    "$$\n",
    "P(Y \\leq 1) \\leq P(Y \\leq 2) \\leq \\cdots \\leq P(Y \\leq c) = 1\n",
    "$$\n",
    "The logits of cumulative probabilities (aka cumulative logits) are \n",
    "$$\n",
    "logit(P(Y \\leq j)) = \\log \\frac{P(Y \\leq j)}{1 - P(Y \\leq j)} = \n",
    "\\log \\frac{\\sum^j_{i=1} \\pi_i}{\\sum^c_{i=j+1} \\pi_i}, \\quad j = 1, \\dots, c-1 \n",
    "$$\n",
    "\n",
    "### 6.2.1 Cumulative logit models with proportional odds \n",
    "The cumulative logit model for a particular $j$ looks like a binary logistic regression model, since it creates two partitions: categories $[1,j]$ and categories $[j+1, c]$. \n",
    "\n",
    "For a covariate $x$, the model is written as \n",
    "$$\n",
    "logit[P(Y \\leq j)] = \\alpha_j + \\beta x, \\quad j = 1, \\dots, c-1\n",
    "$$\n",
    "where $\\beta$ is the same for all $j$. That is, $x$ has the same effect for all $c-1$ cumulative logits. \n",
    "- thus, this model only needs **one** parameter to describe the effect of $x$, whereas the baseline-category logit models above required $c-1$. \n",
    "\n",
    "\n",
    "The cumulative odds ratio for $x=a$ and $x=b$ is \n",
    "\n",
    "$$\n",
    "\\frac{P(Y \\le j\\ |\\ x = a) / P(Y > j\\ |\\ x = a)}{P(Y \\le j\\ |\\ x = b) / P(Y > j\\ |\\ x = b)} = \n",
    "\\frac{P(Y \\leq j \\mid x=a) P(Y > j \\mid x=b)}{P(Y \\leq j \\mid x=b) P(Y > j \\mid x=a)}\n",
    "$$\n",
    "\n",
    "- the log of this odds ratio is $\\beta (a-b)$, ie difference between the two cumulative logits \n",
    "- $\\beta$ aka proportional odds, and is the same for all categories\n",
    "- eg when $a-b=1$,  then a 1-unit increase in $x$ has a $e^\\beta$ multiplicative effect on the odds of response below any particular category \n",
    "\n",
    "For multiple covariates, the cumulative logit model with the 'proportional odds property' ($\\beta$ being the same for all categories) is:\n",
    "$$\n",
    "logit[P(Y \\leq j)] = \\alpha_j + \\sum^p_{i=1} \\beta_i x_i,\n",
    "\\quad j = 1, \\dots, c-1\n",
    "$$\n",
    "\n",
    "**Important properties**\n",
    "- these models have inherent ordinality, which provides greater power, if not simply due to having few(er) dofs\n",
    "- eg a baseline-category requires parameters for each effect and category, whereas the cumulative logit models require only one per effect. this yields smaller p-values because there is only one degree of freedom for an effect\n"
   ]
  },
  {
   "cell_type": "code",
   "execution_count": 27,
   "metadata": {
    "vscode": {
     "languageId": "r"
    }
   },
   "outputs": [
    {
     "data": {
      "text/html": [
       "<table class=\"dataframe\">\n",
       "<caption>A data.frame: 4 × 7</caption>\n",
       "<thead>\n",
       "\t<tr><th></th><th scope=col>gender</th><th scope=col>party</th><th scope=col>y1</th><th scope=col>y2</th><th scope=col>y3</th><th scope=col>y4</th><th scope=col>y5</th></tr>\n",
       "\t<tr><th></th><th scope=col>&lt;fct&gt;</th><th scope=col>&lt;fct&gt;</th><th scope=col>&lt;int&gt;</th><th scope=col>&lt;int&gt;</th><th scope=col>&lt;int&gt;</th><th scope=col>&lt;int&gt;</th><th scope=col>&lt;int&gt;</th></tr>\n",
       "</thead>\n",
       "<tbody>\n",
       "\t<tr><th scope=row>1</th><td>female</td><td>dem  </td><td>25</td><td>105</td><td>86</td><td>28</td><td> 4</td></tr>\n",
       "\t<tr><th scope=row>2</th><td>female</td><td>repub</td><td> 0</td><td>  5</td><td>15</td><td>83</td><td>32</td></tr>\n",
       "\t<tr><th scope=row>3</th><td>male  </td><td>dem  </td><td>20</td><td> 73</td><td>43</td><td>20</td><td> 3</td></tr>\n",
       "\t<tr><th scope=row>4</th><td>male  </td><td>repub</td><td> 0</td><td>  1</td><td>14</td><td>72</td><td>32</td></tr>\n",
       "</tbody>\n",
       "</table>\n"
      ],
      "text/latex": [
       "A data.frame: 4 × 7\n",
       "\\begin{tabular}{r|lllllll}\n",
       "  & gender & party & y1 & y2 & y3 & y4 & y5\\\\\n",
       "  & <fct> & <fct> & <int> & <int> & <int> & <int> & <int>\\\\\n",
       "\\hline\n",
       "\t1 & female & dem   & 25 & 105 & 86 & 28 &  4\\\\\n",
       "\t2 & female & repub &  0 &   5 & 15 & 83 & 32\\\\\n",
       "\t3 & male   & dem   & 20 &  73 & 43 & 20 &  3\\\\\n",
       "\t4 & male   & repub &  0 &   1 & 14 & 72 & 32\\\\\n",
       "\\end{tabular}\n"
      ],
      "text/markdown": [
       "\n",
       "A data.frame: 4 × 7\n",
       "\n",
       "| <!--/--> | gender &lt;fct&gt; | party &lt;fct&gt; | y1 &lt;int&gt; | y2 &lt;int&gt; | y3 &lt;int&gt; | y4 &lt;int&gt; | y5 &lt;int&gt; |\n",
       "|---|---|---|---|---|---|---|---|\n",
       "| 1 | female | dem   | 25 | 105 | 86 | 28 |  4 |\n",
       "| 2 | female | repub |  0 |   5 | 15 | 83 | 32 |\n",
       "| 3 | male   | dem   | 20 |  73 | 43 | 20 |  3 |\n",
       "| 4 | male   | repub |  0 |   1 | 14 | 72 | 32 |\n",
       "\n"
      ],
      "text/plain": [
       "  gender party y1 y2  y3 y4 y5\n",
       "1 female dem   25 105 86 28  4\n",
       "2 female repub  0   5 15 83 32\n",
       "3 male   dem   20  73 43 20  3\n",
       "4 male   repub  0   1 14 72 32"
      ]
     },
     "metadata": {},
     "output_type": "display_data"
    }
   ],
   "source": [
    "Polviews <- read.table(\"http://users.stat.ufl.edu/~aa/cat/data/Polviews.dat\",\n",
    "                        header = TRUE, stringsAsFactors = TRUE)\n",
    "\n",
    "head(Polviews)                    "
   ]
  },
  {
   "cell_type": "markdown",
   "metadata": {},
   "source": [
    "Political ideology is encoded by a five-point ordinal scale, $y_1$ through $y_5$. We will define $x_1$ and $x_2$ to be indicator variables of party affiliation (0 for Democrats, 1 for Republicans) and gender (0 for females, 1 for males), respectively.\n",
    "\n",
    "There are 5 response categories, so we will have 4 intercepts, 5 $\\beta$'s, and 4 probabilities. "
   ]
  },
  {
   "cell_type": "code",
   "execution_count": 28,
   "metadata": {
    "vscode": {
     "languageId": "r"
    }
   },
   "outputs": [
    {
     "data": {
      "text/plain": [
       "\n",
       "Call:\n",
       "vglm(formula = cbind(y1, y2, y3, y4, y5) ~ party + gender, family = cumulative(parallel = TRUE), \n",
       "    data = Polviews)\n",
       "\n",
       "Coefficients: \n",
       "              Estimate Std. Error z value Pr(>|z|)    \n",
       "(Intercept):1 -2.12234    0.15568 -13.633   <2e-16 ***\n",
       "(Intercept):2  0.16889    0.09390   1.799   0.0721 .  \n",
       "(Intercept):3  1.85713    0.12575  14.768   <2e-16 ***\n",
       "(Intercept):4  4.65001    0.20434  22.757   <2e-16 ***\n",
       "partyrepub    -3.63361    0.16116 -22.547   <2e-16 ***\n",
       "gendermale     0.04731    0.10913   0.433   0.6647    \n",
       "---\n",
       "Signif. codes:  0 '***' 0.001 '**' 0.01 '*' 0.05 '.' 0.1 ' ' 1\n",
       "\n",
       "Names of linear predictors: logitlink(P[Y<=1]), logitlink(P[Y<=2]), \n",
       "logitlink(P[Y<=3]), logitlink(P[Y<=4])\n",
       "\n",
       "Residual deviance: 9.8072 on 10 degrees of freedom\n",
       "\n",
       "Log-likelihood: -35.2032 on 10 degrees of freedom\n",
       "\n",
       "Number of Fisher scoring iterations: 12 \n",
       "\n",
       "No Hauck-Donner effect found in any of the estimates\n",
       "\n",
       "\n",
       "Exponentiated coefficients:\n",
       "partyrepub gendermale \n",
       "0.02642056 1.04844229 "
      ]
     },
     "metadata": {},
     "output_type": "display_data"
    }
   ],
   "source": [
    "fit <- vglm(cbind(y1, y2, y3, y4, y5) ~ party + gender, family=cumulative(parallel=TRUE), data=Polviews)\n",
    "summary(fit)"
   ]
  },
  {
   "cell_type": "markdown",
   "metadata": {},
   "source": [
    "Let a lower number of $Y$ indicate a more liberal political view, e.g. $P(Y \\leq 1)$ is extremely liberal, whereas $P(Y > 5)$ is extremely conservative. \n",
    "\n",
    "The exponentiated coefficients give us the estimated odds. For fixed $j$,\n",
    "- the odds that a Republican's response is in the liberal direction $P(Y \\leq j)$ versus the conservative direction $P(Y > j)$ is 0.026 times the estimated odds for Democrats. \n",
    "  - on the other hand, odds that a Republican is more conservative is $1/0.026 = 37.9$ times the odds that a Democrat is more conservative \n",
    "\n",
    "\n",
    "The p-value for gender is large, indicating weak evidence. Regardless of gender, it seems that strong Republicans tend to be much more conservative (much less liberal) than strong Democrats. "
   ]
  },
  {
   "cell_type": "markdown",
   "metadata": {},
   "source": [
    "Like the baseline-categoriy logits, the individual cumulative probabilities are \n",
    "\n",
    "$$\n",
    "P(Y \\leq j) =\n",
    "\\frac{\\exp(\\alpha_j + \\beta^T x)}{1 + \\exp(\\alpha_j + \\beta^T x)}\n",
    "$$\n",
    "\n",
    "For individual response category probabilities, we have \n",
    "$$\n",
    "P(Y = j) = P(Y \\leq j) - P(Y \\leq j-1)\n",
    "$$\n",
    "\n",
    "These are shown below"
   ]
  },
  {
   "cell_type": "code",
   "execution_count": 32,
   "metadata": {
    "vscode": {
     "languageId": "r"
    }
   },
   "outputs": [
    {
     "data": {
      "text/html": [
       "<table class=\"dataframe\">\n",
       "<caption>A data.frame: 4 × 7</caption>\n",
       "<thead>\n",
       "\t<tr><th></th><th scope=col>gender</th><th scope=col>party</th><th scope=col>y1</th><th scope=col>y2</th><th scope=col>y3</th><th scope=col>y4</th><th scope=col>y5</th></tr>\n",
       "\t<tr><th></th><th scope=col>&lt;fct&gt;</th><th scope=col>&lt;fct&gt;</th><th scope=col>&lt;dbl&gt;</th><th scope=col>&lt;dbl&gt;</th><th scope=col>&lt;dbl&gt;</th><th scope=col>&lt;dbl&gt;</th><th scope=col>&lt;dbl&gt;</th></tr>\n",
       "</thead>\n",
       "<tbody>\n",
       "\t<tr><th scope=row>1</th><td>female</td><td>dem  </td><td>0.106944184</td><td>0.43517815</td><td>0.3228396</td><td>0.1255671</td><td>0.009470935</td></tr>\n",
       "\t<tr><th scope=row>2</th><td>female</td><td>repub</td><td>0.003153906</td><td>0.02717890</td><td>0.1144051</td><td>0.5895327</td><td>0.265729448</td></tr>\n",
       "\t<tr><th scope=row>3</th><td>male  </td><td>dem  </td><td>0.111546923</td><td>0.44229233</td><td>0.3165534</td><td>0.1205701</td><td>0.009037294</td></tr>\n",
       "\t<tr><th scope=row>4</th><td>male  </td><td>repub</td><td>0.003306183</td><td>0.02844935</td><td>0.1189372</td><td>0.5927051</td><td>0.256602174</td></tr>\n",
       "</tbody>\n",
       "</table>\n"
      ],
      "text/latex": [
       "A data.frame: 4 × 7\n",
       "\\begin{tabular}{r|lllllll}\n",
       "  & gender & party & y1 & y2 & y3 & y4 & y5\\\\\n",
       "  & <fct> & <fct> & <dbl> & <dbl> & <dbl> & <dbl> & <dbl>\\\\\n",
       "\\hline\n",
       "\t1 & female & dem   & 0.106944184 & 0.43517815 & 0.3228396 & 0.1255671 & 0.009470935\\\\\n",
       "\t2 & female & repub & 0.003153906 & 0.02717890 & 0.1144051 & 0.5895327 & 0.265729448\\\\\n",
       "\t3 & male   & dem   & 0.111546923 & 0.44229233 & 0.3165534 & 0.1205701 & 0.009037294\\\\\n",
       "\t4 & male   & repub & 0.003306183 & 0.02844935 & 0.1189372 & 0.5927051 & 0.256602174\\\\\n",
       "\\end{tabular}\n"
      ],
      "text/markdown": [
       "\n",
       "A data.frame: 4 × 7\n",
       "\n",
       "| <!--/--> | gender &lt;fct&gt; | party &lt;fct&gt; | y1 &lt;dbl&gt; | y2 &lt;dbl&gt; | y3 &lt;dbl&gt; | y4 &lt;dbl&gt; | y5 &lt;dbl&gt; |\n",
       "|---|---|---|---|---|---|---|---|\n",
       "| 1 | female | dem   | 0.106944184 | 0.43517815 | 0.3228396 | 0.1255671 | 0.009470935 |\n",
       "| 2 | female | repub | 0.003153906 | 0.02717890 | 0.1144051 | 0.5895327 | 0.265729448 |\n",
       "| 3 | male   | dem   | 0.111546923 | 0.44229233 | 0.3165534 | 0.1205701 | 0.009037294 |\n",
       "| 4 | male   | repub | 0.003306183 | 0.02844935 | 0.1189372 | 0.5927051 | 0.256602174 |\n",
       "\n"
      ],
      "text/plain": [
       "  gender party y1          y2         y3        y4        y5         \n",
       "1 female dem   0.106944184 0.43517815 0.3228396 0.1255671 0.009470935\n",
       "2 female repub 0.003153906 0.02717890 0.1144051 0.5895327 0.265729448\n",
       "3 male   dem   0.111546923 0.44229233 0.3165534 0.1205701 0.009037294\n",
       "4 male   repub 0.003306183 0.02844935 0.1189372 0.5927051 0.256602174"
      ]
     },
     "metadata": {},
     "output_type": "display_data"
    }
   ],
   "source": [
    "data.frame(gender, party, fitted(fit))"
   ]
  },
  {
   "cell_type": "markdown",
   "metadata": {},
   "source": [
    "### 6.2.3 Inference for cumulative logit model parameters\n",
    "\n",
    "- null is $H_0: \\ \\beta_i = 0$, ie remove the effect of a given covariate\n",
    "- removing political party covariate yields residual deviance of 413, which differs from the full model by 403\n",
    "- thus, the p-value from a $\\chi^2_1$ distribution is nearly 0, which is strong evidence for an effect of political party"
   ]
  },
  {
   "cell_type": "code",
   "execution_count": 33,
   "metadata": {
    "vscode": {
     "languageId": "r"
    }
   },
   "outputs": [
    {
     "data": {
      "text/plain": [
       "Likelihood ratio test\n",
       "\n",
       "Model 1: cbind(y1, y2, y3, y4, y5) ~ party + gender\n",
       "Model 2: cbind(y1, y2, y3, y4, y5) ~ gender\n",
       "  #Df   LogLik Df  Chisq Pr(>Chisq)    \n",
       "1  10  -35.203                         \n",
       "2  11 -236.827  1 403.25  < 2.2e-16 ***\n",
       "---\n",
       "Signif. codes:  0 '***' 0.001 '**' 0.01 '*' 0.05 '.' 0.1 ' ' 1"
      ]
     },
     "metadata": {},
     "output_type": "display_data"
    }
   ],
   "source": [
    "fit2 <- vglm(\n",
    "    cbind(y1, y2, y3, y4, y5) ~ gender, \n",
    "    family=cumulative(parallel=TRUE), data=Polviews\n",
    ")\n",
    "lrtest(fit, fit2)"
   ]
  },
  {
   "cell_type": "markdown",
   "metadata": {},
   "source": [
    "Another example relating happiness $Y$ and income $x$. We will treat both as ordinal by grouping income into scores (1,2,3): \n",
    "\n",
    "$$\n",
    "logit[P(Y \\leq j)] = \\alpha_j + \\beta x, \\quad j = 1, 2 \n",
    "$$\n",
    "\n",
    "To test the significance of income, the null model will be a model with just the intercepts. "
   ]
  },
  {
   "cell_type": "code",
   "execution_count": 34,
   "metadata": {
    "vscode": {
     "languageId": "r"
    }
   },
   "outputs": [
    {
     "data": {
      "text/html": [
       "<table class=\"dataframe\">\n",
       "<caption>A data.frame: 3 × 4</caption>\n",
       "<thead>\n",
       "\t<tr><th></th><th scope=col>income</th><th scope=col>y1</th><th scope=col>y2</th><th scope=col>y3</th></tr>\n",
       "\t<tr><th></th><th scope=col>&lt;int&gt;</th><th scope=col>&lt;int&gt;</th><th scope=col>&lt;int&gt;</th><th scope=col>&lt;int&gt;</th></tr>\n",
       "</thead>\n",
       "<tbody>\n",
       "\t<tr><th scope=row>1</th><td>1</td><td>37</td><td>90</td><td>45</td></tr>\n",
       "\t<tr><th scope=row>2</th><td>2</td><td>25</td><td>93</td><td>56</td></tr>\n",
       "\t<tr><th scope=row>3</th><td>3</td><td> 6</td><td>18</td><td>13</td></tr>\n",
       "</tbody>\n",
       "</table>\n"
      ],
      "text/latex": [
       "A data.frame: 3 × 4\n",
       "\\begin{tabular}{r|llll}\n",
       "  & income & y1 & y2 & y3\\\\\n",
       "  & <int> & <int> & <int> & <int>\\\\\n",
       "\\hline\n",
       "\t1 & 1 & 37 & 90 & 45\\\\\n",
       "\t2 & 2 & 25 & 93 & 56\\\\\n",
       "\t3 & 3 &  6 & 18 & 13\\\\\n",
       "\\end{tabular}\n"
      ],
      "text/markdown": [
       "\n",
       "A data.frame: 3 × 4\n",
       "\n",
       "| <!--/--> | income &lt;int&gt; | y1 &lt;int&gt; | y2 &lt;int&gt; | y3 &lt;int&gt; |\n",
       "|---|---|---|---|---|\n",
       "| 1 | 1 | 37 | 90 | 45 |\n",
       "| 2 | 2 | 25 | 93 | 56 |\n",
       "| 3 | 3 |  6 | 18 | 13 |\n",
       "\n"
      ],
      "text/plain": [
       "  income y1 y2 y3\n",
       "1 1      37 90 45\n",
       "2 2      25 93 56\n",
       "3 3       6 18 13"
      ]
     },
     "metadata": {},
     "output_type": "display_data"
    }
   ],
   "source": [
    "Happy <- read.table(\"http://users.stat.ufl.edu/~aa/cat/data/Happy.dat\",\n",
    "                    header = TRUE, stringsAsFactors = TRUE)\n",
    "head(Happy)     "
   ]
  },
  {
   "cell_type": "code",
   "execution_count": 47,
   "metadata": {
    "vscode": {
     "languageId": "r"
    }
   },
   "outputs": [
    {
     "data": {
      "text/html": [
       "<strong>income:</strong> -0.266845580061771"
      ],
      "text/latex": [
       "\\textbf{income:} -0.266845580061771"
      ],
      "text/markdown": [
       "**income:** -0.266845580061771"
      ],
      "text/plain": [
       "    income \n",
       "-0.2668456 "
      ]
     },
     "metadata": {},
     "output_type": "display_data"
    },
    {
     "data": {
      "text/plain": [
       "Likelihood ratio test\n",
       "\n",
       "Model 1: cbind(y1, y2, y3) ~ income\n",
       "Model 2: cbind(y1, y2, y3) ~ 1\n",
       "  #Df  LogLik Df Chisq Pr(>Chisq)  \n",
       "1   3 -14.566                      \n",
       "2   4 -16.121  1 3.109    0.07786 .\n",
       "---\n",
       "Signif. codes:  0 '***' 0.001 '**' 0.01 '*' 0.05 '.' 0.1 ' ' 1"
      ]
     },
     "metadata": {},
     "output_type": "display_data"
    }
   ],
   "source": [
    "fit <- vglm(\n",
    "    cbind(y1, y2, y3) ~ income, \n",
    "    family=cumulative(parallel=TRUE),\n",
    "    data=Happy\n",
    ")\n",
    "fit0 <- vglm(\n",
    "    cbind(y1, y2, y3) ~ 1,\n",
    "    family=cumulative(parallel=TRUE),\n",
    "    data=Happy\n",
    ")\n",
    "coef(fit)[3]\n",
    "lrtest(fit, fit0)"
   ]
  },
  {
   "cell_type": "markdown",
   "metadata": {},
   "source": [
    "The equivalent baseline-category model would treat both $Y$ and $x$ as nominal when we use indicators for $x$. eg Let $x_1$ and $x_2$ be indicators for income groups 1 and 2. Then, $(x_1, x_2) = (0,0)$ would correspond to being in income group 3. This can be written as \n",
    "\n",
    "$$\n",
    "\\log (\\pi_j / \\pi_3) = \\alpha_j + \\beta_{j1}x_1 + \\beta_{j2}x_2, \\quad j=1,2\n",
    "$$"
   ]
  },
  {
   "cell_type": "code",
   "execution_count": 45,
   "metadata": {
    "vscode": {
     "languageId": "r"
    }
   },
   "outputs": [
    {
     "name": "stderr",
     "output_type": "stream",
     "text": [
      "Warning message in vglm.fitter(x = x, y = y, w = w, offset = offset, Xm2 = Xm2, :\n",
      "\"some quantities such as z, residuals, SEs may be inaccurate due to convergence at a half-step\"\n"
     ]
    },
    {
     "data": {
      "text/plain": [
       "Likelihood ratio test\n",
       "\n",
       "Model 1: cbind(y1, y2, y3) ~ factor(income)\n",
       "Model 2: cbind(y1, y2, y3) ~ 1\n",
       "  #Df  LogLik Df  Chisq Pr(>Chisq)\n",
       "1   0 -14.058                     \n",
       "2   4 -16.121  4 4.1258     0.3892"
      ]
     },
     "metadata": {},
     "output_type": "display_data"
    }
   ],
   "source": [
    "fit2 <- vglm(\n",
    "    cbind(y1, y2, y3) ~ factor(income), \n",
    "    family=multinomial, data=Happy\n",
    ")\n",
    "fit0 <- vglm(\n",
    "    cbind(y1, y2, y3) ~ 1, \n",
    "    family=multinomial, data=Happy \n",
    ")\n",
    "lrtest(fit2, fit0)"
   ]
  },
  {
   "cell_type": "markdown",
   "metadata": {},
   "source": [
    "### 6.2.6 Laten variable models imply cumulative link models\n",
    "\n",
    "The observation of a continuous latent variable may cause it to be seen as discrete. Suppose the latent variable satisfies an ordinary linear model \n",
    "$$\n",
    "Y = \\beta^T x + \\epsilon\n",
    "$$\n",
    "where $\\epsilon$ has mean 0 and variance that is indep of $x$. Then,\n",
    "$$\n",
    "g[P(Y \\leq j)] = \\alpha_j - \\beta^T x, \\quad j = 1, \\dots, c-1 \n",
    "$$\n",
    "for a link function $g$ that depends on the distribution of $\\epsilon$. \n",
    "\n",
    "This is aka **cumulative link model**. Here, the link fn is chosen s.t. \n",
    "- the $P(Y \\leq j)$ has the same shape as the CDF of $\\epsilon$, and \n",
    "- the $\\beta$'s are the same for both the cumulative model and the original ordinary linear model \n",
    "- if $\\epsilon \\sim Normal$, then the link fn is the **probit** link\n",
    "- if $\\epsilon \\sim Logistic$, then the link fn is the **logit** link\n",
    "\n",
    "tl;dr if an ordinary linear model can explain the effects for an underlying latent variable, then it is sensible to use the cumulative logit or probit models with proportional odds \n",
    "\n",
    "### 6.2.7 Invariance to response categories\n",
    "\n",
    "for cumulative logit models, the same parameters occur regardless of how cutpoints are chosen to discretize the response $Y$. Thus, the effect parameters are **invariant** to the choice of response categories. \n",
    "- this allows comparing results from studies that use different scales for the response \n",
    "- some people collapse ordinal responses to binary to use ordinary logistic regression, but this yields larger standard errors. the loss of efficiency is less severe when going from many categories to 4 or 5, given each category has roughly equal numbers of observations"
   ]
  },
  {
   "cell_type": "markdown",
   "metadata": {},
   "source": [
    "## 6.3 Cumulative link models: model checking and extensions\n",
    "\n",
    "### 6.3.2 cumulative logit model without proportional odds \n",
    "- proportional odds implies that the distribution of $Y$ for any $x$ is either the same or shifted up/down\n",
    "  - not valid when response distributions differ in variability, \n",
    "  - eg if low income were very polarized and other income groups were moderate; the distributions of happiness would differ between low income and other income groups, but this is inconsistent with proportional odds, which implies that the effect of income is the same for all degrees of happiness \n",
    "- the general cumulative logit model has separate effects for different cumulative probabilities, ie different categories \n",
    "  - different cumulative probabilities may cross over at certain values of $x$"
   ]
  },
  {
   "cell_type": "code",
   "execution_count": 48,
   "metadata": {
    "vscode": {
     "languageId": "r"
    }
   },
   "outputs": [
    {
     "name": "stderr",
     "output_type": "stream",
     "text": [
      "Warning message in checkwz(wz, M = M, trace = trace, wzepsilon = control$wzepsilon):\n",
      "\"2 diagonal elements of the working weights variable 'wz' have been replaced by 1.819e-12\"\n"
     ]
    },
    {
     "data": {
      "text/plain": [
       "\n",
       "Call:\n",
       "vglm(formula = cbind(y1, y2, y3, y4, y5) ~ party + gender, family = cumulative(parallel = FALSE), \n",
       "    data = Polviews)\n",
       "\n",
       "Coefficients: \n",
       "                Estimate Std. Error z value Pr(>|z|)    \n",
       "(Intercept):1 -2.175e+00  1.990e-01 -10.931  < 2e-16 ***\n",
       "(Intercept):2  1.217e-01  1.097e-01   1.110    0.267    \n",
       "(Intercept):3  1.888e+00  1.498e-01  12.602  < 2e-16 ***\n",
       "(Intercept):4  4.104e+00  3.761e-01  10.912  < 2e-16 ***\n",
       "partyrepub:1  -3.637e+01  5.243e+05   0.000    1.000    \n",
       "partyrepub:2  -3.943e+00  3.921e-01 -10.056  < 2e-16 ***\n",
       "partyrepub:3  -3.681e+00  2.056e-01 -17.901  < 2e-16 ***\n",
       "partyrepub:4  -2.945e+00  3.859e-01  -7.631 2.33e-14 ***\n",
       "gendermale:1   2.183e-01  3.025e-01   0.722    0.470    \n",
       "gendermale:2   1.834e-01  1.706e-01   1.075    0.282    \n",
       "gendermale:3  -8.638e-02  1.995e-01  -0.433    0.665    \n",
       "gendermale:4  -1.463e-01  2.624e-01  -0.558    0.577    \n",
       "---\n",
       "Signif. codes:  0 '***' 0.001 '**' 0.01 '*' 0.05 '.' 0.1 ' ' 1\n",
       "\n",
       "Names of linear predictors: logitlink(P[Y<=1]), logitlink(P[Y<=2]), \n",
       "logitlink(P[Y<=3]), logitlink(P[Y<=4])\n",
       "\n",
       "Residual deviance: 3.5861 on 4 degrees of freedom\n",
       "\n",
       "Log-likelihood: -32.0927 on 4 degrees of freedom\n",
       "\n",
       "Number of Fisher scoring iterations: 16 \n",
       "\n",
       "Warning: Hauck-Donner effect detected in the following estimate(s):\n",
       "'(Intercept):4', 'partyrepub:2'\n",
       "\n",
       "\n",
       "Exponentiated coefficients:\n",
       "partyrepub:1 partyrepub:2 partyrepub:3 partyrepub:4 gendermale:1 gendermale:2 \n",
       "1.609956e-16 1.939225e-02 2.519912e-02 5.260257e-02 1.244019e+00 1.201328e+00 \n",
       "gendermale:3 gendermale:4 \n",
       "9.172426e-01 8.638705e-01 "
      ]
     },
     "metadata": {},
     "output_type": "display_data"
    }
   ],
   "source": [
    "summary(vglm(\n",
    "    cbind(y1, y2, y3, y4, y5) ~ party + gender, \n",
    "    family=cumulative(parallel=FALSE),\n",
    "    data=Polviews\n",
    "))"
   ]
  },
  {
   "cell_type": "markdown",
   "metadata": {},
   "source": [
    "The effect of Republican party membership on the first cumulative logit has a huge standard error, whereas the actual MLE is $-\\infty$. This occurs due to **quasi-complete separation**: the marginal table relating party affiliation to political ideology has nearly zero very liberal Republicans, so the effect of being a Republican on political views cannot be estimated. "
   ]
  },
  {
   "cell_type": "code",
   "execution_count": 60,
   "metadata": {
    "vscode": {
     "languageId": "r"
    }
   },
   "outputs": [
    {
     "data": {
      "text/plain": [
       "       \n",
       "party    y1  y2  y3  y4  y5\n",
       "  dem    45 178 129  48   7\n",
       "  repub   0   6  29 155  64"
      ]
     },
     "metadata": {},
     "output_type": "display_data"
    }
   ],
   "source": [
    "xtabs(cbind(y1, y2, y3, y4, y5) ~ party, Polviews)"
   ]
  },
  {
   "cell_type": "markdown",
   "metadata": {},
   "source": [
    "### 6.3.4 Modeling mental impairment\n",
    "- $Y$ = mental impairment, ordinal with categories 1-4, increasing in severity\n",
    "- $x_1$ = life events index, a measure of the number and severity of important life events\n",
    "- $x_2$ = socioeconomic status, binary with low=0 and high=1\n",
    "\n",
    "We use a latent variable induced form of the cumulative logit model with proportional odds:\n",
    "$$\n",
    "logit[P(Y \\leq j)] = \\alpha_j - \\beta^T x\n",
    "$$"
   ]
  },
  {
   "cell_type": "code",
   "execution_count": 63,
   "metadata": {
    "vscode": {
     "languageId": "r"
    }
   },
   "outputs": [
    {
     "data": {
      "text/html": [
       "<table class=\"dataframe\">\n",
       "<caption>A data.frame: 6 × 3</caption>\n",
       "<thead>\n",
       "\t<tr><th></th><th scope=col>impair</th><th scope=col>ses</th><th scope=col>life</th></tr>\n",
       "\t<tr><th></th><th scope=col>&lt;int&gt;</th><th scope=col>&lt;int&gt;</th><th scope=col>&lt;int&gt;</th></tr>\n",
       "</thead>\n",
       "<tbody>\n",
       "\t<tr><th scope=row>1</th><td>1</td><td>1</td><td>1</td></tr>\n",
       "\t<tr><th scope=row>2</th><td>1</td><td>1</td><td>9</td></tr>\n",
       "\t<tr><th scope=row>3</th><td>1</td><td>1</td><td>0</td></tr>\n",
       "\t<tr><th scope=row>4</th><td>1</td><td>1</td><td>4</td></tr>\n",
       "\t<tr><th scope=row>5</th><td>1</td><td>1</td><td>3</td></tr>\n",
       "\t<tr><th scope=row>6</th><td>1</td><td>0</td><td>2</td></tr>\n",
       "</tbody>\n",
       "</table>\n"
      ],
      "text/latex": [
       "A data.frame: 6 × 3\n",
       "\\begin{tabular}{r|lll}\n",
       "  & impair & ses & life\\\\\n",
       "  & <int> & <int> & <int>\\\\\n",
       "\\hline\n",
       "\t1 & 1 & 1 & 1\\\\\n",
       "\t2 & 1 & 1 & 9\\\\\n",
       "\t3 & 1 & 1 & 0\\\\\n",
       "\t4 & 1 & 1 & 4\\\\\n",
       "\t5 & 1 & 1 & 3\\\\\n",
       "\t6 & 1 & 0 & 2\\\\\n",
       "\\end{tabular}\n"
      ],
      "text/markdown": [
       "\n",
       "A data.frame: 6 × 3\n",
       "\n",
       "| <!--/--> | impair &lt;int&gt; | ses &lt;int&gt; | life &lt;int&gt; |\n",
       "|---|---|---|---|\n",
       "| 1 | 1 | 1 | 1 |\n",
       "| 2 | 1 | 1 | 9 |\n",
       "| 3 | 1 | 1 | 0 |\n",
       "| 4 | 1 | 1 | 4 |\n",
       "| 5 | 1 | 1 | 3 |\n",
       "| 6 | 1 | 0 | 2 |\n",
       "\n"
      ],
      "text/plain": [
       "  impair ses life\n",
       "1 1      1   1   \n",
       "2 1      1   9   \n",
       "3 1      1   0   \n",
       "4 1      1   4   \n",
       "5 1      1   3   \n",
       "6 1      0   2   "
      ]
     },
     "metadata": {},
     "output_type": "display_data"
    }
   ],
   "source": [
    "Mental <- read.table(\"http://users.stat.ufl.edu/~aa/cat/data/Mental.dat\",\n",
    "                        header = TRUE, stringsAsFactors = TRUE)\n",
    "\n",
    "head(Mental)"
   ]
  },
  {
   "cell_type": "code",
   "execution_count": 66,
   "metadata": {
    "vscode": {
     "languageId": "r"
    }
   },
   "outputs": [
    {
     "name": "stderr",
     "output_type": "stream",
     "text": [
      "\n",
      "Re-fitting to get Hessian\n",
      "\n",
      "\n"
     ]
    },
    {
     "data": {
      "text/plain": [
       "Call:\n",
       "polr(formula = y ~ life + ses, data = Mental, method = \"logistic\")\n",
       "\n",
       "Coefficients:\n",
       "       Value Std. Error t value\n",
       "life  0.3189     0.1210   2.635\n",
       "ses  -1.1112     0.6109  -1.819\n",
       "\n",
       "Intercepts:\n",
       "    Value   Std. Error t value\n",
       "1|2 -0.2819  0.6423    -0.4389\n",
       "2|3  1.2128  0.6607     1.8357\n",
       "3|4  2.2094  0.7210     3.0644\n",
       "\n",
       "Residual Deviance: 99.0979 \n",
       "AIC: 109.0979 "
      ]
     },
     "metadata": {},
     "output_type": "display_data"
    }
   ],
   "source": [
    "library(MASS, help, pos = 2, lib.loc = NULL)\n",
    "\n",
    "# polr function requires response to be a factor\n",
    "y <- factor(Mental$impair)  \n",
    "\n",
    "fit <- polr(y ~ life + ses, method=\"logistic\", data=Mental)\n",
    "\n",
    "summary(fit)"
   ]
  },
  {
   "cell_type": "markdown",
   "metadata": {},
   "source": [
    "Note the 't-values' are actually z-scores."
   ]
  },
  {
   "cell_type": "code",
   "execution_count": 67,
   "metadata": {
    "vscode": {
     "languageId": "r"
    }
   },
   "outputs": [
    {
     "data": {
      "text/html": [
       "<style>\n",
       ".dl-inline {width: auto; margin:0; padding: 0}\n",
       ".dl-inline>dt, .dl-inline>dd {float: none; width: auto; display: inline-block}\n",
       ".dl-inline>dt::after {content: \":\\0020\"; padding-right: .5ex}\n",
       ".dl-inline>dt:not(:first-of-type) {padding-left: .5ex}\n",
       "</style><dl class=dl-inline><dt>1</dt><dd>0.16178108609451</dd><dt>2</dt><dd>0.300704659140442</dd><dt>3</dt><dd>0.237292061253127</dd><dt>4</dt><dd>0.300222193511922</dd></dl>\n"
      ],
      "text/latex": [
       "\\begin{description*}\n",
       "\\item[1] 0.16178108609451\n",
       "\\item[2] 0.300704659140442\n",
       "\\item[3] 0.237292061253127\n",
       "\\item[4] 0.300222193511922\n",
       "\\end{description*}\n"
      ],
      "text/markdown": [
       "1\n",
       ":   0.161781086094512\n",
       ":   0.3007046591404423\n",
       ":   0.2372920612531274\n",
       ":   0.300222193511922\n",
       "\n"
      ],
      "text/plain": [
       "        1         2         3         4 \n",
       "0.1617811 0.3007047 0.2372921 0.3002222 "
      ]
     },
     "metadata": {},
     "output_type": "display_data"
    },
    {
     "data": {
      "text/html": [
       "<style>\n",
       ".dl-inline {width: auto; margin:0; padding: 0}\n",
       ".dl-inline>dt, .dl-inline>dd {float: none; width: auto; display: inline-block}\n",
       ".dl-inline>dt::after {content: \":\\0020\"; padding-right: .5ex}\n",
       ".dl-inline>dt:not(:first-of-type) {padding-left: .5ex}\n",
       "</style><dl class=dl-inline><dt>1</dt><dd>0.369630059563957</dd><dt>2</dt><dd>0.353670196549828</dd><dt>3</dt><dd>0.152958743184284</dd><dt>4</dt><dd>0.12374100070193</dd></dl>\n"
      ],
      "text/latex": [
       "\\begin{description*}\n",
       "\\item[1] 0.369630059563957\n",
       "\\item[2] 0.353670196549828\n",
       "\\item[3] 0.152958743184284\n",
       "\\item[4] 0.12374100070193\n",
       "\\end{description*}\n"
      ],
      "text/markdown": [
       "1\n",
       ":   0.3696300595639572\n",
       ":   0.3536701965498283\n",
       ":   0.1529587431842844\n",
       ":   0.12374100070193\n",
       "\n"
      ],
      "text/plain": [
       "        1         2         3         4 \n",
       "0.3696301 0.3536702 0.1529587 0.1237410 "
      ]
     },
     "metadata": {},
     "output_type": "display_data"
    }
   ],
   "source": [
    "predict(fit, data.frame(ses=0, life=mean(Mental$life)), type=\"probs\")\n",
    "predict(fit, data.frame(ses=1, life=mean(Mental$life)), type=\"probs\")"
   ]
  },
  {
   "cell_type": "markdown",
   "metadata": {},
   "source": [
    "The cell above computes probabilities $P(Y =i)$ for given levels of SES at *mean* life events. \n",
    "- at low SES, $P(Y=4) = 0.300$, but $P(Y=4)=0.124$ at high SES \n",
    "\n",
    "We can repeat the above for max and min life events to see how, e.g. $P(Y=4)$ changes at high SES from min to max life events. "
   ]
  },
  {
   "cell_type": "code",
   "execution_count": 68,
   "metadata": {
    "vscode": {
     "languageId": "r"
    }
   },
   "outputs": [
    {
     "data": {
      "text/html": [
       "<style>\n",
       ".dl-inline {width: auto; margin:0; padding: 0}\n",
       ".dl-inline>dt, .dl-inline>dd {float: none; width: auto; display: inline-block}\n",
       ".dl-inline>dt::after {content: \":\\0020\"; padding-right: .5ex}\n",
       ".dl-inline>dt:not(:first-of-type) {padding-left: .5ex}\n",
       "</style><dl class=dl-inline><dt>1</dt><dd>0.696212803916038</dd><dt>2</dt><dd>0.214634410171485</dd><dt>3</dt><dd>0.0542816818842262</dd><dt>4</dt><dd>0.0348711040282512</dd></dl>\n"
      ],
      "text/latex": [
       "\\begin{description*}\n",
       "\\item[1] 0.696212803916038\n",
       "\\item[2] 0.214634410171485\n",
       "\\item[3] 0.0542816818842262\n",
       "\\item[4] 0.0348711040282512\n",
       "\\end{description*}\n"
      ],
      "text/markdown": [
       "1\n",
       ":   0.6962128039160382\n",
       ":   0.2146344101714853\n",
       ":   0.05428168188422624\n",
       ":   0.0348711040282512\n",
       "\n"
      ],
      "text/plain": [
       "         1          2          3          4 \n",
       "0.69621280 0.21463441 0.05428168 0.03487110 "
      ]
     },
     "metadata": {},
     "output_type": "display_data"
    },
    {
     "data": {
      "text/html": [
       "<style>\n",
       ".dl-inline {width: auto; margin:0; padding: 0}\n",
       ".dl-inline>dt, .dl-inline>dd {float: none; width: auto; display: inline-block}\n",
       ".dl-inline>dt::after {content: \":\\0020\"; padding-right: .5ex}\n",
       ".dl-inline>dt:not(:first-of-type) {padding-left: .5ex}\n",
       "</style><dl class=dl-inline><dt>1</dt><dd>0.115023576024211</dd><dt>2</dt><dd>0.25183248193082</dd><dt>3</dt><dd>0.243985568289913</dd><dt>4</dt><dd>0.389158373755055</dd></dl>\n"
      ],
      "text/latex": [
       "\\begin{description*}\n",
       "\\item[1] 0.115023576024211\n",
       "\\item[2] 0.25183248193082\n",
       "\\item[3] 0.243985568289913\n",
       "\\item[4] 0.389158373755055\n",
       "\\end{description*}\n"
      ],
      "text/markdown": [
       "1\n",
       ":   0.1150235760242112\n",
       ":   0.251832481930823\n",
       ":   0.2439855682899134\n",
       ":   0.389158373755055\n",
       "\n"
      ],
      "text/plain": [
       "        1         2         3         4 \n",
       "0.1150236 0.2518325 0.2439856 0.3891584 "
      ]
     },
     "metadata": {},
     "output_type": "display_data"
    }
   ],
   "source": [
    "predict(fit, data.frame(ses=1, life=min(Mental$life)), type=\"probs\")\n",
    "predict(fit, data.frame(ses=1, life=max(Mental$life)), type=\"probs\")"
   ]
  },
  {
   "cell_type": "markdown",
   "metadata": {},
   "source": [
    "Rate of change in estimated probability per unit change in life events\n",
    "\n",
    "```r\n",
    "$ME.1\n",
    "     effect std.error z.value p.value\n",
    "life -0.057     0.019  -3.005   0.003\n",
    "ses   0.198     0.104   1.913   0.056\n",
    "\n",
    "$ME.4\n",
    "     effect std.error z.value p.value\n",
    "life  0.048     0.017   2.780   0.005\n",
    "ses  -0.171     0.094  -1.819   0.069\n",
    "\n",
    "attr(,\"class\")\n",
    "[1] \"ocAME\"\n",
    "```"
   ]
  },
  {
   "cell_type": "markdown",
   "metadata": {},
   "source": [
    "### 6.3.5 Latent variable probability comparison\n",
    "\n",
    "We can compare latent variables $y_1*$ and $y_2*$ that underlie responses for two groups, ie $P(Y_2* > Y_1*)$. \n",
    "\n",
    "$$\n",
    "P(Y_2* > Y_1*) = \\frac{\\exp(\\beta/\\sqrt{2})}{1 + \\exp(\\beta/\\sqrt{2})}\n",
    "$$"
   ]
  },
  {
   "cell_type": "markdown",
   "metadata": {},
   "source": [
    "### 6.3.6 Cumulative probit model"
   ]
  },
  {
   "cell_type": "code",
   "execution_count": 79,
   "metadata": {
    "vscode": {
     "languageId": "r"
    }
   },
   "outputs": [
    {
     "data": {
      "text/html": [
       "<table class=\"dataframe\">\n",
       "<caption>A data.frame: 6 × 4</caption>\n",
       "<thead>\n",
       "\t<tr><th></th><th scope=col>subject</th><th scope=col>gender</th><th scope=col>party</th><th scope=col>ideology</th></tr>\n",
       "\t<tr><th></th><th scope=col>&lt;int&gt;</th><th scope=col>&lt;fct&gt;</th><th scope=col>&lt;fct&gt;</th><th scope=col>&lt;int&gt;</th></tr>\n",
       "</thead>\n",
       "<tbody>\n",
       "\t<tr><th scope=row>1</th><td>1</td><td>female</td><td>dem</td><td>1</td></tr>\n",
       "\t<tr><th scope=row>2</th><td>2</td><td>female</td><td>dem</td><td>1</td></tr>\n",
       "\t<tr><th scope=row>3</th><td>3</td><td>female</td><td>dem</td><td>1</td></tr>\n",
       "\t<tr><th scope=row>4</th><td>4</td><td>female</td><td>dem</td><td>1</td></tr>\n",
       "\t<tr><th scope=row>5</th><td>5</td><td>female</td><td>dem</td><td>1</td></tr>\n",
       "\t<tr><th scope=row>6</th><td>6</td><td>female</td><td>dem</td><td>1</td></tr>\n",
       "</tbody>\n",
       "</table>\n"
      ],
      "text/latex": [
       "A data.frame: 6 × 4\n",
       "\\begin{tabular}{r|llll}\n",
       "  & subject & gender & party & ideology\\\\\n",
       "  & <int> & <fct> & <fct> & <int>\\\\\n",
       "\\hline\n",
       "\t1 & 1 & female & dem & 1\\\\\n",
       "\t2 & 2 & female & dem & 1\\\\\n",
       "\t3 & 3 & female & dem & 1\\\\\n",
       "\t4 & 4 & female & dem & 1\\\\\n",
       "\t5 & 5 & female & dem & 1\\\\\n",
       "\t6 & 6 & female & dem & 1\\\\\n",
       "\\end{tabular}\n"
      ],
      "text/markdown": [
       "\n",
       "A data.frame: 6 × 4\n",
       "\n",
       "| <!--/--> | subject &lt;int&gt; | gender &lt;fct&gt; | party &lt;fct&gt; | ideology &lt;int&gt; |\n",
       "|---|---|---|---|---|\n",
       "| 1 | 1 | female | dem | 1 |\n",
       "| 2 | 2 | female | dem | 1 |\n",
       "| 3 | 3 | female | dem | 1 |\n",
       "| 4 | 4 | female | dem | 1 |\n",
       "| 5 | 5 | female | dem | 1 |\n",
       "| 6 | 6 | female | dem | 1 |\n",
       "\n"
      ],
      "text/plain": [
       "  subject gender party ideology\n",
       "1 1       female dem   1       \n",
       "2 2       female dem   1       \n",
       "3 3       female dem   1       \n",
       "4 4       female dem   1       \n",
       "5 5       female dem   1       \n",
       "6 6       female dem   1       "
      ]
     },
     "metadata": {},
     "output_type": "display_data"
    }
   ],
   "source": [
    "Polviews2 <- read.table(\"http://users.stat.ufl.edu/~aa/cat/data/Polviews2.dat\",\n",
    "                        header = TRUE, stringsAsFactors = TRUE)\n",
    "\n",
    "head(Polviews2)"
   ]
  },
  {
   "cell_type": "code",
   "execution_count": 80,
   "metadata": {
    "vscode": {
     "languageId": "r"
    }
   },
   "outputs": [
    {
     "name": "stderr",
     "output_type": "stream",
     "text": [
      "\n",
      "Re-fitting to get Hessian\n",
      "\n",
      "\n"
     ]
    },
    {
     "data": {
      "text/plain": [
       "Call:\n",
       "polr(formula = y ~ party + gender, data = Polviews2, method = \"probit\")\n",
       "\n",
       "Coefficients:\n",
       "               Value Std. Error  t value\n",
       "partyrepub  2.032496    0.10996 18.48409\n",
       "gendermale -0.007489    0.08562 -0.08747\n",
       "\n",
       "Intercepts:\n",
       "    Value    Std. Error t value \n",
       "1|2  -1.2353   0.0890   -13.8853\n",
       "2|3   0.1033   0.0694     1.4901\n",
       "3|4   1.0532   0.0808    13.0376\n",
       "4|5   2.6171   0.1194    21.9153\n",
       "\n",
       "Residual Deviance: 1565.195 \n",
       "AIC: 1577.195 "
      ]
     },
     "metadata": {},
     "output_type": "display_data"
    }
   ],
   "source": [
    "y <- factor(Polviews2$ideology)\n",
    "fit.probit <- polr(y ~ party + gender, method=\"probit\", data=Polviews2)\n",
    "summary(fit.probit)"
   ]
  },
  {
   "cell_type": "markdown",
   "metadata": {},
   "source": [
    "The effect of Republican party membership is $\\beta_1 = 2.03$. \n",
    "- the estimated mean political ideology for Republicans is 2.03x higher than that for Democrats\n",
    "- the two groups' means differ by 2.03 stdevs \n",
    "\n",
    "### 6.3.7 $R^2$ for the latent variable model\n",
    "\n",
    "We can summarize predictive power for a cumulative link model by approximating $R^2$ for the latent variable model. Let $y_i*$ be the value of the latent variable for subject $i$. Then,\n",
    "\n",
    "$$\n",
    "R^2_L = \\frac{\\sum_i (\\hat{y}_i^* - E[y^*])^2}{\\sum_i (y_i^* - E[y^*])^2} = \\frac{var(\\hat{y}^*)}{var(y^*)}\n",
    "$$\n",
    "\n",
    "The denominator, $var(y^*)$, is unknown, but we approximate it as $var(y^*) = var(\\hat{y}^*) + var(e)$, where $e$ is the residual error in the latent variable model.\n",
    "- for the standard normal distribution, $e=1$\n",
    "- for the standard logistic distribution, $e = \\pi^2/3 = 3.29$"
   ]
  },
  {
   "cell_type": "code",
   "execution_count": 89,
   "metadata": {
    "vscode": {
     "languageId": "r"
    }
   },
   "outputs": [
    {
     "data": {
      "text/html": [
       "0.486984703142475"
      ],
      "text/latex": [
       "0.486984703142475"
      ],
      "text/markdown": [
       "0.486984703142475"
      ],
      "text/plain": [
       "[1] 0.4869847"
      ]
     },
     "metadata": {},
     "output_type": "display_data"
    }
   ],
   "source": [
    "fit.logit <- polr(y ~ party + gender, method=\"logistic\", data=Polviews2)\n",
    "v <- var(fit.logit$lp) / (var(fit.logit$lp) + (pi^2)/3)\n",
    "v"
   ]
  },
  {
   "cell_type": "markdown",
   "metadata": {},
   "source": [
    "Multiple correlation based on logistic latent variable model"
   ]
  },
  {
   "cell_type": "code",
   "execution_count": 83,
   "metadata": {
    "vscode": {
     "languageId": "r"
    }
   },
   "outputs": [
    {
     "data": {
      "text/html": [
       "0.697842892879532"
      ],
      "text/latex": [
       "0.697842892879532"
      ],
      "text/markdown": [
       "0.697842892879532"
      ],
      "text/plain": [
       "[1] 0.6978429"
      ]
     },
     "metadata": {},
     "output_type": "display_data"
    }
   ],
   "source": [
    "sqrt(v)"
   ]
  },
  {
   "cell_type": "markdown",
   "metadata": {},
   "source": [
    "$R^2$ for normal latent variable model for cumulative probit"
   ]
  },
  {
   "cell_type": "code",
   "execution_count": 87,
   "metadata": {
    "vscode": {
     "languageId": "r"
    }
   },
   "outputs": [
    {
     "data": {
      "text/html": [
       "0.494531003745065"
      ],
      "text/latex": [
       "0.494531003745065"
      ],
      "text/markdown": [
       "0.494531003745065"
      ],
      "text/plain": [
       "[1] 0.494531"
      ]
     },
     "metadata": {},
     "output_type": "display_data"
    },
    {
     "data": {
      "text/html": [
       "0.703228983863055"
      ],
      "text/latex": [
       "0.703228983863055"
      ],
      "text/markdown": [
       "0.703228983863055"
      ],
      "text/plain": [
       "[1] 0.703229"
      ]
     },
     "metadata": {},
     "output_type": "display_data"
    }
   ],
   "source": [
    "v2 <- var(fit.probit$lp) / (var(fit.probit$lp) + 1)\n",
    "v2; sqrt(v2)"
   ]
  },
  {
   "cell_type": "markdown",
   "metadata": {},
   "source": [
    "- 48.7% of the variability in the political ideology latent variable is explained by the two explanatory variables, political ideology and gender\n",
    "  - bc we use extreme categories of party affiliation (strong Dem/Rep), which predict ideology well\n",
    "- $R^2 = 0.487$ using just party affiliation"
   ]
  },
  {
   "cell_type": "markdown",
   "metadata": {},
   "source": [
    "## 6.4 Paired Category Logit Modelling of Ordinal Responses\n",
    "\n",
    "### 6.4.1 Adjacent-Categories Logits\n",
    "Like baseline-category, but uses logits between adjacent categories rather than baseline\n",
    "$$\n",
    "\\log \\frac{\\pi_j}{\\pi_{j+1}} = \\alpha_j + \\beta x, \\quad \n",
    "j = 1, \\dots, c-1\n",
    "$$\n",
    "\n",
    "**Properties**\n",
    "- With proportional odds form, there is only one $\\beta$ for all categories $j$. \n",
    "- uses the ordering of response scale, since $\\log(\\pi_a / \\pi_b) = (\\alpha_a - \\alpha_b) + \\beta(a-b)$, i.e. magnitude of effect depends on distance between categories being compared"
   ]
  },
  {
   "cell_type": "code",
   "execution_count": 90,
   "metadata": {
    "vscode": {
     "languageId": "r"
    }
   },
   "outputs": [
    {
     "data": {
      "text/html": [
       "<table class=\"dataframe\">\n",
       "<caption>A data.frame: 4 × 7</caption>\n",
       "<thead>\n",
       "\t<tr><th></th><th scope=col>gender</th><th scope=col>party</th><th scope=col>y1</th><th scope=col>y2</th><th scope=col>y3</th><th scope=col>y4</th><th scope=col>y5</th></tr>\n",
       "\t<tr><th></th><th scope=col>&lt;fct&gt;</th><th scope=col>&lt;fct&gt;</th><th scope=col>&lt;int&gt;</th><th scope=col>&lt;int&gt;</th><th scope=col>&lt;int&gt;</th><th scope=col>&lt;int&gt;</th><th scope=col>&lt;int&gt;</th></tr>\n",
       "</thead>\n",
       "<tbody>\n",
       "\t<tr><th scope=row>1</th><td>female</td><td>dem  </td><td>25</td><td>105</td><td>86</td><td>28</td><td> 4</td></tr>\n",
       "\t<tr><th scope=row>2</th><td>female</td><td>repub</td><td> 0</td><td>  5</td><td>15</td><td>83</td><td>32</td></tr>\n",
       "\t<tr><th scope=row>3</th><td>male  </td><td>dem  </td><td>20</td><td> 73</td><td>43</td><td>20</td><td> 3</td></tr>\n",
       "\t<tr><th scope=row>4</th><td>male  </td><td>repub</td><td> 0</td><td>  1</td><td>14</td><td>72</td><td>32</td></tr>\n",
       "</tbody>\n",
       "</table>\n"
      ],
      "text/latex": [
       "A data.frame: 4 × 7\n",
       "\\begin{tabular}{r|lllllll}\n",
       "  & gender & party & y1 & y2 & y3 & y4 & y5\\\\\n",
       "  & <fct> & <fct> & <int> & <int> & <int> & <int> & <int>\\\\\n",
       "\\hline\n",
       "\t1 & female & dem   & 25 & 105 & 86 & 28 &  4\\\\\n",
       "\t2 & female & repub &  0 &   5 & 15 & 83 & 32\\\\\n",
       "\t3 & male   & dem   & 20 &  73 & 43 & 20 &  3\\\\\n",
       "\t4 & male   & repub &  0 &   1 & 14 & 72 & 32\\\\\n",
       "\\end{tabular}\n"
      ],
      "text/markdown": [
       "\n",
       "A data.frame: 4 × 7\n",
       "\n",
       "| <!--/--> | gender &lt;fct&gt; | party &lt;fct&gt; | y1 &lt;int&gt; | y2 &lt;int&gt; | y3 &lt;int&gt; | y4 &lt;int&gt; | y5 &lt;int&gt; |\n",
       "|---|---|---|---|---|---|---|---|\n",
       "| 1 | female | dem   | 25 | 105 | 86 | 28 |  4 |\n",
       "| 2 | female | repub |  0 |   5 | 15 | 83 | 32 |\n",
       "| 3 | male   | dem   | 20 |  73 | 43 | 20 |  3 |\n",
       "| 4 | male   | repub |  0 |   1 | 14 | 72 | 32 |\n",
       "\n"
      ],
      "text/plain": [
       "  gender party y1 y2  y3 y4 y5\n",
       "1 female dem   25 105 86 28  4\n",
       "2 female repub  0   5 15 83 32\n",
       "3 male   dem   20  73 43 20  3\n",
       "4 male   repub  0   1 14 72 32"
      ]
     },
     "metadata": {},
     "output_type": "display_data"
    }
   ],
   "source": [
    "head(Polviews)"
   ]
  },
  {
   "cell_type": "markdown",
   "metadata": {},
   "source": [
    "We will use an adjacent-categories logit model to explain political ideology with $x_1$ as party affiliation and $x_2$ as gender\n",
    "\n",
    "$$\n",
    "\\log \\frac{\\pi_j}{\\pi_{j+1}} =\n",
    "\\alpha_j + \\beta_1 x_1 + \\beta_2 x_2, \\quad \n",
    "j = 1,2,3,4\n",
    "$$"
   ]
  },
  {
   "cell_type": "code",
   "execution_count": 91,
   "metadata": {
    "vscode": {
     "languageId": "r"
    }
   },
   "outputs": [
    {
     "data": {
      "text/plain": [
       "\n",
       "Call:\n",
       "vglm(formula = cbind(y1, y2, y3, y4, y5) ~ party + gender, family = acat(parallel = TRUE, \n",
       "    reverse = TRUE), data = Polviews)\n",
       "\n",
       "Coefficients: \n",
       "              Estimate Std. Error z value Pr(>|z|)    \n",
       "(Intercept):1 -1.38707    0.17079  -8.121 4.61e-16 ***\n",
       "(Intercept):2  0.36218    0.11749   3.083  0.00205 ** \n",
       "(Intercept):3  0.77529    0.14720   5.267 1.39e-07 ***\n",
       "(Intercept):4  2.99240    0.23132  12.936  < 2e-16 ***\n",
       "partyrepub    -2.23478    0.16841 -13.270  < 2e-16 ***\n",
       "gendermale     0.01212    0.09661   0.125  0.90016    \n",
       "---\n",
       "Signif. codes:  0 '***' 0.001 '**' 0.01 '*' 0.05 '.' 0.1 ' ' 1\n",
       "\n",
       "Names of linear predictors: loglink(P[Y=1]/P[Y=2]), loglink(P[Y=2]/P[Y=3]), \n",
       "loglink(P[Y=3]/P[Y=4]), loglink(P[Y=4]/P[Y=5])\n",
       "\n",
       "Residual deviance: 13.4665 on 10 degrees of freedom\n",
       "\n",
       "Log-likelihood: -37.0329 on 10 degrees of freedom\n",
       "\n",
       "Number of Fisher scoring iterations: 4 \n",
       "\n",
       "Warning: Hauck-Donner effect detected in the following estimate(s):\n",
       "'partyrepub'\n"
      ]
     },
     "metadata": {},
     "output_type": "display_data"
    }
   ],
   "source": [
    "fit <- vglm(\n",
    "    cbind(y1,y2,y3,y4,y5) ~ party + gender, \n",
    "    family=acat(parallel=TRUE, reverse=TRUE), data=Polviews\n",
    ")\n",
    "summary(fit)"
   ]
  },
  {
   "cell_type": "markdown",
   "metadata": {},
   "source": [
    "Party affiliation effect has coefficient $-2.235$: \n",
    "- estimated odds that a Republican's views are in category $j$ vs $j+1$ are $\\exp(-2.235)$ times the dods for Democrats\n",
    "  - aka **local odds ratio** bc indicates effect for a localized part of the response scale\n",
    "\n",
    "For arbitrary pair of columns, the estimated odds ratio is $\\exp[\\beta_1(b-a)]$.\n",
    "\n",
    "### 6.4.3 Seuqential logits\n",
    "Another approach uses the following logits\n",
    "$$\n",
    "\\log \\frac{\\pi_1}{\\sum^c_{i=2} \\pi_i}, \\cdots , \n",
    "\\log \\frac{\\pi_j}{\\sum^c_{i=j+1} \\pi_i}, \\cdots, \n",
    "\\log \\frac{\\pi_{c-1}}{\\pi_c}\n",
    "$$\n",
    "- sequential aka continuation-ratio logits\n",
    "- eg when sequential mechanism, eg survival, determines response outcome\n",
    "\n",
    "Sequential logits are logits of conditional probabilities\n",
    "$$\n",
    "\\begin{align}\n",
    "w_j &= P(Y = j \\mid Y \\geq j) \\\\\n",
    "\\log \\frac{\\pi_j}{\\sum^c_{i=j+1} \\pi_i} &= logit(w_j) \\\\\n",
    "&= \\log \\frac{w_j}{1-w_j}\n",
    "\\end{align}\n",
    "$$"
   ]
  },
  {
   "cell_type": "code",
   "execution_count": 95,
   "metadata": {
    "vscode": {
     "languageId": "r"
    }
   },
   "outputs": [
    {
     "data": {
      "text/html": [
       "<table class=\"dataframe\">\n",
       "<caption>A tibble: 2 × 4</caption>\n",
       "<thead>\n",
       "\t<tr><th scope=col>carrier</th><th scope=col>y1</th><th scope=col>y2</th><th scope=col>y3</th></tr>\n",
       "\t<tr><th scope=col>&lt;chr&gt;</th><th scope=col>&lt;dbl&gt;</th><th scope=col>&lt;dbl&gt;</th><th scope=col>&lt;dbl&gt;</th></tr>\n",
       "</thead>\n",
       "<tbody>\n",
       "\t<tr><td>yes</td><td> 19</td><td> 29</td><td> 24</td></tr>\n",
       "\t<tr><td>no </td><td>497</td><td>560</td><td>269</td></tr>\n",
       "</tbody>\n",
       "</table>\n"
      ],
      "text/latex": [
       "A tibble: 2 × 4\n",
       "\\begin{tabular}{llll}\n",
       " carrier & y1 & y2 & y3\\\\\n",
       " <chr> & <dbl> & <dbl> & <dbl>\\\\\n",
       "\\hline\n",
       "\t yes &  19 &  29 &  24\\\\\n",
       "\t no  & 497 & 560 & 269\\\\\n",
       "\\end{tabular}\n"
      ],
      "text/markdown": [
       "\n",
       "A tibble: 2 × 4\n",
       "\n",
       "| carrier &lt;chr&gt; | y1 &lt;dbl&gt; | y2 &lt;dbl&gt; | y3 &lt;dbl&gt; |\n",
       "|---|---|---|---|\n",
       "| yes |  19 |  29 |  24 |\n",
       "| no  | 497 | 560 | 269 |\n",
       "\n"
      ],
      "text/plain": [
       "  carrier y1  y2  y3 \n",
       "1 yes      19  29  24\n",
       "2 no      497 560 269"
      ]
     },
     "metadata": {},
     "output_type": "display_data"
    }
   ],
   "source": [
    "library(dplyr, help, pos = 2, lib.loc = NULL)\n",
    "Tonsils <- tibble(carrier = c(\"yes\", \"no\"), y1 = c(19, 497), \n",
    "                  y2 = c(29, 560), y3 = c(24, 269))\n",
    "\n",
    "Tonsils"
   ]
  },
  {
   "cell_type": "markdown",
   "metadata": {},
   "source": [
    "The data above cross-classify a sample of children by their tonsil size and whether they carry streptococcus pyogenes.\n",
    "- response = tonsil size, categorized in 3 ordered outcomes\n",
    "\n",
    "Sequential logits are natural choice bc of the sequential mechanism by which tonsils will enlarge upon infection. \n",
    "- sequential logits can model, eg\n",
    "  - P(normal size) = $\\pi_1$, and \n",
    "  - P(enlarged | enlarged or greatly enlarged) = $\\frac{\\pi_2}{\\pi_2 + \\pi_3}$\n",
    "\n",
    "Let $x$ be the indicator of strep infection. The sequential model with proportional odds is \n",
    "$$\n",
    "\\begin{align}\n",
    "\\log \\frac{\\pi_1}{\\pi_2+\\pi_3} &= \\alpha_1 + \\beta x \\\\\n",
    "\\log \\frac{\\pi_2}{\\pi_3} &= \\alpha_2 + \\beta x \n",
    "\\end{align}\n",
    "$$"
   ]
  },
  {
   "cell_type": "code",
   "execution_count": 96,
   "metadata": {
    "vscode": {
     "languageId": "r"
    }
   },
   "outputs": [
    {
     "data": {
      "text/plain": [
       "\n",
       "Call:\n",
       "vglm(formula = cbind(y1, y2, y3) ~ carrier, family = sratio(parallel = TRUE), \n",
       "    data = Tonsils)\n",
       "\n",
       "Coefficients: \n",
       "              Estimate Std. Error z value Pr(>|z|)    \n",
       "(Intercept):1 -0.51102    0.05614  -9.102  < 2e-16 ***\n",
       "(Intercept):2  0.73218    0.07286  10.049  < 2e-16 ***\n",
       "carrieryes    -0.52846    0.19775  -2.672  0.00753 ** \n",
       "---\n",
       "Signif. codes:  0 '***' 0.001 '**' 0.01 '*' 0.05 '.' 0.1 ' ' 1\n",
       "\n",
       "Names of linear predictors: logitlink(P[Y=1|Y>=1]), logitlink(P[Y=2|Y>=2])\n",
       "\n",
       "Residual deviance: 0.0057 on 1 degrees of freedom\n",
       "\n",
       "Log-likelihood: -11.7659 on 1 degrees of freedom\n",
       "\n",
       "Number of Fisher scoring iterations: 3 \n",
       "\n",
       "No Hauck-Donner effect found in any of the estimates\n"
      ]
     },
     "metadata": {},
     "output_type": "display_data"
    }
   ],
   "source": [
    "fit <- vglm(\n",
    "    cbind(y1, y2, y3) ~ carrier, \n",
    "    family = sratio(parallel=TRUE),\n",
    "    data = Tonsils\n",
    ")\n",
    "summary(fit)"
   ]
  },
  {
   "cell_type": "code",
   "execution_count": 97,
   "metadata": {
    "vscode": {
     "languageId": "r"
    }
   },
   "outputs": [
    {
     "data": {
      "text/html": [
       "<table class=\"dataframe\">\n",
       "<caption>A matrix: 2 × 3 of type dbl</caption>\n",
       "<thead>\n",
       "\t<tr><th></th><th scope=col>y1</th><th scope=col>y2</th><th scope=col>y3</th></tr>\n",
       "</thead>\n",
       "<tbody>\n",
       "\t<tr><th scope=row>1</th><td>0.2612503</td><td>0.4068696</td><td>0.3318801</td></tr>\n",
       "\t<tr><th scope=row>2</th><td>0.3749547</td><td>0.4220828</td><td>0.2029625</td></tr>\n",
       "</tbody>\n",
       "</table>\n"
      ],
      "text/latex": [
       "A matrix: 2 × 3 of type dbl\n",
       "\\begin{tabular}{r|lll}\n",
       "  & y1 & y2 & y3\\\\\n",
       "\\hline\n",
       "\t1 & 0.2612503 & 0.4068696 & 0.3318801\\\\\n",
       "\t2 & 0.3749547 & 0.4220828 & 0.2029625\\\\\n",
       "\\end{tabular}\n"
      ],
      "text/markdown": [
       "\n",
       "A matrix: 2 × 3 of type dbl\n",
       "\n",
       "| <!--/--> | y1 | y2 | y3 |\n",
       "|---|---|---|---|\n",
       "| 1 | 0.2612503 | 0.4068696 | 0.3318801 |\n",
       "| 2 | 0.3749547 | 0.4220828 | 0.2029625 |\n",
       "\n"
      ],
      "text/plain": [
       "  y1        y2        y3       \n",
       "1 0.2612503 0.4068696 0.3318801\n",
       "2 0.3749547 0.4220828 0.2029625"
      ]
     },
     "metadata": {},
     "output_type": "display_data"
    }
   ],
   "source": [
    "fitted(fit)"
   ]
  },
  {
   "cell_type": "markdown",
   "metadata": {},
   "source": [
    "There is strong evidence of association, eg\n",
    "- $\\beta = -0.523$ and $\\exp(-0.529) = 0.59$ means that, given that tonsils were larger than normal (categories 2 or 3), the odds for strep carriers of having normal sized tonsils was 0.59x the odds for non-carriers \n",
    "- accordingly, the fitted values of probabilities in the cell above show that carriers are more likely to have very large tonsils, although both carriers and non-carriers are roughly equally likely to have larger-than-normal tonsils\n",
    "\n",
    "# References\n",
    "[raymondbalise](https://raymondbalise.github.io/Agresti_IntroToCategorical/Multicategory.html#example-modeling-mental-impairment)"
   ]
  }
 ],
 "metadata": {
  "kernelspec": {
   "display_name": "R",
   "language": "R",
   "name": "ir"
  },
  "language_info": {
   "codemirror_mode": "r",
   "file_extension": ".r",
   "mimetype": "text/x-r-source",
   "name": "R",
   "pygments_lexer": "r",
   "version": "4.2.0"
  },
  "orig_nbformat": 4
 },
 "nbformat": 4,
 "nbformat_minor": 2
}
