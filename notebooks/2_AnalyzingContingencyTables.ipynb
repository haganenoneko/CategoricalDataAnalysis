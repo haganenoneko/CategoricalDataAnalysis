{
 "cells": [
  {
   "cell_type": "markdown",
   "metadata": {},
   "source": [
    "## 2. Analyzing Contingency Tables\n",
    "\n",
    "### 2.1 PSA blood test.\n",
    "- Of men who have prostate cancer, the test fails to detect it in 1 in 4. \n",
    "- Of men who do not have it, 1 in 10 have positive test results (false positives).\n",
    "- Let $C (\\bar{C})$ denote the event of having (not having) prostate cancer and let $+ (-)$ denote a positive (negative) test result.\n",
    "\n",
    "1. Which is true: $P(- \\mid C) = 1/4$ or $P(C \\mid -) = 1/4$? $P(\\bar{C} \\mid +) = 1/10$ or $P(+ \\mid \\bar{C}) = 1/10$?"
   ]
  },
  {
   "cell_type": "markdown",
   "metadata": {},
   "source": [
    "The contingency table is \n",
    "\n",
    "| Disease status | Positive test | Negative test |\n",
    "| -------------- | ------------- | ------------- |\n",
    "| $C$              | 3             | 1             |\n",
    "| $\\bar{C}$              | 1             | 9             |\n"
   ]
  },
  {
   "cell_type": "markdown",
   "metadata": {},
   "source": [
    "- $P(- \\mid C) = 1/4$\n",
    "- $P(C \\mid -) = 1/10$\n",
    "- $P(\\bar{C} \\mid +) = 1/4$\n",
    "- $P(+ \\mid \\bar{C}) = 1/10$"
   ]
  },
  {
   "cell_type": "markdown",
   "metadata": {},
   "source": [
    "2. Find the sensitivity and specificity.\n",
    "- Sensitivity = P(true positive) = 3/14 \n",
    "- specificity = P(true negative) = 9/14"
   ]
  },
  {
   "cell_type": "markdown",
   "metadata": {},
   "source": [
    "3. Of men who take the PSA test, suppose $P(C) = 0.04$. Find the cell probabilities in the 2x2 table for te joint distribution that cross classifies diagnosis $Y$ with true disease status $X$. \n",
    "\n",
    "| Disease status | Positive test | Negative test | Total |\n",
    "| -------------- | ------------- | ------------- | ----- |\n",
    "| +              | 3             | 1             | 4     |\n",
    "| -              | 9.6           | 86.4          | 96    |\n",
    "| Total          | 12.6          | 87.4          | 100      |"
   ]
  },
  {
   "cell_type": "markdown",
   "metadata": {},
   "source": [
    "4. Using (3), find the marginal distribution for the diagnosis and show that $P(C \\mid +) = 0.238$. "
   ]
  },
  {
   "cell_type": "code",
   "execution_count": 3,
   "metadata": {},
   "outputs": [
    {
     "data": {
      "text/plain": [
       "0.23809523809523808"
      ]
     },
     "execution_count": 3,
     "metadata": {},
     "output_type": "execute_result"
    }
   ],
   "source": [
    "0.03/0.126"
   ]
  },
  {
   "cell_type": "markdown",
   "metadata": {},
   "source": [
    "### 2.2 Diagnostic testing\n",
    "Let $X = \\{1, 2\\}$ where 1 is disease and 2 is no disease. Let $Y = \\{1, 2\\}$ where 1 is positive test and 2 is negative test. Let $\\pi_i = P(Y=1 \\mid X=i)$ for $i \\in \\{1, 2\\}$. Let $\\gamma$ denote the probability that a subject has the disease.\n",
    "\n",
    "1. Given that the diagnosis is positive, use Bayes' theorem to show that the probability a subject has the disease is $P(X=1 \\mid Y=1) = \\frac{\\pi_1 \\gamma}{\\pi_1 \\gamma + \\pi_2 (1-\\gamma)}$"
   ]
  },
  {
   "cell_type": "markdown",
   "metadata": {},
   "source": [
    "$$\\begin{align}\n",
    "P(X=1 \\mid Y=1) &= \\frac{P(Y=1 \\mid X=1)P(X=1))}{\\sum^2_{i=1} P(Y=1 \\mid X=i) P(X=i)} \\\\\n",
    "&= \\frac{\\pi_1 \\gamma}{\\pi_1 \\gamma + \\pi_2 (1-\\gamma)} \\\\\n",
    "\\end{align}$$"
   ]
  },
  {
   "cell_type": "markdown",
   "metadata": {},
   "source": [
    "2. For mammograms detecting breast cancer, suppose $\\gamma = 0.01$, sensitivity = $\\pi_1 = 0.86$ and specificity = $1 - \\pi_2 = 0.88$. Find the positive predictive value (PPV).\n",
    "\n",
    "PPV = $P(X=1 \\mid Y=1) = \\frac{0.86(0.01)}{0.86(0.01) + 0.88(0.99)} = \\frac{0.0086}{0.0086 + 0.8712} = 0.00977$\n"
   ]
  },
  {
   "cell_type": "markdown",
   "metadata": {},
   "source": [
    "### 2.3 UN gun homicide\n",
    "The annual gun homicide rate is 62.4 per million residents in the U.S. and 1.3 per million in Britain. Compare these via difference of proportions and relative risk. Which is better for describing the strength of association? Why?\n",
    "\n",
    "- Difference of proportions = `6.11e-5`\n",
    "- Relative risk = 62.4/1.3 = 48\n",
    "\n",
    "Relative risk is more useful because the proportions are very close to zero. "
   ]
  },
  {
   "cell_type": "markdown",
   "metadata": {},
   "source": []
  }
 ],
 "metadata": {
  "interpreter": {
   "hash": "c889a83ad70d8344910014183bfce610d0ec08d1e7f785801adf919733710116"
  },
  "kernelspec": {
   "display_name": "Python 3.10.1 ('venv': venv)",
   "language": "python",
   "name": "python3"
  },
  "language_info": {
   "codemirror_mode": {
    "name": "ipython",
    "version": 3
   },
   "file_extension": ".py",
   "mimetype": "text/x-python",
   "name": "python",
   "nbconvert_exporter": "python",
   "pygments_lexer": "ipython3",
   "version": "3.10.1"
  },
  "orig_nbformat": 4
 },
 "nbformat": 4,
 "nbformat_minor": 2
}
